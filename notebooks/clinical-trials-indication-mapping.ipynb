{
 "cells": [
  {
   "cell_type": "markdown",
   "id": "12d8d4ca",
   "metadata": {},
   "source": [
    "# Mapping Clinical Trials to ChEBI\n",
    "\n",
    "This notebook assess the impact of mapping between MeSH and ChEBI through the scope of clinical trial data from ClinicalTrials.gov. Note that this notebook is rather difficult to re-run due to the difficulty of downloading the clinical trials data in bulk."
   ]
  },
  {
   "cell_type": "code",
   "execution_count": 1,
   "id": "4021e636",
   "metadata": {},
   "outputs": [],
   "source": [
    "import time\n",
    "from collections import defaultdict\n",
    "\n",
    "import gilda\n",
    "import pandas\n",
    "import pystow\n",
    "from indra_cogex.sources.clinicaltrials import get_correct_mesh_id\n",
    "from tqdm.auto import tqdm\n",
    "\n",
    "from biomappings import load_mappings"
   ]
  },
  {
   "cell_type": "code",
   "execution_count": 2,
   "id": "178054da",
   "metadata": {},
   "outputs": [
    {
     "name": "stdout",
     "output_type": "stream",
     "text": [
      "Tue Mar  7 14:28:57 2023\n"
     ]
    }
   ],
   "source": [
    "print(time.asctime())"
   ]
  },
  {
   "cell_type": "markdown",
   "id": "2306dd9c",
   "metadata": {},
   "source": [
    "## Loading ClinicalTrials.gov data"
   ]
  },
  {
   "cell_type": "code",
   "execution_count": 3,
   "id": "1e1bca66",
   "metadata": {},
   "outputs": [
    {
     "name": "stdout",
     "output_type": "stream",
     "text": [
      "There are 422,767 clinical trials.\n"
     ]
    }
   ],
   "source": [
    "df = pandas.read_csv(\n",
    "    pystow.join(\"indra\", \"cogex\", \"clinicaltrials\", name=\"clinical_trials.csv.gz\"), skiprows=10\n",
    ")\n",
    "del df[\"Rank\"]\n",
    "\n",
    "n_trials = len(df.index)\n",
    "\n",
    "# Note that each row corresponds to a unique NCT identifier\n",
    "print(f\"There are {n_trials:,} clinical trials.\")"
   ]
  },
  {
   "cell_type": "markdown",
   "id": "067aff3d",
   "metadata": {},
   "source": [
    "Fix errors in data due to incorrect encoding of MeSH identifiers (both syntax and mismatch with labels for interventions/conditions)."
   ]
  },
  {
   "cell_type": "code",
   "execution_count": 4,
   "id": "1d37af82",
   "metadata": {},
   "outputs": [
    {
     "data": {
      "application/vnd.jupyter.widget-view+json": {
       "model_id": "",
       "version_major": 2,
       "version_minor": 0
      },
      "text/plain": [
       "0.00it [00:00, ?it/s]"
      ]
     },
     "metadata": {},
     "output_type": "display_data"
    },
    {
     "name": "stdout",
     "output_type": "stream",
     "text": [
      "72,277/422,767 (17.1%) trials are missing condition annotations.\n",
      "\n",
      "280,537/422,767 (66.4%) trials are missing intervention annotations.\n"
     ]
    }
   ],
   "source": [
    "conditions = defaultdict(list)\n",
    "missing_conditions = 0\n",
    "interventions = defaultdict(list)\n",
    "missing_interventions = 0\n",
    "\n",
    "for row in tqdm(df.itertuples(), unit_scale=True, leave=False):\n",
    "    if pandas.isna(row.ConditionMeshTerm):\n",
    "        missing_conditions += 1\n",
    "    else:\n",
    "        for mesh_id, mesh_term in zip(\n",
    "            row.ConditionMeshId.split(\"|\"), row.ConditionMeshTerm.split(\"|\")\n",
    "        ):\n",
    "            fixed_mesh_id = get_correct_mesh_id(mesh_id, mesh_term)\n",
    "            if not fixed_mesh_id:\n",
    "                continue\n",
    "\n",
    "            conditions[row.NCTId].append(fixed_mesh_id)\n",
    "    if pandas.isna(row.InterventionMeshTerm):\n",
    "        missing_interventions += 1\n",
    "    else:\n",
    "        for mesh_id, mesh_term in zip(\n",
    "            row.InterventionMeshId.split(\"|\"), row.InterventionMeshTerm.split(\"|\")\n",
    "        ):\n",
    "            fixed_mesh_id = get_correct_mesh_id(mesh_id, mesh_term)\n",
    "            if not fixed_mesh_id:\n",
    "                continue\n",
    "            interventions[row.NCTId].append(fixed_mesh_id)\n",
    "\n",
    "print(\n",
    "    f\"\"\"\\\n",
    "{missing_conditions:,}/{n_trials:,} ({missing_conditions / n_trials:.1%}) trials are \\\n",
    "missing condition annotations.\n",
    "\n",
    "{missing_interventions:,}/{n_trials:,} ({missing_interventions / n_trials:.1%}) \\\n",
    "trials are missing intervention annotations.\"\"\"\n",
    ")"
   ]
  },
  {
   "cell_type": "code",
   "execution_count": 5,
   "id": "4f490462",
   "metadata": {},
   "outputs": [
    {
     "name": "stdout",
     "output_type": "stream",
     "text": [
      "There are 4,181 unique conditions.\n",
      "There are 721,997 annotations.\n"
     ]
    }
   ],
   "source": [
    "condition_to_trials = defaultdict(list)\n",
    "for ncit_id, mesh_ids in conditions.items():\n",
    "    for mesh_id in mesh_ids:\n",
    "        condition_to_trials[mesh_id].append(ncit_id)\n",
    "n_condition_annotations = sum(len(v) for v in conditions.values())\n",
    "\n",
    "\n",
    "print(f\"There are {len(condition_to_trials):,} unique conditions.\")\n",
    "print(f\"There are {n_condition_annotations:,} annotations.\")"
   ]
  },
  {
   "cell_type": "code",
   "execution_count": 6,
   "id": "3986309c",
   "metadata": {},
   "outputs": [
    {
     "name": "stdout",
     "output_type": "stream",
     "text": [
      "There are 3,614 unique interventions\n",
      "There are 721,997 intervention annotations\n"
     ]
    }
   ],
   "source": [
    "intervention_to_trials = defaultdict(list)\n",
    "for ncit_id, mesh_ids in interventions.items():\n",
    "    for mesh_id in mesh_ids:\n",
    "        intervention_to_trials[mesh_id].append(ncit_id)\n",
    "n_intervention_annotations = sum(len(v) for v in conditions.values())\n",
    "\n",
    "print(f\"There are {len(intervention_to_trials):,} unique interventions\")\n",
    "print(f\"There are {n_intervention_annotations:,} intervention annotations\")"
   ]
  },
  {
   "cell_type": "markdown",
   "id": "7d8941dd",
   "metadata": {},
   "source": [
    "## Loading Biomappings data"
   ]
  },
  {
   "cell_type": "code",
   "execution_count": 7,
   "id": "4424d525",
   "metadata": {},
   "outputs": [
    {
     "name": "stdout",
     "output_type": "stream",
     "text": [
      "Biomappings contains 2,909 manually curated positive mappings between MeSH and ChEBI\n"
     ]
    }
   ],
   "source": [
    "mesh_chebi_mappings = {}\n",
    "\n",
    "for mapping in load_mappings():\n",
    "    if mapping[\"source prefix\"] == \"mesh\" and mapping[\"target prefix\"] == \"chebi\":\n",
    "        mesh_chebi_mappings[mapping[\"source identifier\"]] = mapping[\"target identifier\"]\n",
    "    elif mapping[\"target prefix\"] == \"mesh\" and mapping[\"source prefix\"] == \"chebi\":\n",
    "        mesh_chebi_mappings[mapping[\"target identifier\"]] = mapping[\"source identifier\"]\n",
    "\n",
    "print(\n",
    "    f\"Biomappings contains {len(mesh_chebi_mappings):,} manually curated \"\n",
    "    \"positive mappings between MeSH and ChEBI\"\n",
    ")"
   ]
  },
  {
   "cell_type": "markdown",
   "id": "70943721",
   "metadata": {},
   "source": [
    "## Analysis"
   ]
  },
  {
   "cell_type": "code",
   "execution_count": 8,
   "id": "f4aca428",
   "metadata": {},
   "outputs": [
    {
     "name": "stdout",
     "output_type": "stream",
     "text": [
      "66,690/142,213 (46.9%) trials were fully mapped\n",
      "33,652/142,213 (23.7%) trials were only partially mapped\n",
      "100,342/142,213 (70.6%) trials were either partially or fully mapped\n",
      "41,871/142,213 (29.4%) trials were unmapped\n",
      "995/2,909 (34.2%) ChEBI mappings were used\n",
      "\n"
     ]
    }
   ],
   "source": [
    "absolute_distribution = []\n",
    "relative_distribution = []\n",
    "all_mappable = 0\n",
    "some_mappable = 0\n",
    "none_mappable = 0\n",
    "n_trials = len(interventions)\n",
    "unique_chemicals = set()\n",
    "for _trial, mesh_ids in interventions.items():\n",
    "    n_mappable = 0\n",
    "    for mesh_id in mesh_ids:\n",
    "        chebi_id = mesh_chebi_mappings.get(mesh_id)\n",
    "        if chebi_id:\n",
    "            n_mappable += 1\n",
    "            unique_chemicals.add(chebi_id)\n",
    "\n",
    "    if n_mappable == len(mesh_ids):\n",
    "        all_mappable += 1\n",
    "    elif n_mappable > 0:\n",
    "        some_mappable += 1\n",
    "    else:\n",
    "        none_mappable += 1\n",
    "\n",
    "print(\n",
    "    f\"\"\"\\\n",
    "{all_mappable:,}/{n_trials:,} ({all_mappable / n_trials:.1%}) trials were fully mapped\n",
    "{some_mappable:,}/{n_trials:,} ({some_mappable / n_trials:.1%}) trials were only partially mapped\n",
    "{all_mappable + some_mappable:,}/{n_trials:,} ({(all_mappable + some_mappable) / n_trials:.1%}) trials were either partially or fully mapped\n",
    "{none_mappable:,}/{n_trials:,} ({none_mappable / n_trials:.1%}) trials were unmapped\n",
    "{len(unique_chemicals):,}/{len(mesh_chebi_mappings):,} ({len(unique_chemicals) / len(mesh_chebi_mappings):.1%}) ChEBI mappings were used\n",
    "\"\"\"\n",
    ")"
   ]
  },
  {
   "cell_type": "markdown",
   "id": "a510bac2",
   "metadata": {},
   "source": [
    "## Post-game Check\n",
    "\n",
    "This isn't actually within the scope of Biomappings, but it's interesting to see that clinical trials that don't have MeSH annotations but still have string labels for interventions can be post facto grounded."
   ]
  },
  {
   "cell_type": "code",
   "execution_count": 9,
   "id": "77fe5922",
   "metadata": {},
   "outputs": [
    {
     "data": {
      "text/html": [
       "<div>\n",
       "<style scoped>\n",
       "    .dataframe tbody tr th:only-of-type {\n",
       "        vertical-align: middle;\n",
       "    }\n",
       "\n",
       "    .dataframe tbody tr th {\n",
       "        vertical-align: top;\n",
       "    }\n",
       "\n",
       "    .dataframe thead th {\n",
       "        text-align: right;\n",
       "    }\n",
       "</style>\n",
       "<table border=\"1\" class=\"dataframe\">\n",
       "  <thead>\n",
       "    <tr style=\"text-align: right;\">\n",
       "      <th></th>\n",
       "      <th>index</th>\n",
       "      <th>InterventionName</th>\n",
       "    </tr>\n",
       "  </thead>\n",
       "  <tbody>\n",
       "    <tr>\n",
       "      <th>0</th>\n",
       "      <td>no intervention</td>\n",
       "      <td>1480</td>\n",
       "    </tr>\n",
       "    <tr>\n",
       "      <th>1</th>\n",
       "      <td>exercise</td>\n",
       "      <td>559</td>\n",
       "    </tr>\n",
       "    <tr>\n",
       "      <th>2</th>\n",
       "      <td>questionnaire</td>\n",
       "      <td>479</td>\n",
       "    </tr>\n",
       "    <tr>\n",
       "      <th>3</th>\n",
       "      <td>blood sample</td>\n",
       "      <td>275</td>\n",
       "    </tr>\n",
       "    <tr>\n",
       "      <th>4</th>\n",
       "      <td>mri</td>\n",
       "      <td>275</td>\n",
       "    </tr>\n",
       "  </tbody>\n",
       "</table>\n",
       "</div>"
      ],
      "text/plain": [
       "             index  InterventionName\n",
       "0  no intervention              1480\n",
       "1         exercise               559\n",
       "2    questionnaire               479\n",
       "3     blood sample               275\n",
       "4              mri               275"
      ]
     },
     "execution_count": 9,
     "metadata": {},
     "output_type": "execute_result"
    }
   ],
   "source": [
    "potential_df = df[pandas.isna(df.InterventionMeshTerm) & pandas.notna(df.InterventionName)]\n",
    "potential_df = potential_df.InterventionName.str.lower().value_counts().to_frame().reset_index()\n",
    "potential_df.head()"
   ]
  },
  {
   "cell_type": "code",
   "execution_count": 10,
   "id": "5a78da5b",
   "metadata": {},
   "outputs": [],
   "source": [
    "gilda.ground_df(potential_df, \"index\")"
   ]
  },
  {
   "cell_type": "code",
   "execution_count": 11,
   "id": "868af665",
   "metadata": {},
   "outputs": [
    {
     "data": {
      "text/html": [
       "<div>\n",
       "<style scoped>\n",
       "    .dataframe tbody tr th:only-of-type {\n",
       "        vertical-align: middle;\n",
       "    }\n",
       "\n",
       "    .dataframe tbody tr th {\n",
       "        vertical-align: top;\n",
       "    }\n",
       "\n",
       "    .dataframe thead th {\n",
       "        text-align: right;\n",
       "    }\n",
       "</style>\n",
       "<table border=\"1\" class=\"dataframe\">\n",
       "  <thead>\n",
       "    <tr style=\"text-align: right;\">\n",
       "      <th></th>\n",
       "      <th>index</th>\n",
       "      <th>InterventionName</th>\n",
       "      <th>index_grounded</th>\n",
       "    </tr>\n",
       "  </thead>\n",
       "  <tbody>\n",
       "    <tr>\n",
       "      <th>1</th>\n",
       "      <td>exercise</td>\n",
       "      <td>559</td>\n",
       "      <td>mesh:D015444</td>\n",
       "    </tr>\n",
       "    <tr>\n",
       "      <th>4</th>\n",
       "      <td>mri</td>\n",
       "      <td>275</td>\n",
       "      <td>hgnc:22432</td>\n",
       "    </tr>\n",
       "    <tr>\n",
       "      <th>6</th>\n",
       "      <td>acupuncture</td>\n",
       "      <td>230</td>\n",
       "      <td>mesh:D026881</td>\n",
       "    </tr>\n",
       "    <tr>\n",
       "      <th>11</th>\n",
       "      <td>data collection</td>\n",
       "      <td>188</td>\n",
       "      <td>mesh:D003625</td>\n",
       "    </tr>\n",
       "    <tr>\n",
       "      <th>12</th>\n",
       "      <td>observation</td>\n",
       "      <td>186</td>\n",
       "      <td>mesh:D019370</td>\n",
       "    </tr>\n",
       "    <tr>\n",
       "      <th>13</th>\n",
       "      <td>transcranial direct current stimulation</td>\n",
       "      <td>170</td>\n",
       "      <td>mesh:D065908</td>\n",
       "    </tr>\n",
       "    <tr>\n",
       "      <th>16</th>\n",
       "      <td>physical activity</td>\n",
       "      <td>152</td>\n",
       "      <td>mesh:D015444</td>\n",
       "    </tr>\n",
       "    <tr>\n",
       "      <th>18</th>\n",
       "      <td>intervention</td>\n",
       "      <td>126</td>\n",
       "      <td>efo:0002571</td>\n",
       "    </tr>\n",
       "    <tr>\n",
       "      <th>19</th>\n",
       "      <td>observational study</td>\n",
       "      <td>126</td>\n",
       "      <td>mesh:D064888</td>\n",
       "    </tr>\n",
       "    <tr>\n",
       "      <th>20</th>\n",
       "      <td>education</td>\n",
       "      <td>110</td>\n",
       "      <td>mesh:D004493</td>\n",
       "    </tr>\n",
       "    <tr>\n",
       "      <th>21</th>\n",
       "      <td>magnetic resonance imaging</td>\n",
       "      <td>103</td>\n",
       "      <td>mesh:D008279</td>\n",
       "    </tr>\n",
       "    <tr>\n",
       "      <th>22</th>\n",
       "      <td>deep brain stimulation</td>\n",
       "      <td>101</td>\n",
       "      <td>mesh:D046690</td>\n",
       "    </tr>\n",
       "    <tr>\n",
       "      <th>23</th>\n",
       "      <td>blood test</td>\n",
       "      <td>101</td>\n",
       "      <td>mesh:D006403</td>\n",
       "    </tr>\n",
       "    <tr>\n",
       "      <th>24</th>\n",
       "      <td>transcranial magnetic stimulation</td>\n",
       "      <td>98</td>\n",
       "      <td>mesh:D050781</td>\n",
       "    </tr>\n",
       "    <tr>\n",
       "      <th>25</th>\n",
       "      <td>surgery</td>\n",
       "      <td>97</td>\n",
       "      <td>mesh:D013502</td>\n",
       "    </tr>\n",
       "    <tr>\n",
       "      <th>28</th>\n",
       "      <td>radiation therapy</td>\n",
       "      <td>90</td>\n",
       "      <td>mesh:D011878</td>\n",
       "    </tr>\n",
       "    <tr>\n",
       "      <th>29</th>\n",
       "      <td>virtual reality</td>\n",
       "      <td>89</td>\n",
       "      <td>mesh:D000076142</td>\n",
       "    </tr>\n",
       "    <tr>\n",
       "      <th>30</th>\n",
       "      <td>radiotherapy</td>\n",
       "      <td>89</td>\n",
       "      <td>mesh:D011878</td>\n",
       "    </tr>\n",
       "    <tr>\n",
       "      <th>31</th>\n",
       "      <td>cognitive behavioral therapy</td>\n",
       "      <td>86</td>\n",
       "      <td>mesh:D015928</td>\n",
       "    </tr>\n",
       "    <tr>\n",
       "      <th>33</th>\n",
       "      <td>tocilizumab</td>\n",
       "      <td>85</td>\n",
       "      <td>mesh:C502936</td>\n",
       "    </tr>\n",
       "  </tbody>\n",
       "</table>\n",
       "</div>"
      ],
      "text/plain": [
       "                                      index  InterventionName   index_grounded\n",
       "1                                  exercise               559     mesh:D015444\n",
       "4                                       mri               275       hgnc:22432\n",
       "6                               acupuncture               230     mesh:D026881\n",
       "11                          data collection               188     mesh:D003625\n",
       "12                              observation               186     mesh:D019370\n",
       "13  transcranial direct current stimulation               170     mesh:D065908\n",
       "16                        physical activity               152     mesh:D015444\n",
       "18                             intervention               126      efo:0002571\n",
       "19                      observational study               126     mesh:D064888\n",
       "20                                education               110     mesh:D004493\n",
       "21               magnetic resonance imaging               103     mesh:D008279\n",
       "22                   deep brain stimulation               101     mesh:D046690\n",
       "23                               blood test               101     mesh:D006403\n",
       "24        transcranial magnetic stimulation                98     mesh:D050781\n",
       "25                                  surgery                97     mesh:D013502\n",
       "28                        radiation therapy                90     mesh:D011878\n",
       "29                          virtual reality                89  mesh:D000076142\n",
       "30                             radiotherapy                89     mesh:D011878\n",
       "31             cognitive behavioral therapy                86     mesh:D015928\n",
       "33                              tocilizumab                85     mesh:C502936"
      ]
     },
     "execution_count": 11,
     "metadata": {},
     "output_type": "execute_result"
    }
   ],
   "source": [
    "potential_df[potential_df[\"index_grounded\"].notna()].head(20)"
   ]
  }
 ],
 "metadata": {
  "kernelspec": {
   "display_name": "Python 3 (ipykernel)",
   "language": "python",
   "name": "python3"
  },
  "language_info": {
   "codemirror_mode": {
    "name": "ipython",
    "version": 3
   },
   "file_extension": ".py",
   "mimetype": "text/x-python",
   "name": "python",
   "nbconvert_exporter": "python",
   "pygments_lexer": "ipython3",
   "version": "3.11.0"
  }
 },
 "nbformat": 4,
 "nbformat_minor": 5
}
