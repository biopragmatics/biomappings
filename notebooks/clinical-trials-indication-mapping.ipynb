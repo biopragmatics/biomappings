{
 "cells": [
  {
   "cell_type": "markdown",
   "id": "12d8d4ca",
   "metadata": {},
   "source": [
    "# Mapping Clinical Trials to ChEBI\n",
    "\n",
    "This notebook assess the impact of mapping between MeSH and ChEBI through the scope of clinical trial data from ClinicalTrials.gov. Note that this notebook is rather difficult to re-run due to the difficulty of downloading the clinical trials data in bulk."
   ]
  },
  {
   "cell_type": "code",
   "execution_count": 1,
   "id": "4021e636",
   "metadata": {},
   "outputs": [],
   "source": [
    "from collections import defaultdict\n",
    "\n",
    "import matplotlib.pyplot as plt\n",
    "import pandas\n",
    "import pystow\n",
    "import seaborn as sns\n",
    "from indra_cogex.sources.clinicaltrials import get_correct_mesh_id\n",
    "\n",
    "from biomappings import load_mappings"
   ]
  },
  {
   "cell_type": "code",
   "execution_count": 2,
   "id": "1e1bca66",
   "metadata": {},
   "outputs": [],
   "source": [
    "df = pandas.read_csv(\n",
    "    pystow.join(\"indra\", \"cogex\", \"clinicaltrials\", name=\"clinical_trials.csv.gz\"), skiprows=10\n",
    ")\n",
    "del df[\"Rank\"]"
   ]
  },
  {
   "cell_type": "markdown",
   "id": "067aff3d",
   "metadata": {},
   "source": [
    "Fix errors in data due to incorrect encoding of MeSH identifiers (both syntax and mismatch with labels for interventions/conditions)."
   ]
  },
  {
   "cell_type": "code",
   "execution_count": 3,
   "id": "1d37af82",
   "metadata": {},
   "outputs": [],
   "source": [
    "conditions = defaultdict(list)\n",
    "interventions = defaultdict(list)\n",
    "\n",
    "for row in df.itertuples():\n",
    "    if not pandas.isna(row.ConditionMeshTerm):\n",
    "        for mesh_id, mesh_term in zip(\n",
    "            row.ConditionMeshId.split(\"|\"), row.ConditionMeshTerm.split(\"|\")\n",
    "        ):\n",
    "            fixed_mesh_id = get_correct_mesh_id(mesh_id, mesh_term)\n",
    "            if not fixed_mesh_id:\n",
    "                continue\n",
    "\n",
    "            conditions[row.NCTId].append(fixed_mesh_id)\n",
    "    if not pandas.isna(row.InterventionMeshTerm):\n",
    "        for mesh_id, mesh_term in zip(\n",
    "            row.InterventionMeshId.split(\"|\"), row.InterventionMeshTerm.split(\"|\")\n",
    "        ):\n",
    "            fixed_mesh_id = get_correct_mesh_id(mesh_id, mesh_term)\n",
    "            if not fixed_mesh_id:\n",
    "                continue\n",
    "            interventions[row.NCTId].append(fixed_mesh_id)"
   ]
  },
  {
   "cell_type": "code",
   "execution_count": 4,
   "id": "f727f116",
   "metadata": {},
   "outputs": [
    {
     "name": "stdout",
     "output_type": "stream",
     "text": [
      "Of 721,997 conditions, 4,181 are unique\n",
      "Of 279,610 intervention, 3,614 are unique\n"
     ]
    }
   ],
   "source": [
    "n_conditions = sum(len(v) for v in conditions.values())\n",
    "n_unique_conditions = len({i for v in conditions.values() for i in v})\n",
    "n_interventions = sum(len(v) for v in interventions.values())\n",
    "n_unique_interventions = len({i for v in interventions.values() for i in v})\n",
    "\n",
    "\n",
    "print(f\"Of {n_conditions:,} conditions, {n_unique_conditions:,} are unique\")\n",
    "print(f\"Of {n_interventions:,} intervention, {n_unique_interventions:,} are unique\")"
   ]
  },
  {
   "cell_type": "code",
   "execution_count": 5,
   "id": "4424d525",
   "metadata": {},
   "outputs": [
    {
     "data": {
      "text/plain": [
       "2663"
      ]
     },
     "execution_count": 5,
     "metadata": {},
     "output_type": "execute_result"
    }
   ],
   "source": [
    "mesh_chebi_mappings = {}\n",
    "\n",
    "for mapping in load_mappings():\n",
    "    if mapping[\"source prefix\"] == \"mesh\" and mapping[\"target prefix\"] == \"chebi\":\n",
    "        mesh_chebi_mappings[mapping[\"source identifier\"]] = mapping[\"target identifier\"]\n",
    "    elif mapping[\"target prefix\"] == \"mesh\" and mapping[\"source prefix\"] == \"chebi\":\n",
    "        mesh_chebi_mappings[mapping[\"target identifier\"]] = mapping[\"source identifier\"]\n",
    "\n",
    "len(mesh_chebi_mappings)"
   ]
  },
  {
   "cell_type": "code",
   "execution_count": 6,
   "id": "f4aca428",
   "metadata": {},
   "outputs": [
    {
     "name": "stdout",
     "output_type": "stream",
     "text": [
      "66,838/142,213 (47.0%) trials were fully mapped\n",
      "33,427/142,213 (23.5%) trials were only partially mapped\n",
      "100,265/142,213 (70.5%) trials were either partially or fully mapped\n",
      "41,948/142,213 (29.5%) trials were unmapped\n",
      "987/2,663 (37.1%) ChEBI mappings were used\n",
      "\n"
     ]
    }
   ],
   "source": [
    "absolute_distribution = []\n",
    "relative_distribution = []\n",
    "all_mappable = 0\n",
    "some_mappable = 0\n",
    "none_mappable = 0\n",
    "n_trials = len(interventions)\n",
    "unique_chemicals = set()\n",
    "for trial, mesh_ids in interventions.items():\n",
    "    n_mappable = 0\n",
    "    for mesh_id in mesh_ids:\n",
    "        chebi_id = mesh_chebi_mappings.get(mesh_id)\n",
    "        if chebi_id:\n",
    "            n_mappable += 1\n",
    "            unique_chemicals.add(chebi_id)\n",
    "\n",
    "    if n_mappable == len(mesh_ids):\n",
    "        all_mappable += 1\n",
    "    elif n_mappable > 0:\n",
    "        some_mappable += 1\n",
    "    else:\n",
    "        none_mappable += 1\n",
    "\n",
    "print(\n",
    "    f\"\"\"\\\n",
    "{all_mappable:,}/{n_trials:,} ({all_mappable/n_trials:.1%}) trials were fully mapped\n",
    "{some_mappable:,}/{n_trials:,} ({some_mappable/n_trials:.1%}) trials were only partially mapped\n",
    "{all_mappable + some_mappable:,}/{n_trials:,} ({(all_mappable + some_mappable)/n_trials:.1%}) trials were either partially or fully mapped\n",
    "{none_mappable:,}/{n_trials:,} ({none_mappable/n_trials:.1%}) trials were unmapped\n",
    "{len(unique_chemicals):,}/{len(mesh_chebi_mappings):,} ({len(unique_chemicals)/len(mesh_chebi_mappings):.1%}) ChEBI mappings were used\n",
    "\"\"\"\n",
    ")"
   ]
  }
 ],
 "metadata": {
  "kernelspec": {
   "display_name": "Python 3 (ipykernel)",
   "language": "python",
   "name": "python3"
  },
  "language_info": {
   "codemirror_mode": {
    "name": "ipython",
    "version": 3
   },
   "file_extension": ".py",
   "mimetype": "text/x-python",
   "name": "python",
   "nbconvert_exporter": "python",
   "pygments_lexer": "ipython3",
   "version": "3.10.8"
  }
 },
 "nbformat": 4,
 "nbformat_minor": 5
}
