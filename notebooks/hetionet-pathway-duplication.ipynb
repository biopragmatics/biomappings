{
 "cells": [
  {
   "cell_type": "markdown",
   "id": "83b0c3a7",
   "metadata": {},
   "source": [
    "This notebook uses curated mappings from Biomappings to assess the degree to which pathway and biological process nodes coming from the Gene Ontology, Reactome, Wikipathways, and NCI-PID nodes are duplicated in Hetionet.\n",
    "\n",
    "It was demonstrated by Mubeen *et al.* (2019) in [The Impact of Pathway Database Choice on Statistical Enrichment Analysis and Predictive Modeling](https://www.frontiersin.org/articles/10.3389/fgene.2019.01203/full) that merging nodes from different pathway databases representing the same pathways (but with small potential difference in the gene sets annotated for each) is beneficial for downstream analysis."
   ]
  },
  {
   "cell_type": "code",
   "execution_count": 1,
   "id": "0eb48aab",
   "metadata": {},
   "outputs": [],
   "source": [
    "import itertools as itt\n",
    "import sys\n",
    "import time\n",
    "from collections import Counter\n",
    "\n",
    "import networkx as nx\n",
    "import pandas as pd\n",
    "import pystow\n",
    "from pyobo.gilda_utils import get_grounder\n",
    "from tqdm.auto import tqdm\n",
    "\n",
    "from biomappings.graph import get_true_graph"
   ]
  },
  {
   "cell_type": "code",
   "execution_count": 2,
   "id": "4928dad6",
   "metadata": {},
   "outputs": [
    {
     "name": "stdout",
     "output_type": "stream",
     "text": [
      "3.11.0 (main, Oct 25 2022, 14:13:24) [Clang 14.0.0 (clang-1400.0.29.202)]\n"
     ]
    }
   ],
   "source": [
    "print(sys.version)"
   ]
  },
  {
   "cell_type": "code",
   "execution_count": 3,
   "id": "79fcb3ad",
   "metadata": {},
   "outputs": [
    {
     "name": "stdout",
     "output_type": "stream",
     "text": [
      "Tue Feb  7 19:04:39 2023\n"
     ]
    }
   ],
   "source": [
    "print(time.asctime())"
   ]
  },
  {
   "cell_type": "markdown",
   "id": "039a00c9",
   "metadata": {},
   "source": [
    "# Data Loading\n",
    "\n",
    "Load the Biomappings data"
   ]
  },
  {
   "cell_type": "code",
   "execution_count": 4,
   "id": "8d83e3bf",
   "metadata": {},
   "outputs": [],
   "source": [
    "true_graph = get_true_graph()"
   ]
  },
  {
   "cell_type": "markdown",
   "id": "9b878eb5",
   "metadata": {},
   "source": [
    "Load the Hetionet data into a data frame"
   ]
  },
  {
   "cell_type": "code",
   "execution_count": 5,
   "id": "c9642ce8",
   "metadata": {},
   "outputs": [],
   "source": [
    "URL = \"https://github.com/hetio/hetionet/raw/master/hetnet/json/hetionet-v1.0.json.bz2\"\n",
    "data = pystow.ensure_json_bz2(\"bio\", \"hetionet\", \"1.0\", url=URL)"
   ]
  },
  {
   "cell_type": "code",
   "execution_count": 6,
   "id": "1b6a779a",
   "metadata": {},
   "outputs": [
    {
     "data": {
      "application/vnd.jupyter.widget-view+json": {
       "model_id": "ece9cee900a8498183f12e9d57abf8aa",
       "version_major": 2,
       "version_minor": 0
      },
      "text/plain": [
       "  0%|          | 0.00/47.0k [00:00<?, ?node/s]"
      ]
     },
     "metadata": {},
     "output_type": "display_data"
    },
    {
     "data": {
      "text/html": [
       "<div>\n",
       "<style scoped>\n",
       "    .dataframe tbody tr th:only-of-type {\n",
       "        vertical-align: middle;\n",
       "    }\n",
       "\n",
       "    .dataframe tbody tr th {\n",
       "        vertical-align: top;\n",
       "    }\n",
       "\n",
       "    .dataframe thead th {\n",
       "        text-align: right;\n",
       "    }\n",
       "</style>\n",
       "<table border=\"1\" class=\"dataframe\">\n",
       "  <thead>\n",
       "    <tr style=\"text-align: right;\">\n",
       "      <th></th>\n",
       "      <th>kind</th>\n",
       "      <th>identifier</th>\n",
       "      <th>name</th>\n",
       "      <th>source</th>\n",
       "    </tr>\n",
       "  </thead>\n",
       "  <tbody>\n",
       "    <tr>\n",
       "      <th>0</th>\n",
       "      <td>Molecular Function</td>\n",
       "      <td>GO:0031753</td>\n",
       "      <td>endothelial differentiation G-protein coupled ...</td>\n",
       "      <td>Gene Ontology</td>\n",
       "    </tr>\n",
       "    <tr>\n",
       "      <th>1</th>\n",
       "      <td>Side Effect</td>\n",
       "      <td>C0023448</td>\n",
       "      <td>Lymphocytic leukaemia</td>\n",
       "      <td>UMLS via SIDER 4.1</td>\n",
       "    </tr>\n",
       "    <tr>\n",
       "      <th>2</th>\n",
       "      <td>Gene</td>\n",
       "      <td>5345</td>\n",
       "      <td>SERPINF2</td>\n",
       "      <td>Entrez Gene</td>\n",
       "    </tr>\n",
       "    <tr>\n",
       "      <th>3</th>\n",
       "      <td>Gene</td>\n",
       "      <td>9409</td>\n",
       "      <td>PEX16</td>\n",
       "      <td>Entrez Gene</td>\n",
       "    </tr>\n",
       "    <tr>\n",
       "      <th>4</th>\n",
       "      <td>Biological Process</td>\n",
       "      <td>GO:0032474</td>\n",
       "      <td>otolith morphogenesis</td>\n",
       "      <td>Gene Ontology</td>\n",
       "    </tr>\n",
       "  </tbody>\n",
       "</table>\n",
       "</div>"
      ],
      "text/plain": [
       "                 kind  identifier  \\\n",
       "0  Molecular Function  GO:0031753   \n",
       "1         Side Effect    C0023448   \n",
       "2                Gene        5345   \n",
       "3                Gene        9409   \n",
       "4  Biological Process  GO:0032474   \n",
       "\n",
       "                                                name              source  \n",
       "0  endothelial differentiation G-protein coupled ...       Gene Ontology  \n",
       "1                              Lymphocytic leukaemia  UMLS via SIDER 4.1  \n",
       "2                                           SERPINF2         Entrez Gene  \n",
       "3                                              PEX16         Entrez Gene  \n",
       "4                              otolith morphogenesis       Gene Ontology  "
      ]
     },
     "execution_count": 6,
     "metadata": {},
     "output_type": "execute_result"
    }
   ],
   "source": [
    "rows = [\n",
    "    (\n",
    "        record[\"kind\"],\n",
    "        record[\"identifier\"],\n",
    "        record[\"name\"],\n",
    "        record[\"data\"][\"source\"],\n",
    "        # record[\"data\"].get(\"url\"),\n",
    "        # record[\"data\"].get(\"description\"),\n",
    "    )\n",
    "    for record in tqdm(data[\"nodes\"], unit_scale=True, unit=\"node\")\n",
    "]\n",
    "df = pd.DataFrame(\n",
    "    rows,\n",
    "    columns=[\"kind\", \"identifier\", \"name\", \"source\"],\n",
    ")\n",
    "df.head()"
   ]
  },
  {
   "cell_type": "markdown",
   "id": "54bb9677",
   "metadata": {},
   "source": [
    "What are the unique kinds of nodes in hetionet?"
   ]
  },
  {
   "cell_type": "code",
   "execution_count": 7,
   "id": "3a996346",
   "metadata": {},
   "outputs": [
    {
     "data": {
      "text/plain": [
       "array(['Molecular Function', 'Side Effect', 'Gene', 'Biological Process',\n",
       "       'Compound', 'Pathway', 'Anatomy', 'Cellular Component', 'Symptom',\n",
       "       'Disease', 'Pharmacologic Class'], dtype=object)"
      ]
     },
     "execution_count": 7,
     "metadata": {},
     "output_type": "execute_result"
    }
   ],
   "source": [
    "df.kind.unique()"
   ]
  },
  {
   "cell_type": "markdown",
   "id": "e2679884",
   "metadata": {},
   "source": [
    "# Identify Redundant Pathways\n",
    "\n",
    "Where do pathways come from?"
   ]
  },
  {
   "cell_type": "code",
   "execution_count": 8,
   "id": "aa535b7f",
   "metadata": {},
   "outputs": [
    {
     "data": {
      "text/plain": [
       "source\n",
       "PID via Pathway Commons          220\n",
       "Reactome via Pathway Commons    1308\n",
       "WikiPathways                     294\n",
       "Name: identifier, dtype: int64"
      ]
     },
     "execution_count": 8,
     "metadata": {},
     "output_type": "execute_result"
    }
   ],
   "source": [
    "df[df.kind == \"Pathway\"].groupby(\"source\").count()[\"identifier\"]"
   ]
  },
  {
   "cell_type": "markdown",
   "id": "f1199aed",
   "metadata": {},
   "source": [
    "Biological processes and pathways are the same, but these are split into their own \"kind\"."
   ]
  },
  {
   "cell_type": "code",
   "execution_count": 9,
   "id": "d1eff662",
   "metadata": {},
   "outputs": [
    {
     "data": {
      "text/plain": [
       "11381"
      ]
     },
     "execution_count": 9,
     "metadata": {},
     "output_type": "execute_result"
    }
   ],
   "source": [
    "df[df.kind == \"Biological Process\"].count()[\"identifier\"]"
   ]
  },
  {
   "cell_type": "markdown",
   "id": "d323a014",
   "metadata": {},
   "source": [
    "## Mapping Pathways from WikiPathways and GO\n",
    "\n",
    "WikiPathway and GO are possible to map to standard CURIEs with string operations"
   ]
  },
  {
   "cell_type": "code",
   "execution_count": 10,
   "id": "c0575e10",
   "metadata": {},
   "outputs": [],
   "source": [
    "idx = (df.kind == \"Pathway\") & (df.source == \"WikiPathways\")\n",
    "wikipathways_mapping = {wpid: \"wikipathways:\" + wpid.split(\"_\")[0] for wpid in df[idx].identifier}"
   ]
  },
  {
   "cell_type": "code",
   "execution_count": 11,
   "id": "163227f3",
   "metadata": {},
   "outputs": [],
   "source": [
    "go_mapping = {\n",
    "    go_curie: go_curie.lower() for go_curie in df[df.kind == \"Biological Process\"].identifier\n",
    "}"
   ]
  },
  {
   "cell_type": "markdown",
   "id": "789f37e0",
   "metadata": {},
   "source": [
    "## Grounding Pathways from Reactome and NCI-PID\n",
    "\n",
    "Unfortunately, Hetionet imports pathways via Pathway Commons, so its provenance information is mostly lost (i.e., the identifiers are opaque)."
   ]
  },
  {
   "cell_type": "code",
   "execution_count": 13,
   "id": "0502ca36",
   "metadata": {},
   "outputs": [
    {
     "data": {
      "application/vnd.jupyter.widget-view+json": {
       "model_id": "be89595b2f8b4304901d77f5b8c4a5b4",
       "version_major": 2,
       "version_minor": 0
      },
      "text/plain": [
       "[pid] mapping:   0%|          | 0.00/211 [00:00<?, ?name/s]"
      ]
     },
     "metadata": {},
     "output_type": "display_data"
    },
    {
     "name": "stdout",
     "output_type": "stream",
     "text": [
      "Pid species count: Counter({None: 211})\n"
     ]
    },
    {
     "data": {
      "application/vnd.jupyter.widget-view+json": {
       "model_id": "e644334126b94ec9bb620724663390d1",
       "version_major": 2,
       "version_minor": 0
      },
      "text/plain": [
       "Grounding:   0%|          | 0.00/220 [00:00<?, ?it/s]"
      ]
     },
     "metadata": {},
     "output_type": "display_data"
    },
    {
     "name": "stdout",
     "output_type": "stream",
     "text": [
      "Pid got 193/220 (87.7%) groundings\n"
     ]
    },
    {
     "data": {
      "application/vnd.jupyter.widget-view+json": {
       "model_id": "16d1c243480c4e5ca3a8661ab5268eee",
       "version_major": 2,
       "version_minor": 0
      },
      "text/plain": [
       "[reactome] mapping:   0%|          | 0.00/22.0k [00:00<?, ?name/s]"
      ]
     },
     "metadata": {},
     "output_type": "display_data"
    },
    {
     "name": "stdout",
     "output_type": "stream",
     "text": [
      "Reactome species count: Counter({'9606': 2610, '10090': 1717, '9031': 1707, '10116': 1704, '9913': 1698, '7955': 1678, '9823': 1662, '9615': 1659, '8364': 1581, '7227': 1479, '6239': 1308, '44689': 988, '4896': 821, '4932': 815, '5833': 600, '1773': 13})\n"
     ]
    },
    {
     "data": {
      "application/vnd.jupyter.widget-view+json": {
       "model_id": "e0b3dc9f4b404f0b9d213f21ca09b07b",
       "version_major": 2,
       "version_minor": 0
      },
      "text/plain": [
       "Grounding:   0%|          | 0.00/1.31k [00:00<?, ?it/s]"
      ]
     },
     "metadata": {},
     "output_type": "display_data"
    },
    {
     "name": "stdout",
     "output_type": "stream",
     "text": [
      "Reactome got 1,096/1,308 (83.8%) groundings\n"
     ]
    }
   ],
   "source": [
    "def get_mappings(prefix, source):\n",
    "    grounder = get_grounder(prefix)\n",
    "    counter = Counter(term.organism for terms in grounder.entries.values() for term in terms)\n",
    "    print(f\"{prefix.capitalize()} species count: {counter}\")\n",
    "\n",
    "    idx = (df.kind == \"Pathway\") & (df.source == source)\n",
    "    it = tqdm(df[idx].values, unit_scale=True, desc=\"Grounding\")\n",
    "    rv = {}\n",
    "    for _, identifier, name, _ in it:\n",
    "        res = grounder.ground(name, organisms=[\"9606\"])\n",
    "        if res:\n",
    "            rv[identifier] = prefix + \":\" + res[0].term.id\n",
    "\n",
    "    total = idx.sum()\n",
    "    n = len(rv)\n",
    "    print(f\"{prefix.capitalize()} got {n:,}/{total:,} ({n / total:.1%}) groundings\")\n",
    "    return rv\n",
    "\n",
    "\n",
    "pid_mapping = get_mappings(\"pid\", \"PID via Pathway Commons\")\n",
    "reactome_mapping = get_mappings(\"reactome\", \"Reactome via Pathway Commons\")"
   ]
  },
  {
   "cell_type": "markdown",
   "id": "18795184",
   "metadata": {},
   "source": [
    "## Compare\n",
    "\n",
    "An all-by-all comparison is done to see how many nodes are overlapping between each resource that appear in Hetionet."
   ]
  },
  {
   "cell_type": "code",
   "execution_count": 14,
   "id": "4fa7074f",
   "metadata": {},
   "outputs": [
    {
     "data": {
      "application/vnd.jupyter.widget-view+json": {
       "model_id": "d096aa0be28f40b5a4503233433516e4",
       "version_major": 2,
       "version_minor": 0
      },
      "text/plain": [
       "reactome - go:   0%|          | 0.00/12.5M [00:00<?, ?pair/s]"
      ]
     },
     "metadata": {},
     "output_type": "display_data"
    },
    {
     "name": "stdout",
     "output_type": "stream",
     "text": [
      "reactome - go had 95\n"
     ]
    },
    {
     "data": {
      "application/vnd.jupyter.widget-view+json": {
       "model_id": "58fc16a63a5b423f84d8d6550371c692",
       "version_major": 2,
       "version_minor": 0
      },
      "text/plain": [
       "reactome - wikipathways:   0%|          | 0.00/322k [00:00<?, ?pair/s]"
      ]
     },
     "metadata": {},
     "output_type": "display_data"
    },
    {
     "name": "stdout",
     "output_type": "stream",
     "text": [
      "reactome - wikipathways had 42\n"
     ]
    },
    {
     "data": {
      "application/vnd.jupyter.widget-view+json": {
       "model_id": "7b3c1be3f0904eb6896beec0190930c4",
       "version_major": 2,
       "version_minor": 0
      },
      "text/plain": [
       "reactome - pid:   0%|          | 0.00/212k [00:00<?, ?pair/s]"
      ]
     },
     "metadata": {},
     "output_type": "display_data"
    },
    {
     "name": "stdout",
     "output_type": "stream",
     "text": [
      "reactome - pid had 0\n"
     ]
    },
    {
     "data": {
      "application/vnd.jupyter.widget-view+json": {
       "model_id": "ded486b7162242d281a1d1cc7cb4fc03",
       "version_major": 2,
       "version_minor": 0
      },
      "text/plain": [
       "go - wikipathways:   0%|          | 0.00/3.35M [00:00<?, ?pair/s]"
      ]
     },
     "metadata": {},
     "output_type": "display_data"
    },
    {
     "name": "stdout",
     "output_type": "stream",
     "text": [
      "go - wikipathways had 34\n"
     ]
    },
    {
     "data": {
      "application/vnd.jupyter.widget-view+json": {
       "model_id": "35e56645d99449d1983438d6cb2a7d64",
       "version_major": 2,
       "version_minor": 0
      },
      "text/plain": [
       "go - pid:   0%|          | 0.00/2.20M [00:00<?, ?pair/s]"
      ]
     },
     "metadata": {},
     "output_type": "display_data"
    },
    {
     "name": "stdout",
     "output_type": "stream",
     "text": [
      "go - pid had 0\n"
     ]
    },
    {
     "data": {
      "application/vnd.jupyter.widget-view+json": {
       "model_id": "0ff5a4728ef84075aa62ecb341f37261",
       "version_major": 2,
       "version_minor": 0
      },
      "text/plain": [
       "wikipathways - pid:   0%|          | 0.00/56.7k [00:00<?, ?pair/s]"
      ]
     },
     "metadata": {},
     "output_type": "display_data"
    },
    {
     "name": "stdout",
     "output_type": "stream",
     "text": [
      "wikipathways - pid had 0\n"
     ]
    }
   ],
   "source": [
    "mappings = [\n",
    "    (\"reactome\", reactome_mapping),\n",
    "    (\"go\", go_mapping),\n",
    "    (\"wikipathways\", wikipathways_mapping),\n",
    "    (\"pid\", pid_mapping),\n",
    "]\n",
    "\n",
    "merge_graph = nx.Graph()\n",
    "\n",
    "for (p1, d1), (p2, d2) in itt.combinations(mappings, 2):\n",
    "    label = f\"{p1} - {p2}\"\n",
    "    it = tqdm(\n",
    "        itt.product(d1.items(), d2.items()),\n",
    "        desc=label,\n",
    "        total=len(d1) * len(d2),\n",
    "        unit_scale=True,\n",
    "        unit=\"pair\",\n",
    "    )\n",
    "    c = 0\n",
    "    for (hetio_id_1, curie_1), (hetio_id_2, curie_2) in it:\n",
    "        if true_graph.has_edge(curie_1, curie_2):\n",
    "            merge_graph.add_edge(hetio_id_1, hetio_id_2)\n",
    "            c += 1\n",
    "    tqdm.write(f\"{label} had {c}\")"
   ]
  },
  {
   "cell_type": "code",
   "execution_count": 15,
   "id": "701e1b27",
   "metadata": {},
   "outputs": [
    {
     "name": "stdout",
     "output_type": "stream",
     "text": [
      "There are 318 that participate in duplicates, forming 150 connected components in the mapping graph. Therefore, 168 nodes for pathways are duplicates.\n"
     ]
    }
   ],
   "source": [
    "n_components = len(list(nx.connected_components(merge_graph)))\n",
    "n_nodes = merge_graph.number_of_nodes()\n",
    "duplicates = n_nodes - n_components\n",
    "\n",
    "print(\n",
    "    f\"There are {n_nodes} that participate in duplicates, \"\n",
    "    f\"forming {n_components} connected components in the mapping graph. \"\n",
    "    f\"Therefore, {duplicates} nodes for pathways are duplicates.\"\n",
    ")"
   ]
  }
 ],
 "metadata": {
  "kernelspec": {
   "display_name": "Python 3 (ipykernel)",
   "language": "python",
   "name": "python3"
  },
  "language_info": {
   "codemirror_mode": {
    "name": "ipython",
    "version": 3
   },
   "file_extension": ".py",
   "mimetype": "text/x-python",
   "name": "python",
   "nbconvert_exporter": "python",
   "pygments_lexer": "ipython3",
   "version": "3.11.0"
  }
 },
 "nbformat": 4,
 "nbformat_minor": 5
}
