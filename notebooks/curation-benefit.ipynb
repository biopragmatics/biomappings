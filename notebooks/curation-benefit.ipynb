{
 "cells": [
  {
   "cell_type": "markdown",
   "id": "0c43c3fe",
   "metadata": {},
   "source": [
    "This notebook assesses the added value Biomappings gives to several resources."
   ]
  },
  {
   "cell_type": "code",
   "execution_count": 1,
   "id": "e4d17b26",
   "metadata": {},
   "outputs": [],
   "source": [
    "import json\n",
    "import sys\n",
    "import time\n",
    "from collections import Counter, defaultdict\n",
    "from dataclasses import dataclass\n",
    "from functools import lru_cache\n",
    "from textwrap import dedent\n",
    "\n",
    "import bioontologies\n",
    "import bioregistry\n",
    "import bioversions\n",
    "import matplotlib.pyplot as plt\n",
    "import pandas as pd\n",
    "import pyobo\n",
    "import pystow\n",
    "from IPython.display import HTML\n",
    "from matplotlib_venn import venn2\n",
    "from tabulate import tabulate\n",
    "from tqdm.auto import tqdm\n",
    "\n",
    "import biomappings\n",
    "from biomappings.paper_analysis import (\n",
    "    EVALUATION,\n",
    "    Result,\n",
    "    get_non_obo_mappings,\n",
    "    get_obo_mappings,\n",
    "    get_primary_mappings,\n",
    "    index_mappings,\n",
    ")"
   ]
  },
  {
   "cell_type": "code",
   "execution_count": 2,
   "id": "c17f030e",
   "metadata": {},
   "outputs": [
    {
     "name": "stdout",
     "output_type": "stream",
     "text": [
      "3.10.8 (main, Oct 13 2022, 10:17:43) [Clang 14.0.0 (clang-1400.0.29.102)]\n",
      "Mon Oct 31 16:52:10 2022\n"
     ]
    }
   ],
   "source": [
    "print(sys.version)\n",
    "print(time.asctime())"
   ]
  },
  {
   "cell_type": "code",
   "execution_count": 3,
   "id": "7c9a3c2d",
   "metadata": {},
   "outputs": [],
   "source": [
    "evaluation_results = []"
   ]
  },
  {
   "cell_type": "markdown",
   "id": "8ed323d5",
   "metadata": {},
   "source": [
    "# Importing Mappings"
   ]
  },
  {
   "cell_type": "markdown",
   "id": "b479008b",
   "metadata": {},
   "source": [
    "## Biomappings\n",
    "\n",
    "Manually curated mappings from Biomappings"
   ]
  },
  {
   "cell_type": "code",
   "execution_count": 4,
   "id": "9856deb9",
   "metadata": {
    "scrolled": true
   },
   "outputs": [],
   "source": [
    "biomappings_dd = index_mappings(\n",
    "    biomappings.load_mappings(),\n",
    "    path=EVALUATION.join(name=\"positive_mapping_index.pkl\"),\n",
    ")"
   ]
  },
  {
   "cell_type": "markdown",
   "id": "43aa72ae",
   "metadata": {},
   "source": [
    "Predicted mappings from Biomappings"
   ]
  },
  {
   "cell_type": "code",
   "execution_count": 5,
   "id": "63447085",
   "metadata": {},
   "outputs": [],
   "source": [
    "biomappings_predictions_dd = index_mappings(\n",
    "    biomappings.load_predictions(),\n",
    "    path=EVALUATION.join(name=\"predicted_mapping_index.pkl\"),\n",
    ")"
   ]
  },
  {
   "cell_type": "markdown",
   "id": "ccfe91ee",
   "metadata": {},
   "source": [
    "## Primary Mappings"
   ]
  },
  {
   "cell_type": "markdown",
   "id": "cd2953c6",
   "metadata": {},
   "source": [
    "Get primary mappings from 1) OBO ontologies that can be parsed with ROBOT and 2) other resoruces, via PyOBO."
   ]
  },
  {
   "cell_type": "code",
   "execution_count": 6,
   "id": "989bfbce",
   "metadata": {},
   "outputs": [
    {
     "data": {
      "application/vnd.jupyter.widget-view+json": {
       "model_id": "c04d6c3670ef42ddb033c2c51734f343",
       "version_major": 2,
       "version_minor": 0
      },
      "text/plain": [
       "Extracting umls from doid:   0%|          | 0.00/13.7k [00:00<?, ?node/s]"
      ]
     },
     "metadata": {},
     "output_type": "display_data"
    },
    {
     "name": "stdout",
     "output_type": "stream",
     "text": [
      "could not parse OBO internal relation: http://purl.obolibrary.org/obo/doid#DO_rare_slim\n",
      "could not parse OBO internal relation: http://purl.obolibrary.org/obo/doid#DO_AGR_slim\n",
      "could not parse OBO internal relation: http://purl.obolibrary.org/obo/doid#DO_CFDE_slim\n",
      "could not parse OBO internal relation: http://purl.obolibrary.org/obo/doid#gram-negative_bacterial_infectious_disease\n",
      "could not parse OBO internal relation: http://purl.obolibrary.org/obo/doid#DO_IEDB_slim\n",
      "could not parse OBO internal relation: http://purl.obolibrary.org/obo/doid#DO_GXD_slim\n",
      "could not parse OBO internal relation: http://purl.obolibrary.org/obo/doid#zoonotic_infectious_disease\n",
      "could not parse OBO internal relation: http://purl.obolibrary.org/obo/doid#tick-borne_infectious_disease\n",
      "could not parse OBO internal relation: http://purl.obolibrary.org/obo/doid#TopNodes_DOcancerslim\n",
      "could not parse OBO internal relation: http://purl.obolibrary.org/obo/doid#DO_FlyBase_slim\n",
      "could not parse OBO internal relation: http://purl.obolibrary.org/obo/doid#NCIthesaurus\n",
      "could not parse OBO internal relation: http://purl.obolibrary.org/obo/doid#sexually_transmitted_infectious_disease\n",
      "could not parse OBO internal relation: http://purl.obolibrary.org/obo/doid#gram-positive_bacterial_infectious_disease\n",
      "could not parse OBO internal relation: http://purl.obolibrary.org/obo/doid#GOLD\n",
      "could not parse OBO internal relation: http://purl.obolibrary.org/obo/doid#DO_cancer_slim\n",
      "could not parse OBO internal relation: http://purl.obolibrary.org/obo/doid#DO_MGI_slim\n",
      "could not parse OBO internal relation: http://purl.obolibrary.org/obo/doid#DO_RAD_slim\n"
     ]
    },
    {
     "data": {
      "application/vnd.jupyter.widget-view+json": {
       "model_id": "bde28de9647243dc98ad23a147215443",
       "version_major": 2,
       "version_minor": 0
      },
      "text/plain": [
       "Extracting umls from doid:   0%|          | 0.00/372 [00:00<?, ?node/s]"
      ]
     },
     "metadata": {},
     "output_type": "display_data"
    },
    {
     "data": {
      "application/vnd.jupyter.widget-view+json": {
       "model_id": "45f9784292f842419f2674e1942babbe",
       "version_major": 2,
       "version_minor": 0
      },
      "text/plain": [
       "Extracting umls from doid:   0%|          | 0.00/185 [00:00<?, ?node/s]"
      ]
     },
     "metadata": {},
     "output_type": "display_data"
    },
    {
     "data": {
      "application/vnd.jupyter.widget-view+json": {
       "model_id": "37c35a5d988b48868dac03dfe132f23c",
       "version_major": 2,
       "version_minor": 0
      },
      "text/plain": [
       "Extracting umls from doid:   0%|          | 0.00/27.0 [00:00<?, ?node/s]"
      ]
     },
     "metadata": {},
     "output_type": "display_data"
    },
    {
     "data": {
      "application/vnd.jupyter.widget-view+json": {
       "model_id": "2259d661df98462a83b4a3f58d71de18",
       "version_major": 2,
       "version_minor": 0
      },
      "text/plain": [
       "Extracting umls from doid:   0%|          | 0.00/16.0 [00:00<?, ?node/s]"
      ]
     },
     "metadata": {},
     "output_type": "display_data"
    },
    {
     "data": {
      "application/vnd.jupyter.widget-view+json": {
       "model_id": "a3a5fe434ae3489f8bccb315e5946b07",
       "version_major": 2,
       "version_minor": 0
      },
      "text/plain": [
       "Extracting umls from doid:   0%|          | 0.00/59.0 [00:00<?, ?node/s]"
      ]
     },
     "metadata": {},
     "output_type": "display_data"
    },
    {
     "data": {
      "application/vnd.jupyter.widget-view+json": {
       "model_id": "eaa4165423b548febc19f93faccc7850",
       "version_major": 2,
       "version_minor": 0
      },
      "text/plain": [
       "Extracting umls from doid:   0%|          | 0.00/29.0 [00:00<?, ?node/s]"
      ]
     },
     "metadata": {},
     "output_type": "display_data"
    },
    {
     "data": {
      "application/vnd.jupyter.widget-view+json": {
       "model_id": "1ebf47fd08724cefb3276404fd874146",
       "version_major": 2,
       "version_minor": 0
      },
      "text/plain": [
       "Extracting umls from doid:   0%|          | 0.00/447 [00:00<?, ?node/s]"
      ]
     },
     "metadata": {},
     "output_type": "display_data"
    },
    {
     "data": {
      "application/vnd.jupyter.widget-view+json": {
       "model_id": "2878eef8c74a45aaa21ad3847dfd6d2a",
       "version_major": 2,
       "version_minor": 0
      },
      "text/plain": [
       "Extracting umls from doid:   0%|          | 0.00/1.14k [00:00<?, ?node/s]"
      ]
     },
     "metadata": {},
     "output_type": "display_data"
    },
    {
     "data": {
      "application/vnd.jupyter.widget-view+json": {
       "model_id": "d8381ee3f21c424f9719a6e554811e59",
       "version_major": 2,
       "version_minor": 0
      },
      "text/plain": [
       "Extracting umls from doid:   0%|          | 0.00/202 [00:00<?, ?node/s]"
      ]
     },
     "metadata": {},
     "output_type": "display_data"
    },
    {
     "data": {
      "application/vnd.jupyter.widget-view+json": {
       "model_id": "f276d4b11e0b4fdda63ae930ad0c171e",
       "version_major": 2,
       "version_minor": 0
      },
      "text/plain": [
       "Extracting umls from doid:   0%|          | 0.00/40.0 [00:00<?, ?node/s]"
      ]
     },
     "metadata": {},
     "output_type": "display_data"
    },
    {
     "data": {
      "application/vnd.jupyter.widget-view+json": {
       "model_id": "6d0f51e4e1bf4db98f14457546f9d416",
       "version_major": 2,
       "version_minor": 0
      },
      "text/plain": [
       "Extracting umls from doid:   0%|          | 0.00/247 [00:00<?, ?node/s]"
      ]
     },
     "metadata": {},
     "output_type": "display_data"
    },
    {
     "data": {
      "application/vnd.jupyter.widget-view+json": {
       "model_id": "a37a403d5cee4e38a2350f3cc8e63e0e",
       "version_major": 2,
       "version_minor": 0
      },
      "text/plain": [
       "Extracting umls from doid:   0%|          | 0.00/905 [00:00<?, ?node/s]"
      ]
     },
     "metadata": {},
     "output_type": "display_data"
    },
    {
     "data": {
      "application/vnd.jupyter.widget-view+json": {
       "model_id": "db53e2b33d394dbc85294b1cdd3ef2ee",
       "version_major": 2,
       "version_minor": 0
      },
      "text/plain": [
       "Extracting umls from doid:   0%|          | 0.00/39.0 [00:00<?, ?node/s]"
      ]
     },
     "metadata": {},
     "output_type": "display_data"
    },
    {
     "data": {
      "application/vnd.jupyter.widget-view+json": {
       "model_id": "70faf00fc9864e9c8fab6fe3a0d029f5",
       "version_major": 2,
       "version_minor": 0
      },
      "text/plain": [
       "Extracting umls from doid:   0%|          | 0.00/791 [00:00<?, ?node/s]"
      ]
     },
     "metadata": {},
     "output_type": "display_data"
    },
    {
     "data": {
      "application/vnd.jupyter.widget-view+json": {
       "model_id": "50169215fc584a22be614273a3a203f3",
       "version_major": 2,
       "version_minor": 0
      },
      "text/plain": [
       "Extracting umls from doid:   0%|          | 0.00/10.0 [00:00<?, ?node/s]"
      ]
     },
     "metadata": {},
     "output_type": "display_data"
    },
    {
     "name": "stdout",
     "output_type": "stream",
     "text": [
      "could not parse OBO internal relation: http://purl.obolibrary.org/obo/doid#chebi\n",
      "could not parse OBO internal relation: http://purl.obolibrary.org/obo/doid#sequence\n"
     ]
    },
    {
     "data": {
      "application/vnd.jupyter.widget-view+json": {
       "model_id": "416c5ca693334fa5bfc12056d03ea676",
       "version_major": 2,
       "version_minor": 0
      },
      "text/plain": [
       "Extracting mesh from doid:   0%|          | 0.00/13.7k [00:00<?, ?node/s]"
      ]
     },
     "metadata": {},
     "output_type": "display_data"
    },
    {
     "data": {
      "application/vnd.jupyter.widget-view+json": {
       "model_id": "28ffccdaee6840dc983203f34d32a10a",
       "version_major": 2,
       "version_minor": 0
      },
      "text/plain": [
       "Extracting mesh from doid:   0%|          | 0.00/372 [00:00<?, ?node/s]"
      ]
     },
     "metadata": {},
     "output_type": "display_data"
    },
    {
     "data": {
      "application/vnd.jupyter.widget-view+json": {
       "model_id": "91b623ff6d7548899ca40adb2554fff5",
       "version_major": 2,
       "version_minor": 0
      },
      "text/plain": [
       "Extracting mesh from doid:   0%|          | 0.00/185 [00:00<?, ?node/s]"
      ]
     },
     "metadata": {},
     "output_type": "display_data"
    },
    {
     "data": {
      "application/vnd.jupyter.widget-view+json": {
       "model_id": "8a34b568e21b4f9884955fdfc7d3fd06",
       "version_major": 2,
       "version_minor": 0
      },
      "text/plain": [
       "Extracting mesh from doid:   0%|          | 0.00/27.0 [00:00<?, ?node/s]"
      ]
     },
     "metadata": {},
     "output_type": "display_data"
    },
    {
     "data": {
      "application/vnd.jupyter.widget-view+json": {
       "model_id": "c7d230e262ed4539b343dcf1b3b24855",
       "version_major": 2,
       "version_minor": 0
      },
      "text/plain": [
       "Extracting mesh from doid:   0%|          | 0.00/16.0 [00:00<?, ?node/s]"
      ]
     },
     "metadata": {},
     "output_type": "display_data"
    },
    {
     "data": {
      "application/vnd.jupyter.widget-view+json": {
       "model_id": "6910a6b491c5459e83175e57bb76b025",
       "version_major": 2,
       "version_minor": 0
      },
      "text/plain": [
       "Extracting mesh from doid:   0%|          | 0.00/59.0 [00:00<?, ?node/s]"
      ]
     },
     "metadata": {},
     "output_type": "display_data"
    },
    {
     "data": {
      "application/vnd.jupyter.widget-view+json": {
       "model_id": "726e0f212d07457da9f6f08d562fd63e",
       "version_major": 2,
       "version_minor": 0
      },
      "text/plain": [
       "Extracting mesh from doid:   0%|          | 0.00/29.0 [00:00<?, ?node/s]"
      ]
     },
     "metadata": {},
     "output_type": "display_data"
    },
    {
     "data": {
      "application/vnd.jupyter.widget-view+json": {
       "model_id": "c564b0eb14e64fd494df552d1536eb69",
       "version_major": 2,
       "version_minor": 0
      },
      "text/plain": [
       "Extracting mesh from doid:   0%|          | 0.00/447 [00:00<?, ?node/s]"
      ]
     },
     "metadata": {},
     "output_type": "display_data"
    },
    {
     "data": {
      "application/vnd.jupyter.widget-view+json": {
       "model_id": "e31a92521b1c4cdd8e624b641533e5cf",
       "version_major": 2,
       "version_minor": 0
      },
      "text/plain": [
       "Extracting mesh from doid:   0%|          | 0.00/1.14k [00:00<?, ?node/s]"
      ]
     },
     "metadata": {},
     "output_type": "display_data"
    },
    {
     "data": {
      "application/vnd.jupyter.widget-view+json": {
       "model_id": "c563b716553c4952966ee9a949e17c8d",
       "version_major": 2,
       "version_minor": 0
      },
      "text/plain": [
       "Extracting mesh from doid:   0%|          | 0.00/202 [00:00<?, ?node/s]"
      ]
     },
     "metadata": {},
     "output_type": "display_data"
    },
    {
     "data": {
      "application/vnd.jupyter.widget-view+json": {
       "model_id": "75c36dd3f26042d6af50fe11dbca31cf",
       "version_major": 2,
       "version_minor": 0
      },
      "text/plain": [
       "Extracting mesh from doid:   0%|          | 0.00/40.0 [00:00<?, ?node/s]"
      ]
     },
     "metadata": {},
     "output_type": "display_data"
    },
    {
     "data": {
      "application/vnd.jupyter.widget-view+json": {
       "model_id": "1e197dc9f9f8431eb0826bfa0a580414",
       "version_major": 2,
       "version_minor": 0
      },
      "text/plain": [
       "Extracting mesh from doid:   0%|          | 0.00/247 [00:00<?, ?node/s]"
      ]
     },
     "metadata": {},
     "output_type": "display_data"
    },
    {
     "data": {
      "application/vnd.jupyter.widget-view+json": {
       "model_id": "8e0b554b430842a1bd82d2700e9b74ec",
       "version_major": 2,
       "version_minor": 0
      },
      "text/plain": [
       "Extracting mesh from doid:   0%|          | 0.00/905 [00:00<?, ?node/s]"
      ]
     },
     "metadata": {},
     "output_type": "display_data"
    },
    {
     "data": {
      "application/vnd.jupyter.widget-view+json": {
       "model_id": "ef5ffe40cba2403faaebd94c8505326c",
       "version_major": 2,
       "version_minor": 0
      },
      "text/plain": [
       "Extracting mesh from doid:   0%|          | 0.00/39.0 [00:00<?, ?node/s]"
      ]
     },
     "metadata": {},
     "output_type": "display_data"
    },
    {
     "data": {
      "application/vnd.jupyter.widget-view+json": {
       "model_id": "fb3cc3a953ad486fa4c1af8644f7c333",
       "version_major": 2,
       "version_minor": 0
      },
      "text/plain": [
       "Extracting mesh from doid:   0%|          | 0.00/791 [00:00<?, ?node/s]"
      ]
     },
     "metadata": {},
     "output_type": "display_data"
    },
    {
     "data": {
      "application/vnd.jupyter.widget-view+json": {
       "model_id": "5e528033e1204f1ca1f0a2261b7f221a",
       "version_major": 2,
       "version_minor": 0
      },
      "text/plain": [
       "Extracting mesh from doid:   0%|          | 0.00/10.0 [00:00<?, ?node/s]"
      ]
     },
     "metadata": {},
     "output_type": "display_data"
    },
    {
     "data": {
      "application/vnd.jupyter.widget-view+json": {
       "model_id": "6669ccb474354049a063bd97cf1276ee",
       "version_major": 2,
       "version_minor": 0
      },
      "text/plain": [
       "Extracting mondo from doid:   0%|          | 0.00/13.7k [00:00<?, ?node/s]"
      ]
     },
     "metadata": {},
     "output_type": "display_data"
    },
    {
     "data": {
      "application/vnd.jupyter.widget-view+json": {
       "model_id": "c089cca44aec4fcabd67f9fc2dfc1d66",
       "version_major": 2,
       "version_minor": 0
      },
      "text/plain": [
       "Extracting mondo from doid:   0%|          | 0.00/372 [00:00<?, ?node/s]"
      ]
     },
     "metadata": {},
     "output_type": "display_data"
    },
    {
     "data": {
      "application/vnd.jupyter.widget-view+json": {
       "model_id": "1e4220fb9034464497e41c48ec06a086",
       "version_major": 2,
       "version_minor": 0
      },
      "text/plain": [
       "Extracting mondo from doid:   0%|          | 0.00/185 [00:00<?, ?node/s]"
      ]
     },
     "metadata": {},
     "output_type": "display_data"
    },
    {
     "data": {
      "application/vnd.jupyter.widget-view+json": {
       "model_id": "72fab0fb10ed4bada10c375412025e67",
       "version_major": 2,
       "version_minor": 0
      },
      "text/plain": [
       "Extracting mondo from doid:   0%|          | 0.00/27.0 [00:00<?, ?node/s]"
      ]
     },
     "metadata": {},
     "output_type": "display_data"
    },
    {
     "data": {
      "application/vnd.jupyter.widget-view+json": {
       "model_id": "2b569f928bb04b409e20473ac5c5f440",
       "version_major": 2,
       "version_minor": 0
      },
      "text/plain": [
       "Extracting mondo from doid:   0%|          | 0.00/16.0 [00:00<?, ?node/s]"
      ]
     },
     "metadata": {},
     "output_type": "display_data"
    },
    {
     "data": {
      "application/vnd.jupyter.widget-view+json": {
       "model_id": "2ce1298ec4c24749ad0609371ef1f5c5",
       "version_major": 2,
       "version_minor": 0
      },
      "text/plain": [
       "Extracting mondo from doid:   0%|          | 0.00/59.0 [00:00<?, ?node/s]"
      ]
     },
     "metadata": {},
     "output_type": "display_data"
    },
    {
     "data": {
      "application/vnd.jupyter.widget-view+json": {
       "model_id": "07d1b720d3f146d88ada659df4d0de79",
       "version_major": 2,
       "version_minor": 0
      },
      "text/plain": [
       "Extracting mondo from doid:   0%|          | 0.00/29.0 [00:00<?, ?node/s]"
      ]
     },
     "metadata": {},
     "output_type": "display_data"
    },
    {
     "data": {
      "application/vnd.jupyter.widget-view+json": {
       "model_id": "37742a5f89824119bd356c6de0deaf59",
       "version_major": 2,
       "version_minor": 0
      },
      "text/plain": [
       "Extracting mondo from doid:   0%|          | 0.00/447 [00:00<?, ?node/s]"
      ]
     },
     "metadata": {},
     "output_type": "display_data"
    },
    {
     "data": {
      "application/vnd.jupyter.widget-view+json": {
       "model_id": "28fdeecbe9e34f2d81c3b2889b604224",
       "version_major": 2,
       "version_minor": 0
      },
      "text/plain": [
       "Extracting mondo from doid:   0%|          | 0.00/1.14k [00:00<?, ?node/s]"
      ]
     },
     "metadata": {},
     "output_type": "display_data"
    },
    {
     "data": {
      "application/vnd.jupyter.widget-view+json": {
       "model_id": "2a03a31017bf48289b127ef01ac77347",
       "version_major": 2,
       "version_minor": 0
      },
      "text/plain": [
       "Extracting mondo from doid:   0%|          | 0.00/202 [00:00<?, ?node/s]"
      ]
     },
     "metadata": {},
     "output_type": "display_data"
    },
    {
     "data": {
      "application/vnd.jupyter.widget-view+json": {
       "model_id": "5939e830a7154f43a2098072bc670a5c",
       "version_major": 2,
       "version_minor": 0
      },
      "text/plain": [
       "Extracting mondo from doid:   0%|          | 0.00/40.0 [00:00<?, ?node/s]"
      ]
     },
     "metadata": {},
     "output_type": "display_data"
    },
    {
     "data": {
      "application/vnd.jupyter.widget-view+json": {
       "model_id": "8257c08d3fd34bc1aaffc1b380c294e5",
       "version_major": 2,
       "version_minor": 0
      },
      "text/plain": [
       "Extracting mondo from doid:   0%|          | 0.00/247 [00:00<?, ?node/s]"
      ]
     },
     "metadata": {},
     "output_type": "display_data"
    },
    {
     "data": {
      "application/vnd.jupyter.widget-view+json": {
       "model_id": "4cd24952b9f14bd1ac197a910bf4b5e0",
       "version_major": 2,
       "version_minor": 0
      },
      "text/plain": [
       "Extracting mondo from doid:   0%|          | 0.00/905 [00:00<?, ?node/s]"
      ]
     },
     "metadata": {},
     "output_type": "display_data"
    },
    {
     "data": {
      "application/vnd.jupyter.widget-view+json": {
       "model_id": "c5932d41abb44e80afa1ac0ec8cdf592",
       "version_major": 2,
       "version_minor": 0
      },
      "text/plain": [
       "Extracting mondo from doid:   0%|          | 0.00/39.0 [00:00<?, ?node/s]"
      ]
     },
     "metadata": {},
     "output_type": "display_data"
    },
    {
     "data": {
      "application/vnd.jupyter.widget-view+json": {
       "model_id": "0fab338a3ac440cb8817159418a29c8e",
       "version_major": 2,
       "version_minor": 0
      },
      "text/plain": [
       "Extracting mondo from doid:   0%|          | 0.00/791 [00:00<?, ?node/s]"
      ]
     },
     "metadata": {},
     "output_type": "display_data"
    },
    {
     "data": {
      "application/vnd.jupyter.widget-view+json": {
       "model_id": "72f3cd1d9e974358b7c25501a501bf30",
       "version_major": 2,
       "version_minor": 0
      },
      "text/plain": [
       "Extracting mondo from doid:   0%|          | 0.00/10.0 [00:00<?, ?node/s]"
      ]
     },
     "metadata": {},
     "output_type": "display_data"
    },
    {
     "data": {
      "application/vnd.jupyter.widget-view+json": {
       "model_id": "4d09899cff564d9da83fcac54d17b194",
       "version_major": 2,
       "version_minor": 0
      },
      "text/plain": [
       "Extracting efo from doid:   0%|          | 0.00/13.7k [00:00<?, ?node/s]"
      ]
     },
     "metadata": {},
     "output_type": "display_data"
    },
    {
     "data": {
      "application/vnd.jupyter.widget-view+json": {
       "model_id": "31da2a771776445f9e24c657c59dbf5d",
       "version_major": 2,
       "version_minor": 0
      },
      "text/plain": [
       "Extracting efo from doid:   0%|          | 0.00/372 [00:00<?, ?node/s]"
      ]
     },
     "metadata": {},
     "output_type": "display_data"
    },
    {
     "data": {
      "application/vnd.jupyter.widget-view+json": {
       "model_id": "d445efec6a67458d90e2780405e265a8",
       "version_major": 2,
       "version_minor": 0
      },
      "text/plain": [
       "Extracting efo from doid:   0%|          | 0.00/185 [00:00<?, ?node/s]"
      ]
     },
     "metadata": {},
     "output_type": "display_data"
    },
    {
     "data": {
      "application/vnd.jupyter.widget-view+json": {
       "model_id": "a69c1f8715b144af80f50d4b88bd9fee",
       "version_major": 2,
       "version_minor": 0
      },
      "text/plain": [
       "Extracting efo from doid:   0%|          | 0.00/27.0 [00:00<?, ?node/s]"
      ]
     },
     "metadata": {},
     "output_type": "display_data"
    },
    {
     "data": {
      "application/vnd.jupyter.widget-view+json": {
       "model_id": "2205b81c812047b2ae77473a0229970f",
       "version_major": 2,
       "version_minor": 0
      },
      "text/plain": [
       "Extracting efo from doid:   0%|          | 0.00/16.0 [00:00<?, ?node/s]"
      ]
     },
     "metadata": {},
     "output_type": "display_data"
    },
    {
     "data": {
      "application/vnd.jupyter.widget-view+json": {
       "model_id": "b25b355c9d5048cfa2aef99580af05c3",
       "version_major": 2,
       "version_minor": 0
      },
      "text/plain": [
       "Extracting efo from doid:   0%|          | 0.00/59.0 [00:00<?, ?node/s]"
      ]
     },
     "metadata": {},
     "output_type": "display_data"
    },
    {
     "data": {
      "application/vnd.jupyter.widget-view+json": {
       "model_id": "e2505e3e826e4f5699531fdc0ad83bdf",
       "version_major": 2,
       "version_minor": 0
      },
      "text/plain": [
       "Extracting efo from doid:   0%|          | 0.00/29.0 [00:00<?, ?node/s]"
      ]
     },
     "metadata": {},
     "output_type": "display_data"
    },
    {
     "data": {
      "application/vnd.jupyter.widget-view+json": {
       "model_id": "e554193b5e09446284e98c80c9617500",
       "version_major": 2,
       "version_minor": 0
      },
      "text/plain": [
       "Extracting efo from doid:   0%|          | 0.00/447 [00:00<?, ?node/s]"
      ]
     },
     "metadata": {},
     "output_type": "display_data"
    },
    {
     "data": {
      "application/vnd.jupyter.widget-view+json": {
       "model_id": "5d39292ef6f64b678410db299855f0a1",
       "version_major": 2,
       "version_minor": 0
      },
      "text/plain": [
       "Extracting efo from doid:   0%|          | 0.00/1.14k [00:00<?, ?node/s]"
      ]
     },
     "metadata": {},
     "output_type": "display_data"
    },
    {
     "data": {
      "application/vnd.jupyter.widget-view+json": {
       "model_id": "8166e07349c944ec8c5b593c8d48c906",
       "version_major": 2,
       "version_minor": 0
      },
      "text/plain": [
       "Extracting efo from doid:   0%|          | 0.00/202 [00:00<?, ?node/s]"
      ]
     },
     "metadata": {},
     "output_type": "display_data"
    },
    {
     "data": {
      "application/vnd.jupyter.widget-view+json": {
       "model_id": "2074824f007749c8b3d30fd9876d959f",
       "version_major": 2,
       "version_minor": 0
      },
      "text/plain": [
       "Extracting efo from doid:   0%|          | 0.00/40.0 [00:00<?, ?node/s]"
      ]
     },
     "metadata": {},
     "output_type": "display_data"
    },
    {
     "data": {
      "application/vnd.jupyter.widget-view+json": {
       "model_id": "3efd04c66eb9422bb6793576b398ee32",
       "version_major": 2,
       "version_minor": 0
      },
      "text/plain": [
       "Extracting efo from doid:   0%|          | 0.00/247 [00:00<?, ?node/s]"
      ]
     },
     "metadata": {},
     "output_type": "display_data"
    },
    {
     "data": {
      "application/vnd.jupyter.widget-view+json": {
       "model_id": "a28164af369f47ad88b78b5fb6764ab5",
       "version_major": 2,
       "version_minor": 0
      },
      "text/plain": [
       "Extracting efo from doid:   0%|          | 0.00/905 [00:00<?, ?node/s]"
      ]
     },
     "metadata": {},
     "output_type": "display_data"
    },
    {
     "data": {
      "application/vnd.jupyter.widget-view+json": {
       "model_id": "6e059d38527a4f66a07e8a98e7c45ee1",
       "version_major": 2,
       "version_minor": 0
      },
      "text/plain": [
       "Extracting efo from doid:   0%|          | 0.00/39.0 [00:00<?, ?node/s]"
      ]
     },
     "metadata": {},
     "output_type": "display_data"
    },
    {
     "data": {
      "application/vnd.jupyter.widget-view+json": {
       "model_id": "0b0af15c36a3462cabc56cf17557901f",
       "version_major": 2,
       "version_minor": 0
      },
      "text/plain": [
       "Extracting efo from doid:   0%|          | 0.00/791 [00:00<?, ?node/s]"
      ]
     },
     "metadata": {},
     "output_type": "display_data"
    },
    {
     "data": {
      "application/vnd.jupyter.widget-view+json": {
       "model_id": "2de9640e28aa4ed9bbfac484bba397c5",
       "version_major": 2,
       "version_minor": 0
      },
      "text/plain": [
       "Extracting efo from doid:   0%|          | 0.00/10.0 [00:00<?, ?node/s]"
      ]
     },
     "metadata": {},
     "output_type": "display_data"
    },
    {
     "data": {
      "application/vnd.jupyter.widget-view+json": {
       "model_id": "7ff13040f9394fd1bd535c20df1ec7b2",
       "version_major": 2,
       "version_minor": 0
      },
      "text/plain": [
       "Extracting umls from mondo:   0%|          | 0.00/45.0k [00:00<?, ?node/s]"
      ]
     },
     "metadata": {},
     "output_type": "display_data"
    },
    {
     "name": "stdout",
     "output_type": "stream",
     "text": [
      "could not parse OBO internal relation: http://purl.obolibrary.org/obo/mondo#has_onset_during_or_after\n",
      "could not parse OBO internal relation: http://purl.obolibrary.org/obo/exo#interacts_with_an_exposure_stressor_via\n",
      "could not parse OBO internal relation: http://purl.obolibrary.org/obo/mondo#disease_triggers\n",
      "could not parse OBO internal relation: http://purl.obolibrary.org/obo/mondo#disease_causes_feature\n",
      "could not parse OBO internal relation: http://purl.obolibrary.org/obo/mondo#has_onset\n",
      "could not parse OBO internal relation: http://purl.obolibrary.org/obo/mondo#disease_has_basis_in_development_of\n",
      "could not parse OBO internal relation: http://purl.obolibrary.org/obo/mondo#AMBIGUOUS\n",
      "could not parse OBO internal relation: http://purl.obolibrary.org/obo/mondo#has_onset_before\n",
      "could not parse OBO internal relation: http://purl.obolibrary.org/obo/cl#has_completed\n",
      "could not parse OBO internal relation: http://purl.obolibrary.org/obo/mondo#has_exclusion_reason\n",
      "could not parse OBO internal relation: http://purl.obolibrary.org/obo/mondo#DEPRECATED\n",
      "could not parse OBO internal relation: http://purl.obolibrary.org/obo/mondo#EXCLUDE\n",
      "could not parse OBO internal relation: http://purl.obolibrary.org/obo/mondo#ABBREVIATION\n",
      "could not parse OBO internal relation: http://purl.obolibrary.org/obo/mondo#part_of_progression_of_disease\n",
      "could not parse OBO internal relation: http://purl.obolibrary.org/obo/mondo#excluded_subClassOf\n",
      "could not parse OBO internal relation: http://purl.obolibrary.org/obo/mondo#disease_responds_to\n",
      "could not parse OBO internal relation: http://purl.obolibrary.org/obo/mondo#NON_HUMAN\n",
      "could not parse OBO internal relation: http://purl.obolibrary.org/obo/mondo#disease_has_basis_in_accumulation_of\n",
      "could not parse OBO internal relation: http://purl.obolibrary.org/obo/cl#lacks_plasma_membrane_part\n",
      "could not parse OBO internal relation: http://purl.obolibrary.org/obo/mondo#disease_shares_features_of\n",
      "could not parse OBO internal relation: http://purl.obolibrary.org/obo/cl#has_not_completed\n",
      "could not parse OBO internal relation: http://purl.obolibrary.org/obo/mondo#DUBIOUS\n",
      "could not parse OBO internal relation: http://purl.obolibrary.org/obo/nbo#by_means\n",
      "could not parse OBO internal relation: http://purl.obolibrary.org/obo/mondo#may_be_merged_into\n",
      "could not parse OBO internal relation: http://purl.obolibrary.org/obo/cl#lacks_part\n",
      "could not parse OBO internal relation: http://purl.obolibrary.org/obo/mondo#disease_has_major_feature\n",
      "could not parse OBO internal relation: http://purl.obolibrary.org/obo/exo#interacts_with_an_exposure_receptor_via\n",
      "could not parse OBO internal relation: http://purl.obolibrary.org/obo/MF#manifestationOf\n",
      "could not parse OBO internal relation: http://purl.obolibrary.org/obo/mondo#MISSPELLING\n",
      "could not parse OBO internal relation: http://purl.obolibrary.org/obo/mondo#predisposes_towards\n"
     ]
    },
    {
     "data": {
      "application/vnd.jupyter.widget-view+json": {
       "model_id": "d0540f1f53274625a4c5e36967d279f5",
       "version_major": 2,
       "version_minor": 0
      },
      "text/plain": [
       "Extracting mesh from mondo:   0%|          | 0.00/45.0k [00:00<?, ?node/s]"
      ]
     },
     "metadata": {},
     "output_type": "display_data"
    },
    {
     "data": {
      "application/vnd.jupyter.widget-view+json": {
       "model_id": "46c4b65b6aca4caf874bc0fc51c534a8",
       "version_major": 2,
       "version_minor": 0
      },
      "text/plain": [
       "Extracting doid from mondo:   0%|          | 0.00/45.0k [00:00<?, ?node/s]"
      ]
     },
     "metadata": {},
     "output_type": "display_data"
    },
    {
     "data": {
      "application/vnd.jupyter.widget-view+json": {
       "model_id": "ff273e2c031743339556b8326ca08989",
       "version_major": 2,
       "version_minor": 0
      },
      "text/plain": [
       "Extracting efo from mondo:   0%|          | 0.00/45.0k [00:00<?, ?node/s]"
      ]
     },
     "metadata": {},
     "output_type": "display_data"
    },
    {
     "data": {
      "application/vnd.jupyter.widget-view+json": {
       "model_id": "19ed5d6f1b35498ea084f93c7b544e13",
       "version_major": 2,
       "version_minor": 0
      },
      "text/plain": [
       "Extracting mesh from efo:   0%|          | 0.00/38.0k [00:00<?, ?node/s]"
      ]
     },
     "metadata": {},
     "output_type": "display_data"
    },
    {
     "name": "stdout",
     "output_type": "stream",
     "text": [
      "could not parse OBO internal relation: http://purl.obolibrary.org/obo/uberon#branch_of\n",
      "could not parse OBO internal relation: http://purl.obolibrary.org/obo/uberon#transitively_distally_connected_to\n",
      "could not parse OBO internal relation: http://purl.obolibrary.org/obo/chebi#BRAND_NAME\n",
      "could not parse OBO internal relation: http://purl.obolibrary.org/obo/uberon#channel_for\n",
      "could not parse OBO internal relation: http://purl.obolibrary.org/obo/uberon#existence_starts_after\n",
      "could not parse OBO internal relation: http://purl.obolibrary.org/obo/chebi#INN\n",
      "could not parse OBO internal relation: http://purl.obolibrary.org/obo/uberon#transitively_anteriorly_connected_to\n",
      "could not parse OBO internal relation: http://purl.obolibrary.org/obo/uberon#enclosed_by\n",
      "could not parse OBO internal relation: http://purl.obolibrary.org/obo/uberon#existence_starts_or_ends_during\n",
      "could not parse OBO internal relation: http://purl.obolibrary.org/obo/uberon#proximally_connected_to\n",
      "could not parse OBO internal relation: http://purl.obolibrary.org/obo/uberon#evolved_from\n",
      "could not parse OBO internal relation: http://purl.obolibrary.org/obo/uberon#evolved_multiple_times_in\n",
      "could not parse OBO internal relation: http://purl.obolibrary.org/obo/uberon#has_start\n",
      "could not parse OBO internal relation: http://purl.obolibrary.org/obo/uberon#existence_ends_at\n",
      "could not parse OBO internal relation: http://purl.obolibrary.org/obo/uberon#posteriorly_connected_to\n",
      "could not parse OBO internal relation: http://purl.obolibrary.org/obo/uberon#start_of\n",
      "could not parse OBO internal relation: http://purl.obolibrary.org/obo/uberon#has_end\n",
      "could not parse OBO internal relation: http://purl.obolibrary.org/obo/uberon#anteriorly_connected_to\n",
      "could not parse OBO internal relation: http://purl.obolibrary.org/obo/uberon/core#homologous_in\n",
      "could not parse OBO internal relation: http://purl.obolibrary.org/obo/uberon#existence_starts_at\n",
      "could not parse OBO internal relation: http://purl.obolibrary.org/obo/bto#related_to\n",
      "could not parse OBO internal relation: http://purl.obolibrary.org/obo/uberon#channels_into\n",
      "could not parse OBO internal relation: http://purl.obolibrary.org/obo/uberon#encloses\n",
      "could not parse OBO internal relation: http://purl.obolibrary.org/obo/uberon#channels_from\n",
      "could not parse OBO internal relation: http://purl.obolibrary.org/obo/uberon#site_of\n",
      "could not parse OBO internal relation: http://purl.obolibrary.org/obo/uberon#subdivision_of\n",
      "could not parse OBO internal relation: http://purl.obolibrary.org/obo/uberon#transitively_connected_to\n",
      "could not parse OBO internal relation: http://purl.obolibrary.org/obo/uberon#distally_connected_to\n",
      "could not parse OBO internal relation: http://purl.obolibrary.org/obo/uberon#existence_ends_before\n",
      "could not parse OBO internal relation: http://purl.obolibrary.org/obo/uberon#transitively_proximally_connected_to\n"
     ]
    },
    {
     "data": {
      "application/vnd.jupyter.widget-view+json": {
       "model_id": "211b69ea7abd49b6ba1b481f7e28794c",
       "version_major": 2,
       "version_minor": 0
      },
      "text/plain": [
       "Extracting doid from efo:   0%|          | 0.00/38.0k [00:00<?, ?node/s]"
      ]
     },
     "metadata": {},
     "output_type": "display_data"
    },
    {
     "data": {
      "application/vnd.jupyter.widget-view+json": {
       "model_id": "e064bc03978245b7ab27f474b9df92c1",
       "version_major": 2,
       "version_minor": 0
      },
      "text/plain": [
       "Extracting cl from efo:   0%|          | 0.00/38.0k [00:00<?, ?node/s]"
      ]
     },
     "metadata": {},
     "output_type": "display_data"
    },
    {
     "data": {
      "application/vnd.jupyter.widget-view+json": {
       "model_id": "dbd8dbc804f24262ba1eed875a46fb0b",
       "version_major": 2,
       "version_minor": 0
      },
      "text/plain": [
       "Extracting ccle from efo:   0%|          | 0.00/38.0k [00:00<?, ?node/s]"
      ]
     },
     "metadata": {},
     "output_type": "display_data"
    },
    {
     "name": "stderr",
     "output_type": "stream",
     "text": [
      "WARNING:bioontologies.robot:could not parse JSON for hp from http://purl.obolibrary.org/obo/hp.json\n"
     ]
    },
    {
     "data": {
      "application/vnd.jupyter.widget-view+json": {
       "model_id": "5d9e4425d5fc42af92826a9cbecfa641",
       "version_major": 2,
       "version_minor": 0
      },
      "text/plain": [
       "Extracting mesh from hp:   0%|          | 0.00/31.7k [00:00<?, ?node/s]"
      ]
     },
     "metadata": {},
     "output_type": "display_data"
    },
    {
     "name": "stdout",
     "output_type": "stream",
     "text": [
      "could not parse OBO internal relation: http://purl.obolibrary.org/obo/uberon/core#transitively_anteriorly_connected_to\n",
      "could not parse OBO internal relation: http://purl.obolibrary.org/obo/uberon/core#proximally_connected_to\n",
      "could not parse OBO internal relation: http://purl.obolibrary.org/obo/uberon/core#transitively_connected_to\n",
      "could not parse OBO internal relation: http://purl.obolibrary.org/obo/uberon/core#distally_connected_to\n",
      "could not parse OBO internal relation: http://purl.obolibrary.org/obo/uberon/core#channel_for\n",
      "could not parse OBO internal relation: http://purl.obolibrary.org/obo/uberon/core#subdivision_of\n",
      "could not parse OBO internal relation: http://purl.obolibrary.org/obo/hp#layperson\n",
      "could not parse OBO internal relation: http://purl.obolibrary.org/obo/hp#plural_form\n",
      "could not parse OBO internal relation: http://purl.obolibrary.org/obo/uberon/core#trunk_part_of\n",
      "could not parse OBO internal relation: http://purl.obolibrary.org/obo/uberon/core#transitively_proximally_connected_to\n",
      "could not parse OBO internal relation: http://purl.obolibrary.org/obo/uberon/core#in_central_side_of\n",
      "could not parse OBO internal relation: http://purl.obolibrary.org/obo/uberon/core#filtered_through\n",
      "could not parse OBO internal relation: http://purl.obolibrary.org/obo/uberon/core#channels_into\n",
      "could not parse OBO internal relation: http://purl.obolibrary.org/obo/hp#uk_spelling\n",
      "could not parse OBO internal relation: http://purl.obolibrary.org/obo/uberon/core#indirectly_supplies\n",
      "could not parse OBO internal relation: http://purl.obolibrary.org/obo/hp#abbreviation\n",
      "could not parse OBO internal relation: http://purl.obolibrary.org/obo/hp#is_observable_through\n",
      "could not parse OBO internal relation: http://purl.obolibrary.org/obo/uberon/core#posteriorly_connected_to\n",
      "could not parse OBO internal relation: http://purl.obolibrary.org/obo/hp#display_label\n",
      "could not parse OBO internal relation: http://purl.obolibrary.org/obo/nbo#qualifier\n",
      "could not parse OBO internal relation: http://purl.obolibrary.org/obo/uberon/core#protects\n",
      "could not parse OBO internal relation: http://purl.obolibrary.org/obo/uberon/core#channels_from\n",
      "could not parse OBO internal relation: http://purl.obolibrary.org/obo/pr#has_gene_template\n",
      "could not parse OBO internal relation: http://purl.obolibrary.org/obo/uberon/core#anteriorly_connected_to\n",
      "could not parse OBO internal relation: http://purl.obolibrary.org/obo/uberon/core#in_innermost_side_of\n",
      "could not parse OBO internal relation: http://purl.obolibrary.org/obo/uberon/core#transitively_distally_connected_to\n",
      "could not parse OBO internal relation: http://purl.obolibrary.org/obo/hp#obsolete_synonym\n",
      "could not parse OBO internal relation: http://purl.obolibrary.org/obo/uberon/core#layer_part_of\n",
      "could not parse OBO internal relation: http://purl.obolibrary.org/obo/uberon/core#site_of\n",
      "could not parse OBO internal relation: http://purl.obolibrary.org/obo/nbo#has-input\n",
      "could not parse OBO internal relation: http://purl.obolibrary.org/obo/uberon/core#in_outermost_side_of\n",
      "could not parse OBO internal relation: http://purl.obolibrary.org/obo/uberon/core#extends_fibers_into\n",
      "could not parse OBO internal relation: http://purl.obolibrary.org/obo/uberon/core#sexually_homologous_to\n"
     ]
    },
    {
     "data": {
      "application/vnd.jupyter.widget-view+json": {
       "model_id": "9c425fd7b11e46159020be7a258cc8f8",
       "version_major": 2,
       "version_minor": 0
      },
      "text/plain": [
       "Extracting mesh from go:   0%|          | 0.00/51.1k [00:00<?, ?node/s]"
      ]
     },
     "metadata": {},
     "output_type": "display_data"
    },
    {
     "name": "stdout",
     "output_type": "stream",
     "text": [
      "could not parse OBO internal relation: http://purl.obolibrary.org/obo/go#systematic_synonym\n",
      "could not parse OBO internal relation: http://purl.obolibrary.org/obo/go#syngo_official_label\n"
     ]
    },
    {
     "data": {
      "application/vnd.jupyter.widget-view+json": {
       "model_id": "6f054e17a7da42c88fa281ab3a724025",
       "version_major": 2,
       "version_minor": 0
      },
      "text/plain": [
       "Extracting reactome from go:   0%|          | 0.00/51.1k [00:00<?, ?node/s]"
      ]
     },
     "metadata": {},
     "output_type": "display_data"
    },
    {
     "data": {
      "application/vnd.jupyter.widget-view+json": {
       "model_id": "4ad9ef7e2c7343809461f08e1735f0c6",
       "version_major": 2,
       "version_minor": 0
      },
      "text/plain": [
       "Extracting wikipathways from go:   0%|          | 0.00/51.1k [00:00<?, ?node/s]"
      ]
     },
     "metadata": {},
     "output_type": "display_data"
    },
    {
     "name": "stderr",
     "output_type": "stream",
     "text": [
      "WARNING:bioontologies.robot:could not parse JSON for uberon from http://purl.obolibrary.org/obo/uberon.json\n"
     ]
    },
    {
     "data": {
      "application/vnd.jupyter.widget-view+json": {
       "model_id": "ee3a86ccffa8405bbc4c0be1d3e668d7",
       "version_major": 2,
       "version_minor": 0
      },
      "text/plain": [
       "Extracting mesh from uberon:   0%|          | 0.00/21.4k [00:00<?, ?node/s]"
      ]
     },
     "metadata": {},
     "output_type": "display_data"
    },
    {
     "name": "stdout",
     "output_type": "stream",
     "text": [
      "could not parse OBO internal relation: http://purl.obolibrary.org/obo/uberon/core#SYSTEMATIC\n",
      "could not parse OBO internal relation: http://purl.obolibrary.org/obo/uberon/core#DEVELOPMENTAL\n",
      "could not parse OBO internal relation: http://purl.obolibrary.org/obo/uberon/core#PENDING_REVIEW\n",
      "could not parse OBO internal relation: http://purl.obolibrary.org/obo/bspo#vertebrate\n",
      "could not parse OBO internal relation: http://purl.obolibrary.org/obo/uberon/core#BRAIN_NAME_ABV\n",
      "could not parse OBO internal relation: http://purl.obolibrary.org/obo/uberon/core#ABBREVIATION\n",
      "could not parse OBO internal relation: http://purl.obolibrary.org/obo/cl#HUMAN_PREFERRED\n",
      "could not parse OBO internal relation: http://purl.obolibrary.org/obo/uberon/core#MISSPELLING\n",
      "could not parse OBO internal relation: http://purl.obolibrary.org/obo/cl#abbreviation\n",
      "could not parse OBO internal relation: http://purl.obolibrary.org/obo/uberon/core#NON_MAMMAL\n",
      "could not parse OBO internal relation: http://purl.obolibrary.org/obo/uberon/core#DUBIOUS\n",
      "could not parse OBO internal relation: http://purl.obolibrary.org/obo/cl#PLURAL\n",
      "could not parse OBO internal relation: http://purl.obolibrary.org/obo/uberon/core#COMPARATIVE_PREFERRED\n",
      "could not parse OBO internal relation: http://purl.obolibrary.org/obo/uberon/core#has_start\n",
      "could not parse OBO internal relation: http://purl.obolibrary.org/obo/uberon/core#NON_AMNIOTE\n",
      "could not parse OBO internal relation: http://purl.obolibrary.org/obo/uberon/core#PLURAL\n",
      "could not parse OBO internal relation: http://purl.obolibrary.org/obo/uberon/core#HUMAN_PREFERRED\n",
      "could not parse OBO internal relation: http://purl.obolibrary.org/obo/uberon/core#DEPRECATED\n",
      "could not parse OBO internal relation: http://purl.obolibrary.org/obo/uberon/core#anastomoses_with\n",
      "could not parse OBO internal relation: http://purl.obolibrary.org/obo/uberon/core#LATIN\n",
      "could not parse OBO internal relation: http://purl.obolibrary.org/obo/ro/subsets#ro-eco\n",
      "could not parse OBO internal relation: http://purl.obolibrary.org/obo/cl#LATIN\n",
      "could not parse OBO internal relation: http://purl.obolibrary.org/obo/uberon/core#INCONSISTENT\n",
      "could not parse OBO internal relation: http://purl.obolibrary.org/obo/uberon/core#SENSU\n"
     ]
    },
    {
     "data": {
      "application/vnd.jupyter.widget-view+json": {
       "model_id": "fc2e10263e0146ad8c05df55063d3b26",
       "version_major": 2,
       "version_minor": 0
      },
      "text/plain": [
       "Extracting efo from cl:   0%|          | 0.00/17.3k [00:00<?, ?node/s]"
      ]
     },
     "metadata": {},
     "output_type": "display_data"
    },
    {
     "name": "stdout",
     "output_type": "stream",
     "text": [
      "could not parse OBO internal relation: http://purl.obolibrary.org/obo/uberon#PLURAL\n",
      "could not parse OBO internal relation: http://purl.obolibrary.org/obo/uberon#HUMAN_PREFERRED\n",
      "could not parse OBO internal relation: http://purl.obolibrary.org/obo/uberon#LATIN\n"
     ]
    },
    {
     "data": {
      "application/vnd.jupyter.widget-view+json": {
       "model_id": "e3b59da443e74577b77b9d192f158857",
       "version_major": 2,
       "version_minor": 0
      },
      "text/plain": [
       "Extracting mesh from cl:   0%|          | 0.00/17.3k [00:00<?, ?node/s]"
      ]
     },
     "metadata": {},
     "output_type": "display_data"
    },
    {
     "data": {
      "application/vnd.jupyter.widget-view+json": {
       "model_id": "a34610cf817448c384026d0341a070db",
       "version_major": 2,
       "version_minor": 0
      },
      "text/plain": [
       "Extracting mesh from chebi:   0%|          | 0.00/182k [00:00<?, ?node/s]"
      ]
     },
     "metadata": {},
     "output_type": "display_data"
    },
    {
     "name": "stdout",
     "output_type": "stream",
     "text": [
      "could not parse OBO internal relation: http://purl.obolibrary.org/obo/chebi#has_major_microspecies_at_pH_7_3\n"
     ]
    },
    {
     "data": {
      "application/vnd.jupyter.widget-view+json": {
       "model_id": "9469cdfcd14e4383814108f77d2c4039",
       "version_major": 2,
       "version_minor": 0
      },
      "text/plain": [
       "Extracting ncit from chebi:   0%|          | 0.00/182k [00:00<?, ?node/s]"
      ]
     },
     "metadata": {},
     "output_type": "display_data"
    },
    {
     "name": "stderr",
     "output_type": "stream",
     "text": [
      "WARNING:bioversions.sources.ols:[ypo] Missing information in OLS\n"
     ]
    }
   ],
   "source": [
    "# Primary mappings from OBO and other sources are going in here\n",
    "primary_dd = defaultdict(dict)\n",
    "summary_rows = []\n",
    "\n",
    "summary_rows.extend(get_obo_mappings(primary_dd, biomappings_dd))\n",
    "summary_rows.extend(get_non_obo_mappings(primary_dd, biomappings_dd))"
   ]
  },
  {
   "cell_type": "markdown",
   "id": "d78553e4",
   "metadata": {},
   "source": [
    "## Summary"
   ]
  },
  {
   "cell_type": "code",
   "execution_count": 20,
   "id": "6cfb3aa8",
   "metadata": {},
   "outputs": [
    {
     "data": {
      "text/html": [
       "<div>\n",
       "<style scoped>\n",
       "    .dataframe tbody tr th:only-of-type {\n",
       "        vertical-align: middle;\n",
       "    }\n",
       "\n",
       "    .dataframe tbody tr th {\n",
       "        vertical-align: top;\n",
       "    }\n",
       "\n",
       "    .dataframe thead th {\n",
       "        text-align: right;\n",
       "    }\n",
       "</style>\n",
       "<table border=\"1\" class=\"dataframe\">\n",
       "  <thead>\n",
       "    <tr style=\"text-align: right;\">\n",
       "      <th></th>\n",
       "      <th>resource</th>\n",
       "      <th>version</th>\n",
       "      <th>external</th>\n",
       "      <th>primary_xrefs</th>\n",
       "      <th>biomappings_xrefs</th>\n",
       "      <th>total_xrefs</th>\n",
       "      <th>percentage_gain</th>\n",
       "    </tr>\n",
       "  </thead>\n",
       "  <tbody>\n",
       "    <tr>\n",
       "      <th>0</th>\n",
       "      <td>doid</td>\n",
       "      <td>2022-09-29</td>\n",
       "      <td>umls</td>\n",
       "      <td>0</td>\n",
       "      <td>246</td>\n",
       "      <td>246</td>\n",
       "      <td>inf</td>\n",
       "    </tr>\n",
       "    <tr>\n",
       "      <th>1</th>\n",
       "      <td>doid</td>\n",
       "      <td>2022-09-29</td>\n",
       "      <td>mesh</td>\n",
       "      <td>0</td>\n",
       "      <td>2905</td>\n",
       "      <td>2905</td>\n",
       "      <td>inf</td>\n",
       "    </tr>\n",
       "    <tr>\n",
       "      <th>2</th>\n",
       "      <td>doid</td>\n",
       "      <td>2022-09-29</td>\n",
       "      <td>efo</td>\n",
       "      <td>0</td>\n",
       "      <td>126</td>\n",
       "      <td>126</td>\n",
       "      <td>inf</td>\n",
       "    </tr>\n",
       "    <tr>\n",
       "      <th>3</th>\n",
       "      <td>mondo</td>\n",
       "      <td>2022-10-11</td>\n",
       "      <td>umls</td>\n",
       "      <td>16771</td>\n",
       "      <td>0</td>\n",
       "      <td>16771</td>\n",
       "      <td>0.0</td>\n",
       "    </tr>\n",
       "    <tr>\n",
       "      <th>4</th>\n",
       "      <td>mondo</td>\n",
       "      <td>2022-10-11</td>\n",
       "      <td>mesh</td>\n",
       "      <td>7982</td>\n",
       "      <td>414</td>\n",
       "      <td>8396</td>\n",
       "      <td>5.2</td>\n",
       "    </tr>\n",
       "    <tr>\n",
       "      <th>5</th>\n",
       "      <td>mondo</td>\n",
       "      <td>2022-10-11</td>\n",
       "      <td>doid</td>\n",
       "      <td>9894</td>\n",
       "      <td>0</td>\n",
       "      <td>9894</td>\n",
       "      <td>0.0</td>\n",
       "    </tr>\n",
       "    <tr>\n",
       "      <th>6</th>\n",
       "      <td>mondo</td>\n",
       "      <td>2022-10-11</td>\n",
       "      <td>efo</td>\n",
       "      <td>2865</td>\n",
       "      <td>0</td>\n",
       "      <td>2865</td>\n",
       "      <td>0.0</td>\n",
       "    </tr>\n",
       "    <tr>\n",
       "      <th>7</th>\n",
       "      <td>efo</td>\n",
       "      <td>3.47.0</td>\n",
       "      <td>mesh</td>\n",
       "      <td>2429</td>\n",
       "      <td>217</td>\n",
       "      <td>2646</td>\n",
       "      <td>8.9</td>\n",
       "    </tr>\n",
       "    <tr>\n",
       "      <th>8</th>\n",
       "      <td>efo</td>\n",
       "      <td>3.47.0</td>\n",
       "      <td>doid</td>\n",
       "      <td>2300</td>\n",
       "      <td>126</td>\n",
       "      <td>2426</td>\n",
       "      <td>5.5</td>\n",
       "    </tr>\n",
       "    <tr>\n",
       "      <th>9</th>\n",
       "      <td>efo</td>\n",
       "      <td>3.47.0</td>\n",
       "      <td>cl</td>\n",
       "      <td>11</td>\n",
       "      <td>0</td>\n",
       "      <td>11</td>\n",
       "      <td>0.0</td>\n",
       "    </tr>\n",
       "    <tr>\n",
       "      <th>10</th>\n",
       "      <td>efo</td>\n",
       "      <td>3.47.0</td>\n",
       "      <td>ccle</td>\n",
       "      <td>0</td>\n",
       "      <td>1032</td>\n",
       "      <td>1032</td>\n",
       "      <td>inf</td>\n",
       "    </tr>\n",
       "    <tr>\n",
       "      <th>11</th>\n",
       "      <td>hp</td>\n",
       "      <td>2022-10-05</td>\n",
       "      <td>mesh</td>\n",
       "      <td>1800</td>\n",
       "      <td>36</td>\n",
       "      <td>1836</td>\n",
       "      <td>2.0</td>\n",
       "    </tr>\n",
       "    <tr>\n",
       "      <th>12</th>\n",
       "      <td>go</td>\n",
       "      <td>2022-10-07</td>\n",
       "      <td>mesh</td>\n",
       "      <td>0</td>\n",
       "      <td>808</td>\n",
       "      <td>808</td>\n",
       "      <td>inf</td>\n",
       "    </tr>\n",
       "    <tr>\n",
       "      <th>13</th>\n",
       "      <td>go</td>\n",
       "      <td>2022-10-07</td>\n",
       "      <td>reactome</td>\n",
       "      <td>5787</td>\n",
       "      <td>418</td>\n",
       "      <td>6205</td>\n",
       "      <td>7.2</td>\n",
       "    </tr>\n",
       "    <tr>\n",
       "      <th>14</th>\n",
       "      <td>go</td>\n",
       "      <td>2022-10-07</td>\n",
       "      <td>wikipathways</td>\n",
       "      <td>0</td>\n",
       "      <td>495</td>\n",
       "      <td>495</td>\n",
       "      <td>inf</td>\n",
       "    </tr>\n",
       "    <tr>\n",
       "      <th>15</th>\n",
       "      <td>uberon</td>\n",
       "      <td>2022-09-30</td>\n",
       "      <td>mesh</td>\n",
       "      <td>892</td>\n",
       "      <td>262</td>\n",
       "      <td>1154</td>\n",
       "      <td>29.4</td>\n",
       "    </tr>\n",
       "    <tr>\n",
       "      <th>16</th>\n",
       "      <td>cl</td>\n",
       "      <td>2022-10-28</td>\n",
       "      <td>efo</td>\n",
       "      <td>13</td>\n",
       "      <td>0</td>\n",
       "      <td>13</td>\n",
       "      <td>0.0</td>\n",
       "    </tr>\n",
       "    <tr>\n",
       "      <th>17</th>\n",
       "      <td>cl</td>\n",
       "      <td>2022-10-28</td>\n",
       "      <td>mesh</td>\n",
       "      <td>1</td>\n",
       "      <td>161</td>\n",
       "      <td>162</td>\n",
       "      <td>16100.0</td>\n",
       "    </tr>\n",
       "    <tr>\n",
       "      <th>18</th>\n",
       "      <td>chebi</td>\n",
       "      <td>214</td>\n",
       "      <td>mesh</td>\n",
       "      <td>0</td>\n",
       "      <td>5325</td>\n",
       "      <td>5325</td>\n",
       "      <td>inf</td>\n",
       "    </tr>\n",
       "    <tr>\n",
       "      <th>19</th>\n",
       "      <td>chebi</td>\n",
       "      <td>214</td>\n",
       "      <td>ncit</td>\n",
       "      <td>0</td>\n",
       "      <td>12</td>\n",
       "      <td>12</td>\n",
       "      <td>inf</td>\n",
       "    </tr>\n",
       "    <tr>\n",
       "      <th>20</th>\n",
       "      <td>cellosaurus</td>\n",
       "      <td>unknown</td>\n",
       "      <td>efo</td>\n",
       "      <td>1302</td>\n",
       "      <td>0</td>\n",
       "      <td>1302</td>\n",
       "      <td>0.0</td>\n",
       "    </tr>\n",
       "    <tr>\n",
       "      <th>21</th>\n",
       "      <td>cellosaurus</td>\n",
       "      <td>unknown</td>\n",
       "      <td>ccle</td>\n",
       "      <td>1448</td>\n",
       "      <td>212</td>\n",
       "      <td>1570</td>\n",
       "      <td>14.6</td>\n",
       "    </tr>\n",
       "  </tbody>\n",
       "</table>\n",
       "</div>"
      ],
      "text/plain": [
       "       resource     version      external  primary_xrefs  biomappings_xrefs  \\\n",
       "0          doid  2022-09-29          umls              0                246   \n",
       "1          doid  2022-09-29          mesh              0               2905   \n",
       "2          doid  2022-09-29           efo              0                126   \n",
       "3         mondo  2022-10-11          umls          16771                  0   \n",
       "4         mondo  2022-10-11          mesh           7982                414   \n",
       "5         mondo  2022-10-11          doid           9894                  0   \n",
       "6         mondo  2022-10-11           efo           2865                  0   \n",
       "7           efo      3.47.0          mesh           2429                217   \n",
       "8           efo      3.47.0          doid           2300                126   \n",
       "9           efo      3.47.0            cl             11                  0   \n",
       "10          efo      3.47.0          ccle              0               1032   \n",
       "11           hp  2022-10-05          mesh           1800                 36   \n",
       "12           go  2022-10-07          mesh              0                808   \n",
       "13           go  2022-10-07      reactome           5787                418   \n",
       "14           go  2022-10-07  wikipathways              0                495   \n",
       "15       uberon  2022-09-30          mesh            892                262   \n",
       "16           cl  2022-10-28           efo             13                  0   \n",
       "17           cl  2022-10-28          mesh              1                161   \n",
       "18        chebi         214          mesh              0               5325   \n",
       "19        chebi         214          ncit              0                 12   \n",
       "20  cellosaurus     unknown           efo           1302                  0   \n",
       "21  cellosaurus     unknown          ccle           1448                212   \n",
       "\n",
       "    total_xrefs  percentage_gain  \n",
       "0           246              inf  \n",
       "1          2905              inf  \n",
       "2           126              inf  \n",
       "3         16771              0.0  \n",
       "4          8396              5.2  \n",
       "5          9894              0.0  \n",
       "6          2865              0.0  \n",
       "7          2646              8.9  \n",
       "8          2426              5.5  \n",
       "9            11              0.0  \n",
       "10         1032              inf  \n",
       "11         1836              2.0  \n",
       "12          808              inf  \n",
       "13         6205              7.2  \n",
       "14          495              inf  \n",
       "15         1154             29.4  \n",
       "16           13              0.0  \n",
       "17          162          16100.0  \n",
       "18         5325              inf  \n",
       "19           12              inf  \n",
       "20         1302              0.0  \n",
       "21         1570             14.6  "
      ]
     },
     "execution_count": 20,
     "metadata": {},
     "output_type": "execute_result"
    }
   ],
   "source": [
    "summary_df = pd.DataFrame(\n",
    "    summary_rows,\n",
    "    columns=[\n",
    "        \"resource\",\n",
    "        \"version\",\n",
    "        \"external\",\n",
    "        \"primary_xrefs\",\n",
    "        \"biomappings_xrefs\",\n",
    "        \"total_xrefs\",\n",
    "        \"percentage_gain\",\n",
    "    ],\n",
    ")\n",
    "pd.option_context(\"display.max_rows\", summary_df.shape[0])\n",
    "summary_df"
   ]
  },
  {
   "cell_type": "markdown",
   "id": "8d08bcdd",
   "metadata": {},
   "source": [
    "# Assess Impact on Mapping Hetionet Datasources"
   ]
  },
  {
   "cell_type": "markdown",
   "id": "83dbc9c3",
   "metadata": {},
   "source": [
    "## CTD Chemical-Gene Interactions"
   ]
  },
  {
   "cell_type": "code",
   "execution_count": 8,
   "id": "1059bff8",
   "metadata": {},
   "outputs": [
    {
     "data": {
      "text/plain": [
       "0    C534883\n",
       "1    C534883\n",
       "2    C534883\n",
       "3    C534883\n",
       "4    C534883\n",
       "Name: 1, dtype: object"
      ]
     },
     "execution_count": 8,
     "metadata": {},
     "output_type": "execute_result"
    }
   ],
   "source": [
    "CTD_CHEMICAL_GENE_URL = \"https://ctdbase.org/reports/CTD_chem_gene_ixns.tsv.gz\"\n",
    "ctd_header = [\n",
    "    \"chemical_name\",\n",
    "    \"chemical_mesh_id\",\n",
    "    \"chemical_cas\",\n",
    "    \"gene_symbol\",\n",
    "    \"gene_ncbigene_id\",\n",
    "    \"gene_forms\",\n",
    "    \"organism_name\",\n",
    "    \"organism_ncbitaxon_id\",\n",
    "    \"evidence\",\n",
    "    \"interaction\",\n",
    "    \"pubmed_ids\",\n",
    "]\n",
    "ctd_gene_chemical_df = EVALUATION.ensure_csv(\n",
    "    url=CTD_CHEMICAL_GENE_URL,\n",
    "    read_csv_kwargs=dict(\n",
    "        sep=\"\\t\",\n",
    "        comment=\"#\",\n",
    "        header=None,\n",
    "        dtype=str,\n",
    "        keep_default_na=False,\n",
    "        usecols=[1],\n",
    "        squeeze=True,\n",
    "    ),\n",
    ")\n",
    "ctd_gene_chemical_df.head()"
   ]
  },
  {
   "cell_type": "code",
   "execution_count": 9,
   "id": "737bff5c",
   "metadata": {},
   "outputs": [
    {
     "name": "stdout",
     "output_type": "stream",
     "text": [
      "Missing                        Unmappable to chebi    % Unmappable\n",
      "-----------------------------  ---------------------  --------------\n",
      "Total in ctd-chemical-gene     14,337\n",
      "Missing w/ mesh                14,337                 100.00%\n",
      "Missing w/ mesh + BM.          12,884                 89.9%\n",
      "Missing w/ mesh + BM. + Pred.  9,086                  63.4%\n"
     ]
    }
   ],
   "source": [
    "# TODO consider that CTD provides CAS identifiers - mesh\n",
    "# provides CAS ids, which can also be mapped to ChEBI\n",
    "\n",
    "result = Result.make(\n",
    "    dataset=\"ctd-chemical-gene\",\n",
    "    source=\"mesh\",\n",
    "    target=\"chebi\",\n",
    "    datasource_identifiers=set(ctd_gene_chemical_df.tolist()),\n",
    "    primary=primary_dd,\n",
    "    secondary=biomappings_dd,\n",
    "    tertiary=biomappings_predictions_dd,\n",
    ")\n",
    "result.print()\n",
    "evaluation_results.append(result)"
   ]
  },
  {
   "cell_type": "markdown",
   "id": "d07d55e8",
   "metadata": {},
   "source": [
    "## CTD Chemical-Diseases"
   ]
  },
  {
   "cell_type": "code",
   "execution_count": 10,
   "id": "7abcb470",
   "metadata": {},
   "outputs": [
    {
     "data": {
      "text/plain": [
       "0       MESH:D054198\n",
       "1       MESH:D000230\n",
       "2    MESH:D000077192\n",
       "3       MESH:D000505\n",
       "4       MESH:D013734\n",
       "Name: 4, dtype: object"
      ]
     },
     "execution_count": 10,
     "metadata": {},
     "output_type": "execute_result"
    }
   ],
   "source": [
    "CTD_CHEMICAL_DISEASES_URL = \"https://ctdbase.org/reports/CTD_chemicals_diseases.tsv.gz\"\n",
    "\"\"\"\n",
    "    ChemicalName\n",
    "    ChemicalID (MeSH identifier)\n",
    "    CasRN (CAS Registry Number, if available)\n",
    "    DiseaseName\n",
    "    DiseaseID (MeSH or OMIM identifier)\n",
    "    DirectEvidence ('|'-delimited list)\n",
    "    InferenceGeneSymbol\n",
    "    InferenceScore\n",
    "    OmimIDs ('|'-delimited list)\n",
    "    PubMedIDs ('|'-delimited list)\n",
    "\"\"\"\n",
    "ctd_chemical_diseases_df = EVALUATION.ensure_csv(\n",
    "    url=CTD_CHEMICAL_DISEASES_URL,\n",
    "    read_csv_kwargs=dict(\n",
    "        sep=\"\\t\",\n",
    "        comment=\"#\",\n",
    "        header=None,\n",
    "        dtype=str,\n",
    "        keep_default_na=False,\n",
    "        usecols=[4],\n",
    "        squeeze=True,\n",
    "    ),\n",
    ")\n",
    "ctd_chemical_diseases_df.head()"
   ]
  },
  {
   "cell_type": "code",
   "execution_count": 11,
   "id": "b4c548b0",
   "metadata": {},
   "outputs": [],
   "source": [
    "ctd_chemical_diseases_mesh = {\n",
    "    x.split(\":\")[1] for x in ctd_chemical_diseases_df.tolist() if x.startswith(\"MESH\")\n",
    "}\n",
    "ctd_chemical_diseases_omim = {\n",
    "    x.split(\":\")[1] for x in ctd_chemical_diseases_df.tolist() if x.startswith(\"OMIM\")\n",
    "}"
   ]
  },
  {
   "cell_type": "code",
   "execution_count": 12,
   "id": "453dd938",
   "metadata": {},
   "outputs": [
    {
     "name": "stdout",
     "output_type": "stream",
     "text": [
      "Missing                        Unmappable to doid    % Unmappable\n",
      "-----------------------------  --------------------  --------------\n",
      "Total in ctd-gene-disease      5,821\n",
      "Missing w/ mesh                5,821                 100.00%\n",
      "Missing w/ mesh + BM.          4,751                 81.6%\n",
      "Missing w/ mesh + BM. + Pred.  4,706                 80.8%\n"
     ]
    }
   ],
   "source": [
    "result = Result.make(\n",
    "    dataset=\"ctd-gene-disease\",\n",
    "    source=\"mesh\",\n",
    "    target=\"doid\",\n",
    "    datasource_identifiers=ctd_chemical_diseases_mesh,\n",
    "    primary=primary_dd,\n",
    "    secondary=biomappings_dd,\n",
    "    tertiary=biomappings_predictions_dd,\n",
    ")\n",
    "result.print()\n",
    "evaluation_results.append(result)"
   ]
  },
  {
   "cell_type": "code",
   "execution_count": 13,
   "id": "c36bbcb3",
   "metadata": {},
   "outputs": [
    {
     "name": "stdout",
     "output_type": "stream",
     "text": [
      "Missing                        Unmappable to mondo    % Unmappable\n",
      "-----------------------------  ---------------------  --------------\n",
      "Total in ctd-gene-disease      5,821\n",
      "Missing w/ mesh                1,472                  25.29%\n",
      "Missing w/ mesh + BM.          1,461                  25.1%\n",
      "Missing w/ mesh + BM. + Pred.  1,418                  24.4%\n"
     ]
    }
   ],
   "source": [
    "result = Result.make(\n",
    "    dataset=\"ctd-gene-disease\",\n",
    "    source=\"mesh\",\n",
    "    target=\"mondo\",\n",
    "    datasource_identifiers=ctd_chemical_diseases_mesh,\n",
    "    primary=primary_dd,\n",
    "    secondary=biomappings_dd,\n",
    "    tertiary=biomappings_predictions_dd,\n",
    ")\n",
    "result.print()\n",
    "evaluation_results.append(result)"
   ]
  },
  {
   "cell_type": "markdown",
   "id": "239e104b",
   "metadata": {},
   "source": [
    "# SIDER Side Effects"
   ]
  },
  {
   "cell_type": "code",
   "execution_count": 14,
   "id": "49d8a3d2",
   "metadata": {},
   "outputs": [
    {
     "data": {
      "text/html": [
       "<div>\n",
       "<style scoped>\n",
       "    .dataframe tbody tr th:only-of-type {\n",
       "        vertical-align: middle;\n",
       "    }\n",
       "\n",
       "    .dataframe tbody tr th {\n",
       "        vertical-align: top;\n",
       "    }\n",
       "\n",
       "    .dataframe thead th {\n",
       "        text-align: right;\n",
       "    }\n",
       "</style>\n",
       "<table border=\"1\" class=\"dataframe\">\n",
       "  <thead>\n",
       "    <tr style=\"text-align: right;\">\n",
       "      <th></th>\n",
       "      <th>STITCH_FLAT_ID</th>\n",
       "      <th>STITCH_STEREO_ID</th>\n",
       "      <th>UMLS CUI from Label</th>\n",
       "      <th>MedDRA Concept Type</th>\n",
       "      <th>UMLS CUI from MedDRA</th>\n",
       "      <th>MedDRA Concept name</th>\n",
       "    </tr>\n",
       "  </thead>\n",
       "  <tbody>\n",
       "    <tr>\n",
       "      <th>0</th>\n",
       "      <td>CID100000085</td>\n",
       "      <td>CID000010917</td>\n",
       "      <td>C0000729</td>\n",
       "      <td>LLT</td>\n",
       "      <td>C0000729</td>\n",
       "      <td>Abdominal cramps</td>\n",
       "    </tr>\n",
       "    <tr>\n",
       "      <th>1</th>\n",
       "      <td>CID100000085</td>\n",
       "      <td>CID000010917</td>\n",
       "      <td>C0000729</td>\n",
       "      <td>PT</td>\n",
       "      <td>C0000737</td>\n",
       "      <td>Abdominal pain</td>\n",
       "    </tr>\n",
       "    <tr>\n",
       "      <th>2</th>\n",
       "      <td>CID100000085</td>\n",
       "      <td>CID000010917</td>\n",
       "      <td>C0000737</td>\n",
       "      <td>LLT</td>\n",
       "      <td>C0000737</td>\n",
       "      <td>Abdominal pain</td>\n",
       "    </tr>\n",
       "    <tr>\n",
       "      <th>3</th>\n",
       "      <td>CID100000085</td>\n",
       "      <td>CID000010917</td>\n",
       "      <td>C0000737</td>\n",
       "      <td>PT</td>\n",
       "      <td>C0687713</td>\n",
       "      <td>Gastrointestinal pain</td>\n",
       "    </tr>\n",
       "    <tr>\n",
       "      <th>4</th>\n",
       "      <td>CID100000085</td>\n",
       "      <td>CID000010917</td>\n",
       "      <td>C0000737</td>\n",
       "      <td>PT</td>\n",
       "      <td>C0000737</td>\n",
       "      <td>Abdominal pain</td>\n",
       "    </tr>\n",
       "    <tr>\n",
       "      <th>...</th>\n",
       "      <td>...</td>\n",
       "      <td>...</td>\n",
       "      <td>...</td>\n",
       "      <td>...</td>\n",
       "      <td>...</td>\n",
       "      <td>...</td>\n",
       "    </tr>\n",
       "    <tr>\n",
       "      <th>309844</th>\n",
       "      <td>CID171306834</td>\n",
       "      <td>CID071306834</td>\n",
       "      <td>C3203358</td>\n",
       "      <td>PT</td>\n",
       "      <td>C1145670</td>\n",
       "      <td>Respiratory failure</td>\n",
       "    </tr>\n",
       "    <tr>\n",
       "      <th>309845</th>\n",
       "      <td>CID171306834</td>\n",
       "      <td>CID071306834</td>\n",
       "      <td>C3665386</td>\n",
       "      <td>LLT</td>\n",
       "      <td>C3665386</td>\n",
       "      <td>Abnormal vision</td>\n",
       "    </tr>\n",
       "    <tr>\n",
       "      <th>309846</th>\n",
       "      <td>CID171306834</td>\n",
       "      <td>CID071306834</td>\n",
       "      <td>C3665386</td>\n",
       "      <td>PT</td>\n",
       "      <td>C3665347</td>\n",
       "      <td>Visual impairment</td>\n",
       "    </tr>\n",
       "    <tr>\n",
       "      <th>309847</th>\n",
       "      <td>CID171306834</td>\n",
       "      <td>CID071306834</td>\n",
       "      <td>C3665596</td>\n",
       "      <td>LLT</td>\n",
       "      <td>C3665596</td>\n",
       "      <td>Warts</td>\n",
       "    </tr>\n",
       "    <tr>\n",
       "      <th>309848</th>\n",
       "      <td>CID171306834</td>\n",
       "      <td>CID071306834</td>\n",
       "      <td>C3665596</td>\n",
       "      <td>PT</td>\n",
       "      <td>C0347390</td>\n",
       "      <td>Skin papilloma</td>\n",
       "    </tr>\n",
       "  </tbody>\n",
       "</table>\n",
       "<p>309849 rows × 6 columns</p>\n",
       "</div>"
      ],
      "text/plain": [
       "       STITCH_FLAT_ID STITCH_STEREO_ID UMLS CUI from Label  \\\n",
       "0        CID100000085     CID000010917            C0000729   \n",
       "1        CID100000085     CID000010917            C0000729   \n",
       "2        CID100000085     CID000010917            C0000737   \n",
       "3        CID100000085     CID000010917            C0000737   \n",
       "4        CID100000085     CID000010917            C0000737   \n",
       "...               ...              ...                 ...   \n",
       "309844   CID171306834     CID071306834            C3203358   \n",
       "309845   CID171306834     CID071306834            C3665386   \n",
       "309846   CID171306834     CID071306834            C3665386   \n",
       "309847   CID171306834     CID071306834            C3665596   \n",
       "309848   CID171306834     CID071306834            C3665596   \n",
       "\n",
       "       MedDRA Concept Type UMLS CUI from MedDRA    MedDRA Concept name  \n",
       "0                      LLT             C0000729       Abdominal cramps  \n",
       "1                       PT             C0000737         Abdominal pain  \n",
       "2                      LLT             C0000737         Abdominal pain  \n",
       "3                       PT             C0687713  Gastrointestinal pain  \n",
       "4                       PT             C0000737         Abdominal pain  \n",
       "...                    ...                  ...                    ...  \n",
       "309844                  PT             C1145670    Respiratory failure  \n",
       "309845                 LLT             C3665386        Abnormal vision  \n",
       "309846                  PT             C3665347      Visual impairment  \n",
       "309847                 LLT             C3665596                  Warts  \n",
       "309848                  PT             C0347390         Skin papilloma  \n",
       "\n",
       "[309849 rows x 6 columns]"
      ]
     },
     "execution_count": 14,
     "metadata": {},
     "output_type": "execute_result"
    }
   ],
   "source": [
    "SIDER_URL = \"http://sideeffects.embl.de/media/download/meddra_all_se.tsv.gz\"\n",
    "\n",
    "SIDE_EFFECTS_HEADER = [\n",
    "    \"STITCH_FLAT_ID\",\n",
    "    \"STITCH_STEREO_ID\",\n",
    "    \"UMLS CUI from Label\",\n",
    "    \"MedDRA Concept Type\",\n",
    "    \"UMLS CUI from MedDRA\",\n",
    "    \"MedDRA Concept name\",\n",
    "]\n",
    "\n",
    "side_effects_df = EVALUATION.ensure_csv(\n",
    "    url=SIDER_URL,\n",
    "    read_csv_kwargs=dict(\n",
    "        dtype=str,\n",
    "        header=None,\n",
    "        names=SIDE_EFFECTS_HEADER,\n",
    "    ),\n",
    ")\n",
    "side_effects_df"
   ]
  },
  {
   "cell_type": "code",
   "execution_count": 15,
   "id": "7c2e15dc",
   "metadata": {},
   "outputs": [
    {
     "name": "stdout",
     "output_type": "stream",
     "text": [
      "Missing                        Unmappable to doid    % Unmappable\n",
      "-----------------------------  --------------------  --------------\n",
      "Total in sider                 5,868\n",
      "Missing w/ umls                5,868                 100.00%\n",
      "Missing w/ umls + BM.          5,855                 99.8%\n",
      "Missing w/ umls + BM. + Pred.  5,726                 97.6%\n"
     ]
    }
   ],
   "source": [
    "result = Result.make(\n",
    "    dataset=\"sider\",\n",
    "    source=\"umls\",\n",
    "    target=\"doid\",\n",
    "    datasource_identifiers=set(side_effects_df[\"UMLS CUI from Label\"].unique()),\n",
    "    primary=primary_dd,\n",
    "    secondary=biomappings_dd,\n",
    "    tertiary=biomappings_predictions_dd,\n",
    ")\n",
    "result.print()\n",
    "evaluation_results.append(result)"
   ]
  },
  {
   "cell_type": "markdown",
   "id": "c40d3b73",
   "metadata": {},
   "source": [
    "## CCLE Achilles Cell Lines"
   ]
  },
  {
   "cell_type": "code",
   "execution_count": 16,
   "id": "1d2acdce",
   "metadata": {},
   "outputs": [
    {
     "data": {
      "text/html": [
       "<div>\n",
       "<style scoped>\n",
       "    .dataframe tbody tr th:only-of-type {\n",
       "        vertical-align: middle;\n",
       "    }\n",
       "\n",
       "    .dataframe tbody tr th {\n",
       "        vertical-align: top;\n",
       "    }\n",
       "\n",
       "    .dataframe thead th {\n",
       "        text-align: right;\n",
       "    }\n",
       "</style>\n",
       "<table border=\"1\" class=\"dataframe\">\n",
       "  <thead>\n",
       "    <tr style=\"text-align: right;\">\n",
       "      <th></th>\n",
       "      <th>DepMap_ID</th>\n",
       "      <th>cell_line_name</th>\n",
       "      <th>stripped_cell_line_name</th>\n",
       "      <th>CCLE_Name</th>\n",
       "      <th>alias</th>\n",
       "      <th>COSMICID</th>\n",
       "      <th>sex</th>\n",
       "      <th>source</th>\n",
       "      <th>RRID</th>\n",
       "      <th>WTSI_Master_Cell_ID</th>\n",
       "      <th>...</th>\n",
       "      <th>lineage_sub_subtype</th>\n",
       "      <th>lineage_molecular_subtype</th>\n",
       "      <th>default_growth_pattern</th>\n",
       "      <th>model_manipulation</th>\n",
       "      <th>model_manipulation_details</th>\n",
       "      <th>patient_id</th>\n",
       "      <th>parent_depmap_id</th>\n",
       "      <th>Cellosaurus_NCIt_disease</th>\n",
       "      <th>Cellosaurus_NCIt_id</th>\n",
       "      <th>Cellosaurus_issues</th>\n",
       "    </tr>\n",
       "  </thead>\n",
       "  <tbody>\n",
       "    <tr>\n",
       "      <th>0</th>\n",
       "      <td>ACH-000016</td>\n",
       "      <td>SLR 21</td>\n",
       "      <td>SLR21</td>\n",
       "      <td>SLR21_KIDNEY</td>\n",
       "      <td>NaN</td>\n",
       "      <td>NaN</td>\n",
       "      <td>NaN</td>\n",
       "      <td>Academic lab</td>\n",
       "      <td>CVCL_V607</td>\n",
       "      <td>NaN</td>\n",
       "      <td>...</td>\n",
       "      <td>NaN</td>\n",
       "      <td>NaN</td>\n",
       "      <td>NaN</td>\n",
       "      <td>NaN</td>\n",
       "      <td>NaN</td>\n",
       "      <td>PT-JnARLB</td>\n",
       "      <td>NaN</td>\n",
       "      <td>Clear cell renal cell carcinoma</td>\n",
       "      <td>C4033</td>\n",
       "      <td>NaN</td>\n",
       "    </tr>\n",
       "    <tr>\n",
       "      <th>1</th>\n",
       "      <td>ACH-000032</td>\n",
       "      <td>MHH-CALL-3</td>\n",
       "      <td>MHHCALL3</td>\n",
       "      <td>MHHCALL3_HAEMATOPOIETIC_AND_LYMPHOID_TISSUE</td>\n",
       "      <td>NaN</td>\n",
       "      <td>NaN</td>\n",
       "      <td>Female</td>\n",
       "      <td>DSMZ</td>\n",
       "      <td>CVCL_0089</td>\n",
       "      <td>NaN</td>\n",
       "      <td>...</td>\n",
       "      <td>b_cell</td>\n",
       "      <td>NaN</td>\n",
       "      <td>NaN</td>\n",
       "      <td>NaN</td>\n",
       "      <td>NaN</td>\n",
       "      <td>PT-p2KOyI</td>\n",
       "      <td>NaN</td>\n",
       "      <td>Childhood B acute lymphoblastic leukemia</td>\n",
       "      <td>C9140</td>\n",
       "      <td>NaN</td>\n",
       "    </tr>\n",
       "    <tr>\n",
       "      <th>2</th>\n",
       "      <td>ACH-000033</td>\n",
       "      <td>NCI-H1819</td>\n",
       "      <td>NCIH1819</td>\n",
       "      <td>NCIH1819_LUNG</td>\n",
       "      <td>NaN</td>\n",
       "      <td>NaN</td>\n",
       "      <td>Female</td>\n",
       "      <td>Academic lab</td>\n",
       "      <td>CVCL_1497</td>\n",
       "      <td>NaN</td>\n",
       "      <td>...</td>\n",
       "      <td>NSCLC_adenocarcinoma</td>\n",
       "      <td>NaN</td>\n",
       "      <td>NaN</td>\n",
       "      <td>NaN</td>\n",
       "      <td>NaN</td>\n",
       "      <td>PT-9p1WQv</td>\n",
       "      <td>NaN</td>\n",
       "      <td>Lung adenocarcinoma</td>\n",
       "      <td>C3512</td>\n",
       "      <td>NaN</td>\n",
       "    </tr>\n",
       "    <tr>\n",
       "      <th>3</th>\n",
       "      <td>ACH-000043</td>\n",
       "      <td>Hs 895.T</td>\n",
       "      <td>HS895T</td>\n",
       "      <td>HS895T_FIBROBLAST</td>\n",
       "      <td>NaN</td>\n",
       "      <td>NaN</td>\n",
       "      <td>Female</td>\n",
       "      <td>ATCC</td>\n",
       "      <td>CVCL_0993</td>\n",
       "      <td>NaN</td>\n",
       "      <td>...</td>\n",
       "      <td>NaN</td>\n",
       "      <td>NaN</td>\n",
       "      <td>2D: adherent</td>\n",
       "      <td>NaN</td>\n",
       "      <td>NaN</td>\n",
       "      <td>PT-rTUVZQ</td>\n",
       "      <td>NaN</td>\n",
       "      <td>Melanoma</td>\n",
       "      <td>C3224</td>\n",
       "      <td>NaN</td>\n",
       "    </tr>\n",
       "    <tr>\n",
       "      <th>4</th>\n",
       "      <td>ACH-000049</td>\n",
       "      <td>HEK TE</td>\n",
       "      <td>HEKTE</td>\n",
       "      <td>HEKTE_KIDNEY</td>\n",
       "      <td>NaN</td>\n",
       "      <td>NaN</td>\n",
       "      <td>NaN</td>\n",
       "      <td>Academic lab</td>\n",
       "      <td>CVCL_WS59</td>\n",
       "      <td>NaN</td>\n",
       "      <td>...</td>\n",
       "      <td>NaN</td>\n",
       "      <td>NaN</td>\n",
       "      <td>NaN</td>\n",
       "      <td>immortalized</td>\n",
       "      <td>NaN</td>\n",
       "      <td>PT-qWYYgr</td>\n",
       "      <td>NaN</td>\n",
       "      <td>NaN</td>\n",
       "      <td>NaN</td>\n",
       "      <td>No information is available about this cell li...</td>\n",
       "    </tr>\n",
       "  </tbody>\n",
       "</table>\n",
       "<p>5 rows × 29 columns</p>\n",
       "</div>"
      ],
      "text/plain": [
       "    DepMap_ID cell_line_name stripped_cell_line_name  \\\n",
       "0  ACH-000016         SLR 21                   SLR21   \n",
       "1  ACH-000032     MHH-CALL-3                MHHCALL3   \n",
       "2  ACH-000033      NCI-H1819                NCIH1819   \n",
       "3  ACH-000043       Hs 895.T                  HS895T   \n",
       "4  ACH-000049         HEK TE                   HEKTE   \n",
       "\n",
       "                                     CCLE_Name alias  COSMICID     sex  \\\n",
       "0                                 SLR21_KIDNEY   NaN       NaN     NaN   \n",
       "1  MHHCALL3_HAEMATOPOIETIC_AND_LYMPHOID_TISSUE   NaN       NaN  Female   \n",
       "2                                NCIH1819_LUNG   NaN       NaN  Female   \n",
       "3                            HS895T_FIBROBLAST   NaN       NaN  Female   \n",
       "4                                 HEKTE_KIDNEY   NaN       NaN     NaN   \n",
       "\n",
       "         source       RRID  WTSI_Master_Cell_ID  ...   lineage_sub_subtype  \\\n",
       "0  Academic lab  CVCL_V607                  NaN  ...                   NaN   \n",
       "1          DSMZ  CVCL_0089                  NaN  ...                b_cell   \n",
       "2  Academic lab  CVCL_1497                  NaN  ...  NSCLC_adenocarcinoma   \n",
       "3          ATCC  CVCL_0993                  NaN  ...                   NaN   \n",
       "4  Academic lab  CVCL_WS59                  NaN  ...                   NaN   \n",
       "\n",
       "  lineage_molecular_subtype default_growth_pattern model_manipulation  \\\n",
       "0                       NaN                    NaN                NaN   \n",
       "1                       NaN                    NaN                NaN   \n",
       "2                       NaN                    NaN                NaN   \n",
       "3                       NaN           2D: adherent                NaN   \n",
       "4                       NaN                    NaN       immortalized   \n",
       "\n",
       "  model_manipulation_details patient_id parent_depmap_id  \\\n",
       "0                        NaN  PT-JnARLB              NaN   \n",
       "1                        NaN  PT-p2KOyI              NaN   \n",
       "2                        NaN  PT-9p1WQv              NaN   \n",
       "3                        NaN  PT-rTUVZQ              NaN   \n",
       "4                        NaN  PT-qWYYgr              NaN   \n",
       "\n",
       "                   Cellosaurus_NCIt_disease Cellosaurus_NCIt_id  \\\n",
       "0           Clear cell renal cell carcinoma               C4033   \n",
       "1  Childhood B acute lymphoblastic leukemia               C9140   \n",
       "2                       Lung adenocarcinoma               C3512   \n",
       "3                                  Melanoma               C3224   \n",
       "4                                       NaN                 NaN   \n",
       "\n",
       "                                  Cellosaurus_issues  \n",
       "0                                                NaN  \n",
       "1                                                NaN  \n",
       "2                                                NaN  \n",
       "3                                                NaN  \n",
       "4  No information is available about this cell li...  \n",
       "\n",
       "[5 rows x 29 columns]"
      ]
     },
     "execution_count": 16,
     "metadata": {},
     "output_type": "execute_result"
    }
   ],
   "source": [
    "# See https://depmap.org/portal/download/\n",
    "# CCLE_ACHILLES_URL = \"https://ndownloader.figshare.com/files/35020903\"\n",
    "# unfortuntaly, this is set up to thwart automated downloading, so this file is included in this directory.\n",
    "\n",
    "ccle_achilles_df = pd.read_csv(\"sample_info.csv\")\n",
    "ccle_achilles_df.head()"
   ]
  },
  {
   "cell_type": "code",
   "execution_count": 17,
   "id": "e9dde3dc",
   "metadata": {},
   "outputs": [
    {
     "name": "stdout",
     "output_type": "stream",
     "text": [
      "Missing                        Unmappable to efo    % Unmappable\n",
      "-----------------------------  -------------------  --------------\n",
      "Total in ccle-achilles         1,837\n",
      "Missing w/ ccle                1,837                100.00%\n",
      "Missing w/ ccle + BM.          1,326                72.2%\n",
      "Missing w/ ccle + BM. + Pred.  1,270                69.1%\n"
     ]
    }
   ],
   "source": [
    "result = Result.make(\n",
    "    dataset=\"ccle-achilles\",\n",
    "    source=\"ccle\",\n",
    "    target=\"efo\",\n",
    "    datasource_identifiers=set(ccle_achilles_df[\"CCLE_Name\"].unique()),\n",
    "    primary=primary_dd,\n",
    "    secondary=biomappings_dd,\n",
    "    tertiary=biomappings_predictions_dd,\n",
    ")\n",
    "result.print()\n",
    "evaluation_results.append(result)"
   ]
  },
  {
   "cell_type": "markdown",
   "id": "48c02d75",
   "metadata": {},
   "source": [
    "## Rhea"
   ]
  },
  {
   "cell_type": "code",
   "execution_count": 18,
   "id": "ecadd60e",
   "metadata": {},
   "outputs": [
    {
     "name": "stdout",
     "output_type": "stream",
     "text": [
      "Missing                         Unmappable to mesh    % Unmappable\n",
      "------------------------------  --------------------  --------------\n",
      "Total in rhea                   10,812\n",
      "Missing w/ chebi                10,812                100.00%\n",
      "Missing w/ chebi + BM.          10,684                98.8%\n",
      "Missing w/ chebi + BM. + Pred.  9,861                 91.2%\n"
     ]
    }
   ],
   "source": [
    "RHEA_URL = \"https://ftp.expasy.org/databases/rhea/tsv/chebiId%5Fname.tsv\"\n",
    "rhea_chebi_ids = {\n",
    "    curie.removeprefix(\"CHEBI:\")\n",
    "    for curie in pd.read_csv(RHEA_URL, sep=\"\\t\", header=None, usecols=[0], squeeze=True)\n",
    "    if curie.startswith(\"CHEBI:\")\n",
    "}\n",
    "result = Result.make(\n",
    "    dataset=\"rhea\",\n",
    "    source=\"chebi\",\n",
    "    target=\"mesh\",\n",
    "    datasource_identifiers=rhea_chebi_ids,\n",
    "    primary=primary_dd,\n",
    "    secondary=biomappings_dd,\n",
    "    tertiary=biomappings_predictions_dd,\n",
    ")\n",
    "result.print()\n",
    "evaluation_results.append(result)"
   ]
  },
  {
   "cell_type": "markdown",
   "id": "58f9751f",
   "metadata": {},
   "source": [
    "## Summary"
   ]
  },
  {
   "cell_type": "code",
   "execution_count": 19,
   "id": "890522c3",
   "metadata": {},
   "outputs": [
    {
     "data": {
      "text/html": [
       "<div>\n",
       "<style scoped>\n",
       "    .dataframe tbody tr th:only-of-type {\n",
       "        vertical-align: middle;\n",
       "    }\n",
       "\n",
       "    .dataframe tbody tr th {\n",
       "        vertical-align: top;\n",
       "    }\n",
       "\n",
       "    .dataframe thead th {\n",
       "        text-align: right;\n",
       "    }\n",
       "</style>\n",
       "<table border=\"1\" class=\"dataframe\">\n",
       "  <thead>\n",
       "    <tr style=\"text-align: right;\">\n",
       "      <th></th>\n",
       "      <th>dataset</th>\n",
       "      <th>source</th>\n",
       "      <th>target</th>\n",
       "      <th>total</th>\n",
       "      <th>missing_w_primary</th>\n",
       "      <th>m1 (%)</th>\n",
       "      <th>missing_w_curations</th>\n",
       "      <th>m2 (%)</th>\n",
       "      <th>m2d</th>\n",
       "      <th>missing_w_predictions</th>\n",
       "      <th>m3 (%)</th>\n",
       "      <th>m3d</th>\n",
       "    </tr>\n",
       "  </thead>\n",
       "  <tbody>\n",
       "    <tr>\n",
       "      <th>0</th>\n",
       "      <td>ctd-chemical-gene</td>\n",
       "      <td>mesh</td>\n",
       "      <td>chebi</td>\n",
       "      <td>14337</td>\n",
       "      <td>14337</td>\n",
       "      <td>100.0</td>\n",
       "      <td>12884</td>\n",
       "      <td>89.9</td>\n",
       "      <td>10.1</td>\n",
       "      <td>9086</td>\n",
       "      <td>63.4</td>\n",
       "      <td>36.6</td>\n",
       "    </tr>\n",
       "    <tr>\n",
       "      <th>1</th>\n",
       "      <td>ctd-gene-disease</td>\n",
       "      <td>mesh</td>\n",
       "      <td>doid</td>\n",
       "      <td>5821</td>\n",
       "      <td>5821</td>\n",
       "      <td>100.0</td>\n",
       "      <td>4751</td>\n",
       "      <td>81.6</td>\n",
       "      <td>18.4</td>\n",
       "      <td>4706</td>\n",
       "      <td>80.8</td>\n",
       "      <td>19.2</td>\n",
       "    </tr>\n",
       "    <tr>\n",
       "      <th>2</th>\n",
       "      <td>ctd-gene-disease</td>\n",
       "      <td>mesh</td>\n",
       "      <td>mondo</td>\n",
       "      <td>5821</td>\n",
       "      <td>1472</td>\n",
       "      <td>25.3</td>\n",
       "      <td>1461</td>\n",
       "      <td>25.1</td>\n",
       "      <td>0.2</td>\n",
       "      <td>1418</td>\n",
       "      <td>24.4</td>\n",
       "      <td>0.9</td>\n",
       "    </tr>\n",
       "    <tr>\n",
       "      <th>3</th>\n",
       "      <td>sider</td>\n",
       "      <td>umls</td>\n",
       "      <td>doid</td>\n",
       "      <td>5868</td>\n",
       "      <td>5868</td>\n",
       "      <td>100.0</td>\n",
       "      <td>5855</td>\n",
       "      <td>99.8</td>\n",
       "      <td>0.2</td>\n",
       "      <td>5726</td>\n",
       "      <td>97.6</td>\n",
       "      <td>2.4</td>\n",
       "    </tr>\n",
       "    <tr>\n",
       "      <th>4</th>\n",
       "      <td>ccle-achilles</td>\n",
       "      <td>ccle</td>\n",
       "      <td>efo</td>\n",
       "      <td>1837</td>\n",
       "      <td>1837</td>\n",
       "      <td>100.0</td>\n",
       "      <td>1326</td>\n",
       "      <td>72.2</td>\n",
       "      <td>27.8</td>\n",
       "      <td>1270</td>\n",
       "      <td>69.1</td>\n",
       "      <td>30.9</td>\n",
       "    </tr>\n",
       "    <tr>\n",
       "      <th>5</th>\n",
       "      <td>rhea</td>\n",
       "      <td>chebi</td>\n",
       "      <td>mesh</td>\n",
       "      <td>10812</td>\n",
       "      <td>10812</td>\n",
       "      <td>100.0</td>\n",
       "      <td>10684</td>\n",
       "      <td>98.8</td>\n",
       "      <td>1.2</td>\n",
       "      <td>9861</td>\n",
       "      <td>91.2</td>\n",
       "      <td>8.8</td>\n",
       "    </tr>\n",
       "  </tbody>\n",
       "</table>\n",
       "</div>"
      ],
      "text/plain": [
       "             dataset source target  total  missing_w_primary  m1 (%)  \\\n",
       "0  ctd-chemical-gene   mesh  chebi  14337              14337   100.0   \n",
       "1   ctd-gene-disease   mesh   doid   5821               5821   100.0   \n",
       "2   ctd-gene-disease   mesh  mondo   5821               1472    25.3   \n",
       "3              sider   umls   doid   5868               5868   100.0   \n",
       "4      ccle-achilles   ccle    efo   1837               1837   100.0   \n",
       "5               rhea  chebi   mesh  10812              10812   100.0   \n",
       "\n",
       "   missing_w_curations  m2 (%)   m2d  missing_w_predictions  m3 (%)   m3d  \n",
       "0                12884    89.9  10.1                   9086    63.4  36.6  \n",
       "1                 4751    81.6  18.4                   4706    80.8  19.2  \n",
       "2                 1461    25.1   0.2                   1418    24.4   0.9  \n",
       "3                 5855    99.8   0.2                   5726    97.6   2.4  \n",
       "4                 1326    72.2  27.8                   1270    69.1  30.9  \n",
       "5                10684    98.8   1.2                   9861    91.2   8.8  "
      ]
     },
     "execution_count": 19,
     "metadata": {},
     "output_type": "execute_result"
    }
   ],
   "source": [
    "evaluation_df_rows = []\n",
    "for result in evaluation_results:\n",
    "    evaluation_df_rows.append(\n",
    "        (\n",
    "            result.dataset,\n",
    "            result.source,\n",
    "            result.target,\n",
    "            result.total,\n",
    "            result.missing,\n",
    "            round(100 * result.missing / result.total, 1),\n",
    "            result.missing_biomappings,\n",
    "            round(100 * result.missing_biomappings / result.total, 1),\n",
    "            round(100 * (result.missing - result.missing_biomappings) / result.total, 1),\n",
    "            result.missing_predictions,\n",
    "            round(100 * result.missing_predictions / result.total, 1),\n",
    "            round(100 * (result.missing - result.missing_predictions) / result.total, 1),\n",
    "        )\n",
    "    )\n",
    "pd.DataFrame(\n",
    "    evaluation_df_rows,\n",
    "    columns=[\n",
    "        \"dataset\",\n",
    "        \"source\",\n",
    "        \"target\",\n",
    "        \"total\",\n",
    "        \"missing_w_primary\",\n",
    "        \"m1 (%)\",\n",
    "        \"missing_w_curations\",\n",
    "        \"m2 (%)\",\n",
    "        \"m2d\",\n",
    "        \"missing_w_predictions\",\n",
    "        \"m3 (%)\",\n",
    "        \"m3d\",\n",
    "    ],\n",
    ")"
   ]
  }
 ],
 "metadata": {
  "kernelspec": {
   "display_name": "Python 3 (ipykernel)",
   "language": "python",
   "name": "python3"
  },
  "language_info": {
   "codemirror_mode": {
    "name": "ipython",
    "version": 3
   },
   "file_extension": ".py",
   "mimetype": "text/x-python",
   "name": "python",
   "nbconvert_exporter": "python",
   "pygments_lexer": "ipython3",
   "version": "3.10.8"
  }
 },
 "nbformat": 4,
 "nbformat_minor": 5
}
