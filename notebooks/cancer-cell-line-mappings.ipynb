{
 "cells": [
  {
   "cell_type": "markdown",
   "id": "e862625e",
   "metadata": {},
   "source": [
    "# Mapping from CCLE to Cellosaurus/EFO\n",
    "\n",
    "This notebook supports the case study for mapping cancer cell lines."
   ]
  },
  {
   "cell_type": "code",
   "execution_count": 1,
   "id": "e74cfcb5",
   "metadata": {},
   "outputs": [],
   "source": [
    "import time\n",
    "from collections import Counter\n",
    "\n",
    "import bioregistry\n",
    "import bioversions\n",
    "import networkx as nx\n",
    "import pandas as pd\n",
    "import pyobo\n",
    "from bioregistry import curie_to_str\n",
    "\n",
    "import biomappings"
   ]
  },
  {
   "cell_type": "code",
   "execution_count": 2,
   "id": "6f3272f9",
   "metadata": {},
   "outputs": [
    {
     "name": "stdout",
     "output_type": "stream",
     "text": [
      "Tue Mar  7 13:06:56 2023\n"
     ]
    }
   ],
   "source": [
    "print(time.asctime())"
   ]
  },
  {
   "cell_type": "code",
   "execution_count": 3,
   "id": "4992128d",
   "metadata": {},
   "outputs": [],
   "source": [
    "prefixes = [\"ccle\", \"depmap\", \"cellosaurus\", \"efo\"]"
   ]
  },
  {
   "cell_type": "markdown",
   "id": "90384eac",
   "metadata": {},
   "source": [
    "This is using the 2019 version of the CCLE downloaded from the cBioPortal. It appears since, they have removed the ability to bulk download data."
   ]
  },
  {
   "cell_type": "code",
   "execution_count": 4,
   "id": "28a60723",
   "metadata": {},
   "outputs": [
    {
     "name": "stdout",
     "output_type": "stream",
     "text": [
      "ccle missing\n",
      "depmap 22Q4\n",
      "cellosaurus 44.0\n",
      "efo 3.49.0\n"
     ]
    }
   ],
   "source": [
    "for prefix in prefixes:\n",
    "    try:\n",
    "        print(prefix, bioversions.get_version(prefix))\n",
    "    except:\n",
    "        print(prefix, \"missing\")"
   ]
  },
  {
   "cell_type": "markdown",
   "id": "558c60c8",
   "metadata": {},
   "source": [
    "## Load Primary Mappings\n",
    "\n",
    "Primary mappings are loaded into a directed graph. Nodes represent entities, encoded in canonical Bioregisry CURIEs. Directed edges represent the existence of a mapping from the source node to the target node."
   ]
  },
  {
   "cell_type": "code",
   "execution_count": 5,
   "id": "cc463db3",
   "metadata": {},
   "outputs": [],
   "source": [
    "graph = nx.DiGraph()\n",
    "\n",
    "for prefix in prefixes:\n",
    "    if prefix == \"cellosaurus\":\n",
    "        df = pd.read_csv(\"cellosaurus_43_xrefs.tsv\", sep=\"\\t\")\n",
    "    else:\n",
    "        df = pyobo.get_xrefs_df(prefix)\n",
    "    for source_id, target_ns, target_id in df.values:\n",
    "        if target_ns not in prefixes or prefix == target_ns:\n",
    "            continue\n",
    "\n",
    "        source_id = source_id.removeprefix(\"EFO_\")\n",
    "        source_id = bioregistry.standardize_identifier(prefix, source_id)\n",
    "        target_id = target_id.removeprefix(\"EFO_\")\n",
    "        target_id = bioregistry.standardize_identifier(target_ns, target_id)\n",
    "\n",
    "        graph.add_edge(\n",
    "            curie_to_str(prefix, source_id),\n",
    "            curie_to_str(target_ns, target_id),\n",
    "        )"
   ]
  },
  {
   "cell_type": "code",
   "execution_count": 6,
   "id": "eee27989",
   "metadata": {},
   "outputs": [],
   "source": [
    "# check all CURIEs are correct\n",
    "for curie in graph:\n",
    "    assert bioregistry.is_valid_curie(curie)"
   ]
  },
  {
   "cell_type": "markdown",
   "id": "0e3cbf2f",
   "metadata": {},
   "source": [
    "## Summarize Primary Mappings\n",
    "\n",
    "The mapping graph is summarized as a dataframe."
   ]
  },
  {
   "cell_type": "code",
   "execution_count": 7,
   "id": "f728a288",
   "metadata": {},
   "outputs": [],
   "source": [
    "def calculate_graph_df(g):\n",
    "    \"\"\"Summarize a mapping graph as a dataframe.\"\"\"\n",
    "    rows = [\n",
    "        [\n",
    "            sum(u.startswith(source_prefix) and v.startswith(target_prefix) for u, v in g.edges())\n",
    "            for target_prefix in prefixes\n",
    "        ]\n",
    "        for source_prefix in prefixes\n",
    "    ]\n",
    "    df = pd.DataFrame(rows, columns=prefixes, index=prefixes)\n",
    "    df.index.name = \"source\"\n",
    "    df.columns.name = \"target\"\n",
    "    return df"
   ]
  },
  {
   "cell_type": "code",
   "execution_count": 8,
   "id": "5863eab9",
   "metadata": {},
   "outputs": [
    {
     "data": {
      "text/html": [
       "<div>\n",
       "<style scoped>\n",
       "    .dataframe tbody tr th:only-of-type {\n",
       "        vertical-align: middle;\n",
       "    }\n",
       "\n",
       "    .dataframe tbody tr th {\n",
       "        vertical-align: top;\n",
       "    }\n",
       "\n",
       "    .dataframe thead th {\n",
       "        text-align: right;\n",
       "    }\n",
       "</style>\n",
       "<table border=\"1\" class=\"dataframe\">\n",
       "  <thead>\n",
       "    <tr style=\"text-align: right;\">\n",
       "      <th>target</th>\n",
       "      <th>ccle</th>\n",
       "      <th>depmap</th>\n",
       "      <th>cellosaurus</th>\n",
       "      <th>efo</th>\n",
       "    </tr>\n",
       "    <tr>\n",
       "      <th>source</th>\n",
       "      <th></th>\n",
       "      <th></th>\n",
       "      <th></th>\n",
       "      <th></th>\n",
       "    </tr>\n",
       "  </thead>\n",
       "  <tbody>\n",
       "    <tr>\n",
       "      <th>ccle</th>\n",
       "      <td>0</td>\n",
       "      <td>1457</td>\n",
       "      <td>0</td>\n",
       "      <td>0</td>\n",
       "    </tr>\n",
       "    <tr>\n",
       "      <th>depmap</th>\n",
       "      <td>0</td>\n",
       "      <td>0</td>\n",
       "      <td>1678</td>\n",
       "      <td>0</td>\n",
       "    </tr>\n",
       "    <tr>\n",
       "      <th>cellosaurus</th>\n",
       "      <td>1448</td>\n",
       "      <td>1798</td>\n",
       "      <td>0</td>\n",
       "      <td>1302</td>\n",
       "    </tr>\n",
       "    <tr>\n",
       "      <th>efo</th>\n",
       "      <td>0</td>\n",
       "      <td>0</td>\n",
       "      <td>0</td>\n",
       "      <td>0</td>\n",
       "    </tr>\n",
       "  </tbody>\n",
       "</table>\n",
       "</div>"
      ],
      "text/plain": [
       "target       ccle  depmap  cellosaurus   efo\n",
       "source                                      \n",
       "ccle            0    1457            0     0\n",
       "depmap          0       0         1678     0\n",
       "cellosaurus  1448    1798            0  1302\n",
       "efo             0       0            0     0"
      ]
     },
     "execution_count": 8,
     "metadata": {},
     "output_type": "execute_result"
    }
   ],
   "source": [
    "summary_df = calculate_graph_df(graph)\n",
    "summary_df"
   ]
  },
  {
   "cell_type": "markdown",
   "id": "3ba8a7c3",
   "metadata": {},
   "source": [
    "## Check Benefits of Inference based on Primary Mappings\n",
    "\n",
    "Check if there is any benefit to mapping from CCLE to EFO via only Cellosaurus vs. via DepMap then Cellosaurus. This **only** uses primary mappings, and **does not** include any predicted nor manually curated mappings from Biomappings."
   ]
  },
  {
   "cell_type": "code",
   "execution_count": 9,
   "id": "c5dab008",
   "metadata": {},
   "outputs": [
    {
     "name": "stdout",
     "output_type": "stream",
     "text": [
      "- There are 1,444 Cellosaurus nodes directly mapped from CCLE.\n",
      "- There are 1,450 Cellosaurus nodes accessible when mapping from CCLE via DepMap.\n",
      "- The union of these makes 1,455 accessible.\n",
      "  - 1,439 of these are shared\n",
      "  - 5 are only accessible when mapping directly from CCLE\n",
      "  - 11 are only accessible when mapping from CCLE via DepMap.\n",
      "\n",
      "There are no mappings directly from CCLE to EFO. However, Cellosaurus maps to EFO, so mapping first\n",
      "from CCLE to Cellosaurus then to EFO allows for inference of CCLE to EFO mappings.\n",
      "\n",
      "- There are 718 EFO nodes mappable from CCLE via Cellosaurus.\n",
      "- There are 718 EFO nodes mappable from CCLE via DepMap and Cellosaurus.\n",
      "- This totals 719 mappings possible\n",
      "  - 717 of these are shared\n",
      "  - 1 are only accessible when mapping via Cellosaurus ({'efo:0003125'})\n",
      "  - 1 are only accessible when mapping via DepMap then Cellosaurus ({'efo:0001246'}).\n",
      "\n"
     ]
    }
   ],
   "source": [
    "direct_cellosaurus = set()\n",
    "indirect_cellosaurus = set()\n",
    "\n",
    "via_cellosaurus = set()\n",
    "via_depmap_cellosaurus = set()\n",
    "\n",
    "undirected_graph = graph.to_undirected()\n",
    "\n",
    "for ccle_node in undirected_graph:\n",
    "    if not ccle_node.startswith(\"ccle:\"):\n",
    "        continue\n",
    "    for cellosaurus_node in undirected_graph[ccle_node]:\n",
    "        if not cellosaurus_node.startswith(\"cellosaurus:\"):\n",
    "            continue\n",
    "        direct_cellosaurus.add(cellosaurus_node)\n",
    "        for efo_node in undirected_graph[cellosaurus_node]:\n",
    "            if not efo_node.startswith(\"efo:\"):\n",
    "                continue\n",
    "            via_cellosaurus.add(efo_node)\n",
    "\n",
    "    for depmap_node in undirected_graph[ccle_node]:\n",
    "        if not depmap_node.startswith(\"depmap:\"):\n",
    "            continue\n",
    "        for cellosaurus_node in undirected_graph[depmap_node]:\n",
    "            if not cellosaurus_node.startswith(\"cellosaurus:\"):\n",
    "                continue\n",
    "            indirect_cellosaurus.add(cellosaurus_node)\n",
    "            for efo_node in undirected_graph[cellosaurus_node]:\n",
    "                if not efo_node.startswith(\"efo:\"):\n",
    "                    continue\n",
    "                via_depmap_cellosaurus.add(efo_node)\n",
    "\n",
    "print(\n",
    "    f\"\"\"\\\n",
    "- There are {len(direct_cellosaurus):,} Cellosaurus nodes directly mapped from CCLE.\n",
    "- There are {len(indirect_cellosaurus):,} Cellosaurus nodes accessible when mapping from CCLE via DepMap.\n",
    "- The union of these makes {len(direct_cellosaurus.union(indirect_cellosaurus)):,} accessible.\n",
    "  - {len(direct_cellosaurus.intersection(indirect_cellosaurus)):,} of these are shared\n",
    "  - {len(direct_cellosaurus - indirect_cellosaurus):,} are only accessible when mapping directly from CCLE\n",
    "  - {len(indirect_cellosaurus - direct_cellosaurus):,} are only accessible when mapping from CCLE via DepMap.\n",
    "\n",
    "There are no mappings directly from CCLE to EFO. However, Cellosaurus maps to EFO, so mapping first\n",
    "from CCLE to Cellosaurus then to EFO allows for inference of CCLE to EFO mappings.\n",
    "\n",
    "- There are {len(via_cellosaurus):,} EFO nodes mappable from CCLE via Cellosaurus.\n",
    "- There are {len(via_depmap_cellosaurus):,} EFO nodes mappable from CCLE via DepMap and Cellosaurus.\n",
    "- This totals {len(via_cellosaurus.union(via_depmap_cellosaurus)):,} mappings possible\n",
    "  - {len(via_cellosaurus.intersection(via_depmap_cellosaurus)):,} of these are shared\n",
    "  - {len(via_cellosaurus - via_depmap_cellosaurus):,} are only accessible when mapping via Cellosaurus\\\n",
    " ({via_cellosaurus - via_depmap_cellosaurus})\n",
    "  - {len(via_depmap_cellosaurus - via_cellosaurus):,} are only accessible when mapping via DepMap then \\\n",
    "Cellosaurus ({via_depmap_cellosaurus - via_cellosaurus}).\n",
    "\"\"\"\n",
    ")"
   ]
  },
  {
   "cell_type": "markdown",
   "id": "99ca32bd",
   "metadata": {},
   "source": [
    "## Apply Reasoning and Inference in the primary mapping graph\n",
    "\n",
    "The graph is first compose with a reverse version of itself to allow reasoning over mappings backwards. Then, the transitive closure is used to add edges between all nodes that can be reached by following a path. Note that the diagonal entries now count the number of entities in a source that have mappings, potentially to any external resource."
   ]
  },
  {
   "cell_type": "code",
   "execution_count": 10,
   "id": "a9be88f2",
   "metadata": {},
   "outputs": [
    {
     "data": {
      "text/html": [
       "<div>\n",
       "<style scoped>\n",
       "    .dataframe tbody tr th:only-of-type {\n",
       "        vertical-align: middle;\n",
       "    }\n",
       "\n",
       "    .dataframe tbody tr th {\n",
       "        vertical-align: top;\n",
       "    }\n",
       "\n",
       "    .dataframe thead th {\n",
       "        text-align: right;\n",
       "    }\n",
       "</style>\n",
       "<table border=\"1\" class=\"dataframe\">\n",
       "  <thead>\n",
       "    <tr style=\"text-align: right;\">\n",
       "      <th>target</th>\n",
       "      <th>ccle</th>\n",
       "      <th>depmap</th>\n",
       "      <th>cellosaurus</th>\n",
       "      <th>efo</th>\n",
       "    </tr>\n",
       "    <tr>\n",
       "      <th>source</th>\n",
       "      <th></th>\n",
       "      <th></th>\n",
       "      <th></th>\n",
       "      <th></th>\n",
       "    </tr>\n",
       "  </thead>\n",
       "  <tbody>\n",
       "    <tr>\n",
       "      <th>ccle</th>\n",
       "      <td>10</td>\n",
       "      <td>1470</td>\n",
       "      <td>1455</td>\n",
       "      <td>725</td>\n",
       "    </tr>\n",
       "    <tr>\n",
       "      <th>depmap</th>\n",
       "      <td>13</td>\n",
       "      <td>13</td>\n",
       "      <td>1690</td>\n",
       "      <td>763</td>\n",
       "    </tr>\n",
       "    <tr>\n",
       "      <th>cellosaurus</th>\n",
       "      <td>12</td>\n",
       "      <td>114</td>\n",
       "      <td>2</td>\n",
       "      <td>1304</td>\n",
       "    </tr>\n",
       "    <tr>\n",
       "      <th>efo</th>\n",
       "      <td>0</td>\n",
       "      <td>0</td>\n",
       "      <td>0</td>\n",
       "      <td>6</td>\n",
       "    </tr>\n",
       "  </tbody>\n",
       "</table>\n",
       "</div>"
      ],
      "text/plain": [
       "target       ccle  depmap  cellosaurus   efo\n",
       "source                                      \n",
       "ccle           10    1470         1455   725\n",
       "depmap         13      13         1690   763\n",
       "cellosaurus    12     114            2  1304\n",
       "efo             0       0            0     6"
      ]
     },
     "execution_count": 10,
     "metadata": {},
     "output_type": "execute_result"
    }
   ],
   "source": [
    "closure_graph = nx.transitive_closure(graph.to_undirected(), reflexive=False)\n",
    "\n",
    "closure_summary_df = calculate_graph_df(closure_graph)\n",
    "closure_summary_df"
   ]
  },
  {
   "cell_type": "markdown",
   "id": "6c96781a",
   "metadata": {},
   "source": [
    "## Check problematic components in the primary mapping graph\n",
    "\n",
    "The following finds components in the mapping graph where there are not 1-1 mappings"
   ]
  },
  {
   "cell_type": "code",
   "execution_count": 11,
   "id": "52d4dcb2",
   "metadata": {},
   "outputs": [
    {
     "name": "stdout",
     "output_type": "stream",
     "text": [
      "['ccle:451LU_NS', 'ccle:451LU_SKIN', 'cellosaurus:6357', 'depmap:ACH-001002']\n",
      "['ccle:HCC2279_LUNG', 'cellosaurus:5131', 'depmap:ACH-000731', 'efo:0005374', 'efo:0006431']\n",
      "['ccle:KOSC2_UPPER_AERODIGESTIVE_TRACT', 'cellosaurus:1337', 'depmap:ACH-001543', 'depmap:ACH-002260']\n",
      "['ccle:LC1SQ_LUNG', 'ccle:LC1_LUNG', 'cellosaurus:3008', 'depmap:ACH-002156']\n",
      "['ccle:MB157_BREAST', 'ccle:MDAMB157_BREAST', 'cellosaurus:0618', 'depmap:ACH-000621', 'depmap:ACH-001120', 'efo:0001206']\n",
      "['ccle:NCIH292_LUNG', 'cellosaurus:0455', 'depmap:ACH-000474', 'depmap:ACH-001075', 'efo:0006690']\n",
      "['ccle:NCIH3255_LUNG', 'cellosaurus:6831', 'depmap:ACH-000109', 'depmap:ACH-002137', 'efo:0003123']\n",
      "['ccle:NCIH513_PLEURA', 'cellosaurus:A570', 'depmap:ACH-002138', 'depmap:ACH-002341']\n",
      "['ccle:NCIH720_LUNG', 'cellosaurus:1583', 'depmap:ACH-002174', 'efo:0001166', 'efo:0002302']\n",
      "['ccle:ALEXANDERCELLS_LIVER', 'ccle:PLCPRF5_LIVER', 'cellosaurus:0485', 'depmap:ACH-001318', 'efo:0006291']\n",
      "['ccle:RH30_SOFT_TISSUE', 'ccle:SJRH30_SOFT_TISSUE', 'cellosaurus:0041', 'cellosaurus:UF98', 'depmap:ACH-000833', 'depmap:ACH-001189', 'depmap:ACH-001741', 'efo:0002329', 'efo:0005722']\n",
      "['ccle:SC1_HAEMATOPOIETIC_AND_LYMPHOID_TISSUE', 'cellosaurus:1888', 'depmap:ACH-002303', 'depmap:ACH-002392', 'efo:0006481']\n",
      "['ccle:SCC90_UPPER_AERODIGESTIVE_TRACT', 'cellosaurus:1899', 'depmap:ACH-001227', 'depmap:ACH-002315']\n",
      "['ccle:SKN_ENDOMETRIUM', 'ccle:SKN_URINARY_TRACT', 'cellosaurus:3167', 'depmap:ACH-001655']\n",
      "['ccle:SR786_HAEMATOPOIETIC_AND_LYMPHOID_TISSUE', 'cellosaurus:1711', 'depmap:ACH-000338', 'depmap:ACH-001665', 'efo:0002352', 'efo:0006491']\n",
      "['ccle:SW626_LARGE_INTESTINE', 'ccle:SW626_OVARY', 'cellosaurus:1725', 'depmap:ACH-001399']\n",
      "['ccle:SW954_CERVIX', 'ccle:SW954_VULVA', 'cellosaurus:1732', 'depmap:ACH-001400', 'efo:0002376']\n",
      "['ccle:TASK1_BONE', 'ccle:TASK1_CENTRAL_NERVOUS_SYSTEM', 'cellosaurus:3177', 'depmap:ACH-001670']\n",
      "['ccle:UO31_KIDNEY', 'cellosaurus:1911', 'depmap:ACH-000428', 'depmap:ACH-002203']\n",
      "['ccle:WM793B_SKIN', 'ccle:WM793_SKIN', 'cellosaurus:8787', 'depmap:ACH-000827', 'efo:0002873']\n",
      "['cellosaurus:2647', 'cellosaurus:VU72', 'depmap:ACH-002361', 'depmap:ACH-002367']\n",
      "['cellosaurus:0063', 'efo:0001082', 'efo:0001184']\n",
      "['cellosaurus:0123', 'efo:0001084', 'efo:0001223']\n"
     ]
    }
   ],
   "source": [
    "for component in nx.connected_components(closure_graph):\n",
    "    prefix_counter = Counter(node.split(\":\", 1)[0] for node in component)\n",
    "    if any(v > 1 for v in prefix_counter.values()):\n",
    "        print(sorted(component))"
   ]
  },
  {
   "cell_type": "markdown",
   "id": "cc038d67",
   "metadata": {},
   "source": [
    "Conclusion: in the current versions of each data source, the exact same mappings are possible using depmap as an intermediary. There are some additional mappings from DepMap to cellosaurus, but these DepMap entries are not themselves mapped to cellosaurus."
   ]
  },
  {
   "cell_type": "markdown",
   "id": "342d8a19",
   "metadata": {},
   "source": [
    "# Added Benefit of Biomappings\n",
    "\n",
    "\n",
    "## Loading Biomappings Data\n",
    "\n",
    "First, we'll load the Biomappings curated content and filter to relevant rows and columns."
   ]
  },
  {
   "cell_type": "code",
   "execution_count": 12,
   "id": "d24fa0cd",
   "metadata": {},
   "outputs": [
    {
     "data": {
      "text/html": [
       "<div>\n",
       "<style scoped>\n",
       "    .dataframe tbody tr th:only-of-type {\n",
       "        vertical-align: middle;\n",
       "    }\n",
       "\n",
       "    .dataframe tbody tr th {\n",
       "        vertical-align: top;\n",
       "    }\n",
       "\n",
       "    .dataframe thead th {\n",
       "        text-align: right;\n",
       "    }\n",
       "</style>\n",
       "<table border=\"1\" class=\"dataframe\">\n",
       "  <thead>\n",
       "    <tr style=\"text-align: right;\">\n",
       "      <th></th>\n",
       "      <th>source prefix</th>\n",
       "      <th>source identifier</th>\n",
       "      <th>target prefix</th>\n",
       "      <th>target identifier</th>\n",
       "    </tr>\n",
       "  </thead>\n",
       "  <tbody>\n",
       "    <tr>\n",
       "      <th>169</th>\n",
       "      <td>ccle</td>\n",
       "      <td>1321N1_CENTRAL_NERVOUS_SYSTEM</td>\n",
       "      <td>cellosaurus</td>\n",
       "      <td>CVCL_0110</td>\n",
       "    </tr>\n",
       "    <tr>\n",
       "      <th>170</th>\n",
       "      <td>ccle</td>\n",
       "      <td>143B_BONE</td>\n",
       "      <td>cellosaurus</td>\n",
       "      <td>CVCL_2270</td>\n",
       "    </tr>\n",
       "    <tr>\n",
       "      <th>171</th>\n",
       "      <td>ccle</td>\n",
       "      <td>143B_BONE</td>\n",
       "      <td>efo</td>\n",
       "      <td>0006355</td>\n",
       "    </tr>\n",
       "    <tr>\n",
       "      <th>172</th>\n",
       "      <td>ccle</td>\n",
       "      <td>22RV1_PROSTATE</td>\n",
       "      <td>cellosaurus</td>\n",
       "      <td>CVCL_1045</td>\n",
       "    </tr>\n",
       "    <tr>\n",
       "      <th>173</th>\n",
       "      <td>ccle</td>\n",
       "      <td>22RV1_PROSTATE</td>\n",
       "      <td>efo</td>\n",
       "      <td>0002095</td>\n",
       "    </tr>\n",
       "    <tr>\n",
       "      <th>...</th>\n",
       "      <td>...</td>\n",
       "      <td>...</td>\n",
       "      <td>...</td>\n",
       "      <td>...</td>\n",
       "    </tr>\n",
       "    <tr>\n",
       "      <th>854</th>\n",
       "      <td>ccle</td>\n",
       "      <td>YMB1_BREAST</td>\n",
       "      <td>efo</td>\n",
       "      <td>0006779</td>\n",
       "    </tr>\n",
       "    <tr>\n",
       "      <th>855</th>\n",
       "      <td>ccle</td>\n",
       "      <td>ZR751_BREAST</td>\n",
       "      <td>cellosaurus</td>\n",
       "      <td>CVCL_0588</td>\n",
       "    </tr>\n",
       "    <tr>\n",
       "      <th>856</th>\n",
       "      <td>ccle</td>\n",
       "      <td>ZR751_BREAST</td>\n",
       "      <td>efo</td>\n",
       "      <td>0001262</td>\n",
       "    </tr>\n",
       "    <tr>\n",
       "      <th>857</th>\n",
       "      <td>ccle</td>\n",
       "      <td>ZR7530_BREAST</td>\n",
       "      <td>cellosaurus</td>\n",
       "      <td>CVCL_1661</td>\n",
       "    </tr>\n",
       "    <tr>\n",
       "      <th>858</th>\n",
       "      <td>ccle</td>\n",
       "      <td>ZR7530_BREAST</td>\n",
       "      <td>efo</td>\n",
       "      <td>0001263</td>\n",
       "    </tr>\n",
       "  </tbody>\n",
       "</table>\n",
       "<p>688 rows × 4 columns</p>\n",
       "</div>"
      ],
      "text/plain": [
       "    source prefix              source identifier target prefix  \\\n",
       "169          ccle  1321N1_CENTRAL_NERVOUS_SYSTEM   cellosaurus   \n",
       "170          ccle                      143B_BONE   cellosaurus   \n",
       "171          ccle                      143B_BONE           efo   \n",
       "172          ccle                 22RV1_PROSTATE   cellosaurus   \n",
       "173          ccle                 22RV1_PROSTATE           efo   \n",
       "..            ...                            ...           ...   \n",
       "854          ccle                    YMB1_BREAST           efo   \n",
       "855          ccle                   ZR751_BREAST   cellosaurus   \n",
       "856          ccle                   ZR751_BREAST           efo   \n",
       "857          ccle                  ZR7530_BREAST   cellosaurus   \n",
       "858          ccle                  ZR7530_BREAST           efo   \n",
       "\n",
       "    target identifier  \n",
       "169         CVCL_0110  \n",
       "170         CVCL_2270  \n",
       "171           0006355  \n",
       "172         CVCL_1045  \n",
       "173           0002095  \n",
       "..                ...  \n",
       "854           0006779  \n",
       "855         CVCL_0588  \n",
       "856           0001262  \n",
       "857         CVCL_1661  \n",
       "858           0001263  \n",
       "\n",
       "[688 rows x 4 columns]"
      ]
     },
     "execution_count": 12,
     "metadata": {},
     "output_type": "execute_result"
    }
   ],
   "source": [
    "mappings_df = pd.DataFrame(biomappings.load_mappings())\n",
    "idx = (\n",
    "    mappings_df[\"source prefix\"].isin(prefixes)\n",
    "    & mappings_df[\"target prefix\"].isin(prefixes)\n",
    "    & (mappings_df[\"relation\"] == \"skos:exactMatch\")\n",
    ")\n",
    "columns = [\"source prefix\", \"source identifier\", \"target prefix\", \"target identifier\"]\n",
    "mappings_df = mappings_df[idx][columns]\n",
    "mappings_df"
   ]
  },
  {
   "cell_type": "markdown",
   "id": "eed7f762",
   "metadata": {},
   "source": [
    "## Summarizing Biomappings"
   ]
  },
  {
   "cell_type": "code",
   "execution_count": 13,
   "id": "18ecb67f",
   "metadata": {},
   "outputs": [],
   "source": [
    "def _summarize(mappings):\n",
    "    _df = pd.DataFrame(mappings)\n",
    "    idx = (\n",
    "        _df[\"source prefix\"].isin(prefixes)\n",
    "        & _df[\"target prefix\"].isin(prefixes)\n",
    "        & (_df[\"relation\"] == \"skos:exactMatch\")\n",
    "    )\n",
    "    return (\n",
    "        _df[idx][columns].groupby([\"source prefix\", \"target prefix\"]).count()[\"source identifier\"]\n",
    "    )"
   ]
  },
  {
   "cell_type": "markdown",
   "id": "c028d843",
   "metadata": {},
   "source": [
    "Summarize the manually curated positive, negative, and unsure mappings for the defined prefixes."
   ]
  },
  {
   "cell_type": "code",
   "execution_count": 14,
   "id": "b409e33a",
   "metadata": {},
   "outputs": [
    {
     "data": {
      "text/html": [
       "<div>\n",
       "<style scoped>\n",
       "    .dataframe tbody tr th:only-of-type {\n",
       "        vertical-align: middle;\n",
       "    }\n",
       "\n",
       "    .dataframe tbody tr th {\n",
       "        vertical-align: top;\n",
       "    }\n",
       "\n",
       "    .dataframe thead th {\n",
       "        text-align: right;\n",
       "    }\n",
       "</style>\n",
       "<table border=\"1\" class=\"dataframe\">\n",
       "  <thead>\n",
       "    <tr style=\"text-align: right;\">\n",
       "      <th></th>\n",
       "      <th></th>\n",
       "      <th>positive</th>\n",
       "      <th>negative</th>\n",
       "      <th>unsure</th>\n",
       "    </tr>\n",
       "    <tr>\n",
       "      <th>source prefix</th>\n",
       "      <th>target prefix</th>\n",
       "      <th></th>\n",
       "      <th></th>\n",
       "      <th></th>\n",
       "    </tr>\n",
       "  </thead>\n",
       "  <tbody>\n",
       "    <tr>\n",
       "      <th rowspan=\"3\" valign=\"top\">ccle</th>\n",
       "      <th>cellosaurus</th>\n",
       "      <td>114</td>\n",
       "      <td>59</td>\n",
       "      <td>13</td>\n",
       "    </tr>\n",
       "    <tr>\n",
       "      <th>depmap</th>\n",
       "      <td>4</td>\n",
       "      <td>1</td>\n",
       "      <td>2</td>\n",
       "    </tr>\n",
       "    <tr>\n",
       "      <th>efo</th>\n",
       "      <td>570</td>\n",
       "      <td>10</td>\n",
       "      <td>6</td>\n",
       "    </tr>\n",
       "  </tbody>\n",
       "</table>\n",
       "</div>"
      ],
      "text/plain": [
       "                             positive  negative  unsure\n",
       "source prefix target prefix                            \n",
       "ccle          cellosaurus         114        59      13\n",
       "              depmap                4         1       2\n",
       "              efo                 570        10       6"
      ]
     },
     "execution_count": 14,
     "metadata": {},
     "output_type": "execute_result"
    }
   ],
   "source": [
    "mapping_summary_df = pd.DataFrame(\n",
    "    {\n",
    "        \"positive\": _summarize(biomappings.load_mappings()),\n",
    "        \"negative\": _summarize(biomappings.load_false_mappings()),\n",
    "        \"unsure\": _summarize(biomappings.load_unsure()),\n",
    "    }\n",
    ")\n",
    "mapping_summary_df"
   ]
  },
  {
   "cell_type": "markdown",
   "id": "0918fa52",
   "metadata": {},
   "source": [
    "Total mappings, combine between source and target prefix."
   ]
  },
  {
   "cell_type": "code",
   "execution_count": 15,
   "id": "5a6b9f6b",
   "metadata": {},
   "outputs": [
    {
     "data": {
      "text/plain": [
       "positive    688\n",
       "negative     70\n",
       "unsure       21\n",
       "dtype: int64"
      ]
     },
     "execution_count": 15,
     "metadata": {},
     "output_type": "execute_result"
    }
   ],
   "source": [
    "mapping_summary_df.sum(axis=0)"
   ]
  },
  {
   "cell_type": "markdown",
   "id": "0ea91a1d",
   "metadata": {},
   "source": [
    "Total mappings, combine between positive, negative, and unusure mappings."
   ]
  },
  {
   "cell_type": "code",
   "execution_count": 16,
   "id": "7b58ae6f",
   "metadata": {},
   "outputs": [
    {
     "data": {
      "text/plain": [
       "source prefix  target prefix\n",
       "ccle           cellosaurus      186\n",
       "               depmap             7\n",
       "               efo              586\n",
       "dtype: int64"
      ]
     },
     "execution_count": 16,
     "metadata": {},
     "output_type": "execute_result"
    }
   ],
   "source": [
    "mapping_summary_df.sum(axis=1)"
   ]
  },
  {
   "cell_type": "code",
   "execution_count": 17,
   "id": "4733b124",
   "metadata": {},
   "outputs": [
    {
     "name": "stdout",
     "output_type": "stream",
     "text": [
      "Between ['ccle', 'depmap', 'cellosaurus', 'efo'], there are 779 manually curated mapping, including positive, negative, and unsure.\n"
     ]
    }
   ],
   "source": [
    "print(\n",
    "    f\"Between {prefixes}, there are {mapping_summary_df.sum().sum():,} \"\n",
    "    f\"manually curated mapping, including positive, negative, and unsure.\"\n",
    ")"
   ]
  },
  {
   "cell_type": "markdown",
   "id": "2612294b",
   "metadata": {},
   "source": [
    "## Biomappings Analysis"
   ]
  },
  {
   "cell_type": "code",
   "execution_count": 18,
   "id": "0d97694b",
   "metadata": {},
   "outputs": [
    {
     "name": "stdout",
     "output_type": "stream",
     "text": [
      "Infered CCLE-EFO: 719\n",
      "Manually curated CCLE-EFO: 570\n",
      "Union: 1,289\n",
      "Overlap: 0\n",
      "Novel from manual: 570\n",
      "Percentage gain: 79.28%\n",
      "\n"
     ]
    }
   ],
   "source": [
    "efo_mapping_idx = (mappings_df[\"source prefix\"] == \"ccle\") & (mappings_df[\"target prefix\"] == \"efo\")\n",
    "manual_efo_mapped = set(mappings_df[efo_mapping_idx][\"target identifier\"])\n",
    "\n",
    "# refer to these variables in a previous cell\n",
    "inferred_efo_mapped = via_cellosaurus.union(via_depmap_cellosaurus)\n",
    "\n",
    "print(\n",
    "    f\"\"\"\\\n",
    "Infered CCLE-EFO: {len(inferred_efo_mapped):,}\n",
    "Manually curated CCLE-EFO: {len(manual_efo_mapped):,}\n",
    "Union: {len(inferred_efo_mapped.union(manual_efo_mapped)):,}\n",
    "Overlap: {len(inferred_efo_mapped.intersection(manual_efo_mapped)):,}\n",
    "Novel from manual: {len(manual_efo_mapped - inferred_efo_mapped)}\n",
    "Percentage gain: {len(manual_efo_mapped) / len(inferred_efo_mapped):.2%}\n",
    "\"\"\"\n",
    ")"
   ]
  },
  {
   "cell_type": "code",
   "execution_count": 19,
   "id": "ff0f6b71",
   "metadata": {},
   "outputs": [
    {
     "data": {
      "text/html": [
       "<div>\n",
       "<style scoped>\n",
       "    .dataframe tbody tr th:only-of-type {\n",
       "        vertical-align: middle;\n",
       "    }\n",
       "\n",
       "    .dataframe tbody tr th {\n",
       "        vertical-align: top;\n",
       "    }\n",
       "\n",
       "    .dataframe thead th {\n",
       "        text-align: right;\n",
       "    }\n",
       "</style>\n",
       "<table border=\"1\" class=\"dataframe\">\n",
       "  <thead>\n",
       "    <tr style=\"text-align: right;\">\n",
       "      <th>target</th>\n",
       "      <th>ccle</th>\n",
       "      <th>depmap</th>\n",
       "      <th>cellosaurus</th>\n",
       "      <th>efo</th>\n",
       "    </tr>\n",
       "    <tr>\n",
       "      <th>source</th>\n",
       "      <th></th>\n",
       "      <th></th>\n",
       "      <th></th>\n",
       "      <th></th>\n",
       "    </tr>\n",
       "  </thead>\n",
       "  <tbody>\n",
       "    <tr>\n",
       "      <th>ccle</th>\n",
       "      <td>0</td>\n",
       "      <td>4</td>\n",
       "      <td>114</td>\n",
       "      <td>8</td>\n",
       "    </tr>\n",
       "    <tr>\n",
       "      <th>depmap</th>\n",
       "      <td>0</td>\n",
       "      <td>0</td>\n",
       "      <td>0</td>\n",
       "      <td>0</td>\n",
       "    </tr>\n",
       "    <tr>\n",
       "      <th>cellosaurus</th>\n",
       "      <td>0</td>\n",
       "      <td>0</td>\n",
       "      <td>0</td>\n",
       "      <td>0</td>\n",
       "    </tr>\n",
       "    <tr>\n",
       "      <th>efo</th>\n",
       "      <td>0</td>\n",
       "      <td>0</td>\n",
       "      <td>0</td>\n",
       "      <td>0</td>\n",
       "    </tr>\n",
       "  </tbody>\n",
       "</table>\n",
       "</div>"
      ],
      "text/plain": [
       "target       ccle  depmap  cellosaurus  efo\n",
       "source                                     \n",
       "ccle            0       4          114    8\n",
       "depmap          0       0            0    0\n",
       "cellosaurus     0       0            0    0\n",
       "efo             0       0            0    0"
      ]
     },
     "execution_count": 19,
     "metadata": {},
     "output_type": "execute_result"
    }
   ],
   "source": [
    "added_value_table = []\n",
    "total_value_table = []\n",
    "for source_prefix in prefixes:\n",
    "    row_added_value = []\n",
    "    row_total_value = []\n",
    "    for target_prefix in prefixes:\n",
    "        before = sum(\n",
    "            u.startswith(source_prefix) and v.startswith(target_prefix)\n",
    "            for u, v in closure_graph.edges()\n",
    "        )\n",
    "        benefit = sum(\n",
    "            not closure_graph.has_edge(\n",
    "                curie_to_str(source_prefix, source_id),\n",
    "                curie_to_str(target_prefix, target_id),\n",
    "            )\n",
    "            for _, source_id, _, target_id in mappings_df[\n",
    "                (mappings_df[\"source prefix\"] == source_prefix)\n",
    "                & (mappings_df[\"target prefix\"] == target_prefix)\n",
    "            ].values\n",
    "        )\n",
    "        row_added_value.append(benefit)\n",
    "        row_total_value.append(before + benefit)\n",
    "\n",
    "    added_value_table.append(row_added_value)\n",
    "    total_value_table.append(row_total_value)\n",
    "\n",
    "added_value_df = pd.DataFrame(added_value_table, index=prefixes, columns=prefixes)\n",
    "added_value_df.index.name = \"source\"\n",
    "added_value_df.columns.name = \"target\"\n",
    "added_value_df"
   ]
  },
  {
   "cell_type": "code",
   "execution_count": 20,
   "id": "d1aedb13",
   "metadata": {},
   "outputs": [
    {
     "data": {
      "text/html": [
       "<div>\n",
       "<style scoped>\n",
       "    .dataframe tbody tr th:only-of-type {\n",
       "        vertical-align: middle;\n",
       "    }\n",
       "\n",
       "    .dataframe tbody tr th {\n",
       "        vertical-align: top;\n",
       "    }\n",
       "\n",
       "    .dataframe thead th {\n",
       "        text-align: right;\n",
       "    }\n",
       "</style>\n",
       "<table border=\"1\" class=\"dataframe\">\n",
       "  <thead>\n",
       "    <tr style=\"text-align: right;\">\n",
       "      <th>target</th>\n",
       "      <th>ccle</th>\n",
       "      <th>depmap</th>\n",
       "      <th>cellosaurus</th>\n",
       "      <th>efo</th>\n",
       "    </tr>\n",
       "    <tr>\n",
       "      <th>source</th>\n",
       "      <th></th>\n",
       "      <th></th>\n",
       "      <th></th>\n",
       "      <th></th>\n",
       "    </tr>\n",
       "  </thead>\n",
       "  <tbody>\n",
       "    <tr>\n",
       "      <th>ccle</th>\n",
       "      <td>10</td>\n",
       "      <td>1474</td>\n",
       "      <td>1569</td>\n",
       "      <td>733</td>\n",
       "    </tr>\n",
       "    <tr>\n",
       "      <th>depmap</th>\n",
       "      <td>13</td>\n",
       "      <td>13</td>\n",
       "      <td>1690</td>\n",
       "      <td>763</td>\n",
       "    </tr>\n",
       "    <tr>\n",
       "      <th>cellosaurus</th>\n",
       "      <td>12</td>\n",
       "      <td>114</td>\n",
       "      <td>2</td>\n",
       "      <td>1304</td>\n",
       "    </tr>\n",
       "    <tr>\n",
       "      <th>efo</th>\n",
       "      <td>0</td>\n",
       "      <td>0</td>\n",
       "      <td>0</td>\n",
       "      <td>6</td>\n",
       "    </tr>\n",
       "  </tbody>\n",
       "</table>\n",
       "</div>"
      ],
      "text/plain": [
       "target       ccle  depmap  cellosaurus   efo\n",
       "source                                      \n",
       "ccle           10    1474         1569   733\n",
       "depmap         13      13         1690   763\n",
       "cellosaurus    12     114            2  1304\n",
       "efo             0       0            0     6"
      ]
     },
     "execution_count": 20,
     "metadata": {},
     "output_type": "execute_result"
    }
   ],
   "source": [
    "total_value_df = pd.DataFrame(total_value_table, index=prefixes, columns=prefixes)\n",
    "total_value_df.index.name = \"source\"\n",
    "total_value_df.columns.name = \"target\"\n",
    "total_value_df"
   ]
  },
  {
   "cell_type": "markdown",
   "id": "fdee790a",
   "metadata": {},
   "source": [
    "## Apply Reasoning and Inference with Biomappings\n",
    "\n",
    "The graph is extended with Biomappings content, the transitive closure is computed, and new statistics are reported. Note that several additional CCLE-EFO mappings are calculatable when using inference over direct mappings!"
   ]
  },
  {
   "cell_type": "code",
   "execution_count": 21,
   "id": "53494b73",
   "metadata": {},
   "outputs": [
    {
     "data": {
      "text/html": [
       "<div>\n",
       "<style scoped>\n",
       "    .dataframe tbody tr th:only-of-type {\n",
       "        vertical-align: middle;\n",
       "    }\n",
       "\n",
       "    .dataframe tbody tr th {\n",
       "        vertical-align: top;\n",
       "    }\n",
       "\n",
       "    .dataframe thead th {\n",
       "        text-align: right;\n",
       "    }\n",
       "</style>\n",
       "<table border=\"1\" class=\"dataframe\">\n",
       "  <thead>\n",
       "    <tr style=\"text-align: right;\">\n",
       "      <th>target</th>\n",
       "      <th>ccle</th>\n",
       "      <th>depmap</th>\n",
       "      <th>cellosaurus</th>\n",
       "      <th>efo</th>\n",
       "    </tr>\n",
       "    <tr>\n",
       "      <th>source</th>\n",
       "      <th></th>\n",
       "      <th></th>\n",
       "      <th></th>\n",
       "      <th></th>\n",
       "    </tr>\n",
       "  </thead>\n",
       "  <tbody>\n",
       "    <tr>\n",
       "      <th>ccle</th>\n",
       "      <td>13</td>\n",
       "      <td>1470</td>\n",
       "      <td>1573</td>\n",
       "      <td>727</td>\n",
       "    </tr>\n",
       "    <tr>\n",
       "      <th>depmap</th>\n",
       "      <td>17</td>\n",
       "      <td>13</td>\n",
       "      <td>1787</td>\n",
       "      <td>765</td>\n",
       "    </tr>\n",
       "    <tr>\n",
       "      <th>cellosaurus</th>\n",
       "      <td>19</td>\n",
       "      <td>114</td>\n",
       "      <td>101</td>\n",
       "      <td>1306</td>\n",
       "    </tr>\n",
       "    <tr>\n",
       "      <th>efo</th>\n",
       "      <td>6</td>\n",
       "      <td>0</td>\n",
       "      <td>62</td>\n",
       "      <td>6</td>\n",
       "    </tr>\n",
       "  </tbody>\n",
       "</table>\n",
       "</div>"
      ],
      "text/plain": [
       "target       ccle  depmap  cellosaurus   efo\n",
       "source                                      \n",
       "ccle           13    1470         1573   727\n",
       "depmap         17      13         1787   765\n",
       "cellosaurus    19     114          101  1306\n",
       "efo             6       0           62     6"
      ]
     },
     "execution_count": 21,
     "metadata": {},
     "output_type": "execute_result"
    }
   ],
   "source": [
    "extended_closure_graph = closure_graph.copy()\n",
    "\n",
    "\n",
    "for source_prefix, source_id, target_prefix, target_id in mappings_df[columns].values:\n",
    "    source_id = source_id.removeprefix(\"EFO_\")\n",
    "    source_id = bioregistry.standardize_identifier(prefix, source_id)\n",
    "    target_id = target_id.removeprefix(\"EFO_\")\n",
    "    target_id = bioregistry.standardize_identifier(target_ns, target_id)\n",
    "    extended_closure_graph.add_edge(\n",
    "        curie_to_str(source_prefix, source_id),\n",
    "        curie_to_str(target_prefix, target_id),\n",
    "    )\n",
    "\n",
    "extended_closure_graph = nx.transitive_closure(extended_closure_graph, reflexive=False)\n",
    "\n",
    "extended_closure_summary_df = calculate_graph_df(extended_closure_graph)\n",
    "extended_closure_summary_df"
   ]
  }
 ],
 "metadata": {
  "kernelspec": {
   "display_name": "Python 3 (ipykernel)",
   "language": "python",
   "name": "python3"
  },
  "language_info": {
   "codemirror_mode": {
    "name": "ipython",
    "version": 3
   },
   "file_extension": ".py",
   "mimetype": "text/x-python",
   "name": "python",
   "nbconvert_exporter": "python",
   "pygments_lexer": "ipython3",
   "version": "3.11.0"
  }
 },
 "nbformat": 4,
 "nbformat_minor": 5
}
