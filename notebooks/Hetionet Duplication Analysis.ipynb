{
 "cells": [
  {
   "cell_type": "markdown",
   "id": "83b0c3a7",
   "metadata": {},
   "source": [
    "The point of this notebook is to assess the number of duplicate nodes in Hetionet (and potentially others)"
   ]
  },
  {
   "cell_type": "code",
   "execution_count": 1,
   "id": "0eb48aab",
   "metadata": {},
   "outputs": [],
   "source": [
    "import sys\n",
    "import time\n",
    "import pandas as pd\n",
    "import bioregistry\n",
    "import itertools as itt\n",
    "import json\n",
    "from tqdm.auto import tqdm\n",
    "from collections import Counter, defaultdict\n",
    "from pyobo.gilda_utils import get_grounder\n",
    "from biomappings.graph import get_true_graph\n",
    "import networkx as nx"
   ]
  },
  {
   "cell_type": "code",
   "execution_count": 2,
   "id": "4928dad6",
   "metadata": {},
   "outputs": [
    {
     "name": "stdout",
     "output_type": "stream",
     "text": [
      "3.10.8 (main, Oct 13 2022, 10:17:43) [Clang 14.0.0 (clang-1400.0.29.102)]\n"
     ]
    }
   ],
   "source": [
    "print(sys.version)"
   ]
  },
  {
   "cell_type": "code",
   "execution_count": 3,
   "id": "79fcb3ad",
   "metadata": {},
   "outputs": [
    {
     "name": "stdout",
     "output_type": "stream",
     "text": [
      "Fri Oct 28 18:39:13 2022\n"
     ]
    }
   ],
   "source": [
    "print(time.asctime())"
   ]
  },
  {
   "cell_type": "markdown",
   "id": "039a00c9",
   "metadata": {},
   "source": [
    "# Loading\n",
    "\n",
    "Load the Biomappings data"
   ]
  },
  {
   "cell_type": "code",
   "execution_count": 4,
   "id": "8d83e3bf",
   "metadata": {},
   "outputs": [],
   "source": [
    "true_graph = get_true_graph()"
   ]
  },
  {
   "cell_type": "markdown",
   "id": "9b878eb5",
   "metadata": {},
   "source": [
    "Load the Hetionet data into a data frame"
   ]
  },
  {
   "cell_type": "code",
   "execution_count": 5,
   "id": "c9642ce8",
   "metadata": {},
   "outputs": [],
   "source": [
    "URL = \"https://github.com/hetio/hetionet/raw/master/hetnet/json/hetionet-v1.0.json.bz2\"\n",
    "\n",
    "with open(\"/Users/cthoyt/Downloads/hetionet-v1.0.json\") as file:\n",
    "    data = json.load(file)"
   ]
  },
  {
   "cell_type": "code",
   "execution_count": 6,
   "id": "1b6a779a",
   "metadata": {},
   "outputs": [
    {
     "data": {
      "application/vnd.jupyter.widget-view+json": {
       "model_id": "b643d7f594f64b6a919a2ffc52b5456c",
       "version_major": 2,
       "version_minor": 0
      },
      "text/plain": [
       "  0%|          | 0.00/47.0k [00:00<?, ?node/s]"
      ]
     },
     "metadata": {},
     "output_type": "display_data"
    },
    {
     "data": {
      "text/html": [
       "<div>\n",
       "<style scoped>\n",
       "    .dataframe tbody tr th:only-of-type {\n",
       "        vertical-align: middle;\n",
       "    }\n",
       "\n",
       "    .dataframe tbody tr th {\n",
       "        vertical-align: top;\n",
       "    }\n",
       "\n",
       "    .dataframe thead th {\n",
       "        text-align: right;\n",
       "    }\n",
       "</style>\n",
       "<table border=\"1\" class=\"dataframe\">\n",
       "  <thead>\n",
       "    <tr style=\"text-align: right;\">\n",
       "      <th></th>\n",
       "      <th>kind</th>\n",
       "      <th>identifier</th>\n",
       "      <th>name</th>\n",
       "      <th>source</th>\n",
       "      <th>url</th>\n",
       "      <th>description</th>\n",
       "    </tr>\n",
       "  </thead>\n",
       "  <tbody>\n",
       "    <tr>\n",
       "      <th>0</th>\n",
       "      <td>Molecular Function</td>\n",
       "      <td>GO:0031753</td>\n",
       "      <td>endothelial differentiation G-protein coupled ...</td>\n",
       "      <td>Gene Ontology</td>\n",
       "      <td>http://purl.obolibrary.org/obo/GO_0031753</td>\n",
       "      <td>None</td>\n",
       "    </tr>\n",
       "    <tr>\n",
       "      <th>1</th>\n",
       "      <td>Side Effect</td>\n",
       "      <td>C0023448</td>\n",
       "      <td>Lymphocytic leukaemia</td>\n",
       "      <td>UMLS via SIDER 4.1</td>\n",
       "      <td>http://identifiers.org/umls/C0023448</td>\n",
       "      <td>None</td>\n",
       "    </tr>\n",
       "    <tr>\n",
       "      <th>2</th>\n",
       "      <td>Gene</td>\n",
       "      <td>5345</td>\n",
       "      <td>SERPINF2</td>\n",
       "      <td>Entrez Gene</td>\n",
       "      <td>http://identifiers.org/ncbigene/5345</td>\n",
       "      <td>serpin peptidase inhibitor, clade F (alpha-2 a...</td>\n",
       "    </tr>\n",
       "    <tr>\n",
       "      <th>3</th>\n",
       "      <td>Gene</td>\n",
       "      <td>9409</td>\n",
       "      <td>PEX16</td>\n",
       "      <td>Entrez Gene</td>\n",
       "      <td>http://identifiers.org/ncbigene/9409</td>\n",
       "      <td>peroxisomal biogenesis factor 16</td>\n",
       "    </tr>\n",
       "    <tr>\n",
       "      <th>4</th>\n",
       "      <td>Biological Process</td>\n",
       "      <td>GO:0032474</td>\n",
       "      <td>otolith morphogenesis</td>\n",
       "      <td>Gene Ontology</td>\n",
       "      <td>http://purl.obolibrary.org/obo/GO_0032474</td>\n",
       "      <td>None</td>\n",
       "    </tr>\n",
       "    <tr>\n",
       "      <th>...</th>\n",
       "      <td>...</td>\n",
       "      <td>...</td>\n",
       "      <td>...</td>\n",
       "      <td>...</td>\n",
       "      <td>...</td>\n",
       "      <td>...</td>\n",
       "    </tr>\n",
       "    <tr>\n",
       "      <th>47026</th>\n",
       "      <td>Gene</td>\n",
       "      <td>92291</td>\n",
       "      <td>CAPN13</td>\n",
       "      <td>Entrez Gene</td>\n",
       "      <td>http://identifiers.org/ncbigene/92291</td>\n",
       "      <td>calpain 13</td>\n",
       "    </tr>\n",
       "    <tr>\n",
       "      <th>47027</th>\n",
       "      <td>Biological Process</td>\n",
       "      <td>GO:1902308</td>\n",
       "      <td>regulation of peptidyl-serine dephosphorylation</td>\n",
       "      <td>Gene Ontology</td>\n",
       "      <td>http://purl.obolibrary.org/obo/GO_1902308</td>\n",
       "      <td>None</td>\n",
       "    </tr>\n",
       "    <tr>\n",
       "      <th>47028</th>\n",
       "      <td>Gene</td>\n",
       "      <td>643338</td>\n",
       "      <td>C15orf62</td>\n",
       "      <td>Entrez Gene</td>\n",
       "      <td>http://identifiers.org/ncbigene/643338</td>\n",
       "      <td>chromosome 15 open reading frame 62</td>\n",
       "    </tr>\n",
       "    <tr>\n",
       "      <th>47029</th>\n",
       "      <td>Gene</td>\n",
       "      <td>645121</td>\n",
       "      <td>CCNI2</td>\n",
       "      <td>Entrez Gene</td>\n",
       "      <td>http://identifiers.org/ncbigene/645121</td>\n",
       "      <td>cyclin I family, member 2</td>\n",
       "    </tr>\n",
       "    <tr>\n",
       "      <th>47030</th>\n",
       "      <td>Gene</td>\n",
       "      <td>23526</td>\n",
       "      <td>HMHA1</td>\n",
       "      <td>Entrez Gene</td>\n",
       "      <td>http://identifiers.org/ncbigene/23526</td>\n",
       "      <td>histocompatibility (minor) HA-1</td>\n",
       "    </tr>\n",
       "  </tbody>\n",
       "</table>\n",
       "<p>47031 rows × 6 columns</p>\n",
       "</div>"
      ],
      "text/plain": [
       "                     kind  identifier  \\\n",
       "0      Molecular Function  GO:0031753   \n",
       "1             Side Effect    C0023448   \n",
       "2                    Gene        5345   \n",
       "3                    Gene        9409   \n",
       "4      Biological Process  GO:0032474   \n",
       "...                   ...         ...   \n",
       "47026                Gene       92291   \n",
       "47027  Biological Process  GO:1902308   \n",
       "47028                Gene      643338   \n",
       "47029                Gene      645121   \n",
       "47030                Gene       23526   \n",
       "\n",
       "                                                    name              source  \\\n",
       "0      endothelial differentiation G-protein coupled ...       Gene Ontology   \n",
       "1                                  Lymphocytic leukaemia  UMLS via SIDER 4.1   \n",
       "2                                               SERPINF2         Entrez Gene   \n",
       "3                                                  PEX16         Entrez Gene   \n",
       "4                                  otolith morphogenesis       Gene Ontology   \n",
       "...                                                  ...                 ...   \n",
       "47026                                             CAPN13         Entrez Gene   \n",
       "47027    regulation of peptidyl-serine dephosphorylation       Gene Ontology   \n",
       "47028                                           C15orf62         Entrez Gene   \n",
       "47029                                              CCNI2         Entrez Gene   \n",
       "47030                                              HMHA1         Entrez Gene   \n",
       "\n",
       "                                             url  \\\n",
       "0      http://purl.obolibrary.org/obo/GO_0031753   \n",
       "1           http://identifiers.org/umls/C0023448   \n",
       "2           http://identifiers.org/ncbigene/5345   \n",
       "3           http://identifiers.org/ncbigene/9409   \n",
       "4      http://purl.obolibrary.org/obo/GO_0032474   \n",
       "...                                          ...   \n",
       "47026      http://identifiers.org/ncbigene/92291   \n",
       "47027  http://purl.obolibrary.org/obo/GO_1902308   \n",
       "47028     http://identifiers.org/ncbigene/643338   \n",
       "47029     http://identifiers.org/ncbigene/645121   \n",
       "47030      http://identifiers.org/ncbigene/23526   \n",
       "\n",
       "                                             description  \n",
       "0                                                   None  \n",
       "1                                                   None  \n",
       "2      serpin peptidase inhibitor, clade F (alpha-2 a...  \n",
       "3                       peroxisomal biogenesis factor 16  \n",
       "4                                                   None  \n",
       "...                                                  ...  \n",
       "47026                                         calpain 13  \n",
       "47027                                               None  \n",
       "47028                chromosome 15 open reading frame 62  \n",
       "47029                          cyclin I family, member 2  \n",
       "47030                    histocompatibility (minor) HA-1  \n",
       "\n",
       "[47031 rows x 6 columns]"
      ]
     },
     "execution_count": 6,
     "metadata": {},
     "output_type": "execute_result"
    }
   ],
   "source": [
    "rows = [\n",
    "    (\n",
    "        d[\"kind\"],\n",
    "        d[\"identifier\"],\n",
    "        d[\"name\"],\n",
    "        d[\"data\"][\"source\"],\n",
    "        d[\"data\"].get(\"url\"),\n",
    "        d[\"data\"].get(\"description\"),\n",
    "    )\n",
    "    for d in tqdm(data[\"nodes\"], unit_scale=True, unit=\"node\")\n",
    "]\n",
    "df = pd.DataFrame(\n",
    "    rows,\n",
    "    columns=[\"kind\", \"identifier\", \"name\", \"source\", \"url\", \"description\"],\n",
    ")\n",
    "df"
   ]
  },
  {
   "cell_type": "markdown",
   "id": "54bb9677",
   "metadata": {},
   "source": [
    "What are the unique kinds of nodes in hetionet?"
   ]
  },
  {
   "cell_type": "code",
   "execution_count": 7,
   "id": "3a996346",
   "metadata": {},
   "outputs": [
    {
     "data": {
      "text/plain": [
       "array(['Molecular Function', 'Side Effect', 'Gene', 'Biological Process',\n",
       "       'Compound', 'Pathway', 'Anatomy', 'Cellular Component', 'Symptom',\n",
       "       'Disease', 'Pharmacologic Class'], dtype=object)"
      ]
     },
     "execution_count": 7,
     "metadata": {},
     "output_type": "execute_result"
    }
   ],
   "source": [
    "df.kind.unique()"
   ]
  },
  {
   "cell_type": "markdown",
   "id": "e2679884",
   "metadata": {},
   "source": [
    "# Identify Redundant Pathways\n",
    "\n",
    "Where do pathways come from?"
   ]
  },
  {
   "cell_type": "code",
   "execution_count": 8,
   "id": "aa535b7f",
   "metadata": {},
   "outputs": [
    {
     "data": {
      "text/plain": [
       "source\n",
       "PID via Pathway Commons          220\n",
       "Reactome via Pathway Commons    1308\n",
       "WikiPathways                     294\n",
       "Name: identifier, dtype: int64"
      ]
     },
     "execution_count": 8,
     "metadata": {},
     "output_type": "execute_result"
    }
   ],
   "source": [
    "df[df.kind == \"Pathway\"].groupby(\"source\").count()[\"identifier\"]"
   ]
  },
  {
   "cell_type": "markdown",
   "id": "f1199aed",
   "metadata": {},
   "source": [
    "Biological processes and pathways are the same, but these are split into their own \"kind\"."
   ]
  },
  {
   "cell_type": "code",
   "execution_count": 9,
   "id": "d1eff662",
   "metadata": {},
   "outputs": [
    {
     "data": {
      "text/plain": [
       "11381"
      ]
     },
     "execution_count": 9,
     "metadata": {},
     "output_type": "execute_result"
    }
   ],
   "source": [
    "df[df.kind == \"Biological Process\"].count()[\"identifier\"]"
   ]
  },
  {
   "cell_type": "markdown",
   "id": "d323a014",
   "metadata": {},
   "source": [
    "## Mapping Pathways from WikiPathways and GO\n",
    "\n",
    "WikiPathway and GO are possible to map to standard CURIEs with string operations"
   ]
  },
  {
   "cell_type": "code",
   "execution_count": 10,
   "id": "c0575e10",
   "metadata": {},
   "outputs": [],
   "source": [
    "idx = (df.kind == \"Pathway\") & (df.source == \"WikiPathways\")\n",
    "wikipathways_mapping = {wpid: \"wikipathways:\" + wpid.split(\"_\")[0] for wpid in df[idx].identifier}"
   ]
  },
  {
   "cell_type": "code",
   "execution_count": 11,
   "id": "163227f3",
   "metadata": {},
   "outputs": [],
   "source": [
    "go_mapping = {\n",
    "    go_curie: go_curie.lower() for go_curie in df[df.kind == \"Biological Process\"].identifier\n",
    "}"
   ]
  },
  {
   "cell_type": "markdown",
   "id": "789f37e0",
   "metadata": {},
   "source": [
    "## Grounding Pathways from Reactome and NCI-PID\n",
    "\n",
    "Unfortunately, Hetionet imports pathways via Pathway Commons, so its provenance information is mostly lost (i.e., the identifiers are opaque)."
   ]
  },
  {
   "cell_type": "code",
   "execution_count": 12,
   "id": "0502ca36",
   "metadata": {},
   "outputs": [
    {
     "name": "stderr",
     "output_type": "stream",
     "text": [
      "WARNING: [2022-10-28 18:39:41] bioversions.sources.ols - [ypo] Missing information in OLS\n"
     ]
    },
    {
     "data": {
      "application/vnd.jupyter.widget-view+json": {
       "model_id": "c4246d2b997743f79c23e4f7563d4794",
       "version_major": 2,
       "version_minor": 0
      },
      "text/plain": [
       "[pid] mapping:   0%|          | 0.00/211 [00:00<?, ?name/s]"
      ]
     },
     "metadata": {},
     "output_type": "display_data"
    },
    {
     "name": "stdout",
     "output_type": "stream",
     "text": [
      "Pid species count: Counter({None: 211})\n"
     ]
    },
    {
     "data": {
      "application/vnd.jupyter.widget-view+json": {
       "model_id": "29aaf09c3e674e36983dd73c65ba709c",
       "version_major": 2,
       "version_minor": 0
      },
      "text/plain": [
       "Grounding:   0%|          | 0.00/220 [00:00<?, ?it/s]"
      ]
     },
     "metadata": {},
     "output_type": "display_data"
    },
    {
     "name": "stdout",
     "output_type": "stream",
     "text": [
      "Pid got 194/220 (88.2%) groundings\n"
     ]
    },
    {
     "data": {
      "application/vnd.jupyter.widget-view+json": {
       "model_id": "739a65423af9420a942de51bce6faf28",
       "version_major": 2,
       "version_minor": 0
      },
      "text/plain": [
       "[reactome] mapping:   0%|          | 0.00/22.0k [00:00<?, ?name/s]"
      ]
     },
     "metadata": {},
     "output_type": "display_data"
    },
    {
     "name": "stdout",
     "output_type": "stream",
     "text": [
      "Reactome species count: Counter({'9606': 2601, '10090': 1715, '9031': 1706, '10116': 1702, '9913': 1696, '7955': 1676, '9823': 1660, '9615': 1657, '8364': 1580, '7227': 1477, '6239': 1304, '44689': 982, '4896': 819, '4932': 812, '5833': 599, '1773': 13})\n"
     ]
    },
    {
     "data": {
      "application/vnd.jupyter.widget-view+json": {
       "model_id": "dda4acbfafdd4223b10cc2a6deafbfd1",
       "version_major": 2,
       "version_minor": 0
      },
      "text/plain": [
       "Grounding:   0%|          | 0.00/1.31k [00:00<?, ?it/s]"
      ]
     },
     "metadata": {},
     "output_type": "display_data"
    },
    {
     "name": "stdout",
     "output_type": "stream",
     "text": [
      "Reactome got 1,097/1,308 (83.9%) groundings\n"
     ]
    }
   ],
   "source": [
    "def get_mappings(prefix, source):\n",
    "    grounder = get_grounder(prefix=prefix)\n",
    "    counter = Counter(term.organism for terms in grounder.entries.values() for term in terms)\n",
    "    print(f\"{prefix.capitalize()} species count: {counter}\")\n",
    "\n",
    "    idx = (df.kind == \"Pathway\") & (df.source == source)\n",
    "    it = tqdm(df[idx].values, unit_scale=True, desc=\"Grounding\")\n",
    "    rv = {}\n",
    "    for _, identifier, name, _, _, _ in it:\n",
    "        res = grounder.ground(name, organisms=[\"9606\"])\n",
    "        if res:\n",
    "            rv[identifier] = prefix + \":\" + res[0].term.id\n",
    "\n",
    "    total = idx.sum()\n",
    "    n = len(rv)\n",
    "    print(f\"{prefix.capitalize()} got {n:,}/{total:,} ({n/total:.1%}) groundings\")\n",
    "    return rv\n",
    "\n",
    "\n",
    "pid_mapping = get_mappings(\"pid\", \"PID via Pathway Commons\")\n",
    "reactome_mapping = get_mappings(\"reactome\", \"Reactome via Pathway Commons\")"
   ]
  },
  {
   "cell_type": "markdown",
   "id": "18795184",
   "metadata": {},
   "source": [
    "## Compare "
   ]
  },
  {
   "cell_type": "code",
   "execution_count": 16,
   "id": "4fa7074f",
   "metadata": {},
   "outputs": [
    {
     "data": {
      "application/vnd.jupyter.widget-view+json": {
       "model_id": "04eabb2fefdd4b09b30c82c486849a9e",
       "version_major": 2,
       "version_minor": 0
      },
      "text/plain": [
       "reactome - go:   0%|          | 0.00/12.5M [00:00<?, ?pair/s]"
      ]
     },
     "metadata": {},
     "output_type": "display_data"
    },
    {
     "name": "stdout",
     "output_type": "stream",
     "text": [
      "reactome - go had 95\n"
     ]
    },
    {
     "data": {
      "application/vnd.jupyter.widget-view+json": {
       "model_id": "a0f61015cbd24b1b9503fb61344a61db",
       "version_major": 2,
       "version_minor": 0
      },
      "text/plain": [
       "reactome - wikipathways:   0%|          | 0.00/323k [00:00<?, ?pair/s]"
      ]
     },
     "metadata": {},
     "output_type": "display_data"
    },
    {
     "name": "stdout",
     "output_type": "stream",
     "text": [
      "reactome - wikipathways had 42\n"
     ]
    },
    {
     "data": {
      "application/vnd.jupyter.widget-view+json": {
       "model_id": "8ca7880ce9174ea886f2cd89a9c336ff",
       "version_major": 2,
       "version_minor": 0
      },
      "text/plain": [
       "reactome - pid:   0%|          | 0.00/213k [00:00<?, ?pair/s]"
      ]
     },
     "metadata": {},
     "output_type": "display_data"
    },
    {
     "name": "stdout",
     "output_type": "stream",
     "text": [
      "reactome - pid had 0\n"
     ]
    },
    {
     "data": {
      "application/vnd.jupyter.widget-view+json": {
       "model_id": "251f0175becd437c83b55a1a52326252",
       "version_major": 2,
       "version_minor": 0
      },
      "text/plain": [
       "go - wikipathways:   0%|          | 0.00/3.35M [00:00<?, ?pair/s]"
      ]
     },
     "metadata": {},
     "output_type": "display_data"
    },
    {
     "name": "stdout",
     "output_type": "stream",
     "text": [
      "go - wikipathways had 34\n"
     ]
    },
    {
     "data": {
      "application/vnd.jupyter.widget-view+json": {
       "model_id": "c0399cc3bba54e83a1cd3a69e94b75ce",
       "version_major": 2,
       "version_minor": 0
      },
      "text/plain": [
       "go - pid:   0%|          | 0.00/2.21M [00:00<?, ?pair/s]"
      ]
     },
     "metadata": {},
     "output_type": "display_data"
    },
    {
     "name": "stdout",
     "output_type": "stream",
     "text": [
      "go - pid had 0\n"
     ]
    },
    {
     "data": {
      "application/vnd.jupyter.widget-view+json": {
       "model_id": "62a36e30724c4932a8695dae705f3d6a",
       "version_major": 2,
       "version_minor": 0
      },
      "text/plain": [
       "wikipathways - pid:   0%|          | 0.00/57.0k [00:00<?, ?pair/s]"
      ]
     },
     "metadata": {},
     "output_type": "display_data"
    },
    {
     "name": "stdout",
     "output_type": "stream",
     "text": [
      "wikipathways - pid had 0\n"
     ]
    }
   ],
   "source": [
    "mappings = [\n",
    "    (\"reactome\", reactome_mapping),\n",
    "    (\"go\", go_mapping),\n",
    "    (\"wikipathways\", wikipathways_mapping),\n",
    "    (\"pid\", pid_mapping),\n",
    "]\n",
    "\n",
    "merge_graph = nx.Graph()\n",
    "\n",
    "for (p1, d1), (p2, d2) in itt.combinations(mappings, 2):\n",
    "    label = f\"{p1} - {p2}\"\n",
    "    it = tqdm(\n",
    "        itt.product(d1.items(), d2.items()),\n",
    "        desc=label,\n",
    "        total=len(d1) * len(d2),\n",
    "        unit_scale=True,\n",
    "        unit=\"pair\",\n",
    "    )\n",
    "    c = 0\n",
    "    for (hetio_id_1, curie_1), (hetio_id_2, curie_2) in it:\n",
    "        if true_graph.has_edge(curie_1, curie_2):\n",
    "            merge_graph.add_edge(hetio_id_1, hetio_id_2)\n",
    "            c += 1\n",
    "    print(label, \"had\", c)"
   ]
  },
  {
   "cell_type": "code",
   "execution_count": 14,
   "id": "701e1b27",
   "metadata": {},
   "outputs": [
    {
     "name": "stdout",
     "output_type": "stream",
     "text": [
      "There are 318 that participate in duplicates, forming 150 connected components in the mapping graph. Therefore, 168 nodes are duplicates.\n"
     ]
    }
   ],
   "source": [
    "n_components = len(list(nx.connected_components(merge_graph)))\n",
    "n_nodes = merge_graph.number_of_nodes()\n",
    "duplicates = n_nodes - n_components\n",
    "\n",
    "print(\n",
    "    f\"There are {n_nodes} that participate in duplicates, \"\n",
    "    f\"forming {n_components} connected components in the mapping graph. \"\n",
    "    f\"Therefore, {duplicates} nodes are duplicates.\"\n",
    ")"
   ]
  },
  {
   "cell_type": "markdown",
   "id": "7006ecec",
   "metadata": {},
   "source": [
    "# Identifying Redundant Phenotypes\n",
    "\n",
    "The next investigation will see if any side effects, symptoms, and diseases are actually mapped to each other."
   ]
  }
 ],
 "metadata": {
  "kernelspec": {
   "display_name": "Python 3 (ipykernel)",
   "language": "python",
   "name": "python3"
  },
  "language_info": {
   "codemirror_mode": {
    "name": "ipython",
    "version": 3
   },
   "file_extension": ".py",
   "mimetype": "text/x-python",
   "name": "python",
   "nbconvert_exporter": "python",
   "pygments_lexer": "ipython3",
   "version": "3.10.8"
  }
 },
 "nbformat": 4,
 "nbformat_minor": 5
}
